{
  "nbformat": 4,
  "nbformat_minor": 0,
  "metadata": {
    "colab": {
      "provenance": []
    },
    "kernelspec": {
      "name": "python3",
      "display_name": "Python 3"
    },
    "language_info": {
      "name": "python"
    }
  },
  "cells": [
    {
      "cell_type": "code",
      "execution_count": null,
      "metadata": {
        "id": "HIjNqTRkyL2V"
      },
      "outputs": [],
      "source": [
        "!pip install cftime\n",
        "!pip install utils\n",
        "!pip install netCDF4 \n",
        "!pip install scipy\n",
        "!pip install \"xarray[io]\"\n",
        "!pip install kneed\n",
        "!pip install importlib-metadata==4.13.0 \n",
        "!pip install scikit-learn-extra"
      ]
    },
    {
      "cell_type": "code",
      "source": [
        "from google.colab import drive\n",
        "drive.mount('/content/drive')"
      ],
      "metadata": {
        "colab": {
          "base_uri": "https://localhost:8080/"
        },
        "id": "oIllf2My1FLr",
        "outputId": "c4ad7516-42ab-4c34-f546-ef0d2b78e145"
      },
      "execution_count": null,
      "outputs": [
        {
          "output_type": "stream",
          "name": "stderr",
          "text": [
            "/usr/local/lib/python3.7/dist-packages/xarray/backends/cfgrib_.py:28: UserWarning: Failed to load cfgrib - most likely there is a problem accessing the ecCodes library. Try `import cfgrib` to get the full error message\n",
            "  \"Failed to load cfgrib - most likely there is a problem accessing the ecCodes library. \"\n"
          ]
        },
        {
          "output_type": "stream",
          "name": "stdout",
          "text": [
            "Mounted at /content/drive\n"
          ]
        },
        {
          "output_type": "stream",
          "name": "stderr",
          "text": [
            "/usr/local/lib/python3.7/dist-packages/xarray/backends/plugins.py:68: RuntimeWarning: Engine 'cfgrib' loading failed:\n",
            "Cannot find the ecCodes library\n",
            "  warnings.warn(f\"Engine {name!r} loading failed:\\n{ex}\", RuntimeWarning)\n"
          ]
        }
      ]
    },
    {
      "cell_type": "code",
      "source": [
        "#importing Libraries\n",
        "import pandas as pd\n",
        "import numpy as np\n",
        "import xarray as xr\n",
        "import netCDF4 as nc\n",
        "import matplotlib.pyplot as plt\n",
        "import dask.dataframe as dd\n",
        "from sklearn.preprocessing import StandardScaler\n",
        "from sklearn.metrics import silhouette_score\n",
        "from sklearn.neighbors import NearestNeighbors\n",
        "from sklearn import metrics\n",
        "from sklearn.metrics import v_measure_score\n",
        "from sklearn.decomposition import PCA\n",
        "from sklearn_extra.cluster import KMedoids"
      ],
      "metadata": {
        "id": "LSyI27391Ohp"
      },
      "execution_count": null,
      "outputs": []
    },
    {
      "cell_type": "code",
      "source": [
        "path1 = ('/content/drive/MyDrive/Multivariate Data Independent Study/mock.nc')\n",
        "path2 = ('/content/drive/MyDrive/Multivariate Data Independent Study/mock_v2.1.nc')\n",
        "path3 = ('/content/drive/MyDrive/Multivariate Data Independent Study/mock_v3.1.1.nc')\n",
        "path4 = ('/content/drive/MyDrive/Multivariate Data Independent Study/mock_v4.nc')\n",
        "path5 = ('/content/drive/MyDrive/Multivariate Data Independent Study/New_ERA5_meteo_sfc_2021_daily.csv')\n",
        "path6 = ('/content/drive/MyDrive/Multivariate Data Independent Study/ERA5_meteo_sfc_2021_hourly.nc')\n",
        "path6 = ('/content/drive/MyDrive/Multivariate Data Independent Study/rdata_hourly.csv')\n",
        "path7 = ('/content/drive/MyDrive/Multivariate Data Independent Study/ERA5_meteo_sfc_2021_hourly_smalldomain.nc')\n",
        "path8 = ('/content/drive/MyDrive/Multivariate Data Independent Study/SST_ONLY_ERA5_meteo_sfc_2021_daily.csv')\n",
        "\n",
        "#data1 = xr.open_dataset(path2, decode_times=False) #To view the date as integers of 0, 1, 2,....\n",
        "data1 = xr.open_dataset(path1) # To view time in datetime format\n",
        "data2 = xr.open_dataset(path2)\n",
        "data3 = xr.open_dataset(path3)\n",
        "data4 = xr.open_dataset(path4)\n",
        "data5 = pd.read_csv(path5)\n",
        "data5=data5.drop(columns=['Unnamed: 0'])\n",
        "data6 = pd.read_csv(path8)\n",
        "data6=data6.drop(columns=['Unnamed: 0'])\n",
        "#datat6 = pd.read_csv(path6)\n",
        "#data7 = xr.open_dataset(path7)"
      ],
      "metadata": {
        "id": "Oi6wVdze_8f7"
      },
      "execution_count": null,
      "outputs": []
    },
    {
      "cell_type": "code",
      "source": [
        "def transformdmock(x):\n",
        "  import dask.dataframe\n",
        "# Transforming Data\n",
        "  dask_df = x.to_dask_dataframe(dim_order=None, set_index=False)\n",
        "  dd = dask_df.compute()\n",
        "  sst_data_trans = pd.DataFrame()\n",
        "  t2m_data_trans = pd.DataFrame()\n",
        "\n",
        "  for i in range(0,dd.shape[0]):\n",
        "    b=('sst'+'('+str(dd.lat[i])+','+str(dd.lon[i])+')')\n",
        "    c=('t2m'+'('+str(dd.lat[i])+','+str(dd.lon[i])+')')\n",
        "\n",
        "    sst_data_trans.loc[dd.time[i], b] = dd.sst[i]\n",
        "    t2m_data_trans.loc[dd.time[i], c] = dd.t2m[i]\n",
        "\n",
        "#Concating the variables \n",
        "  trans_concat = pd.concat([sst_data_trans, t2m_data_trans], axis=1)\n",
        "#Scaling   \n",
        "  scaler = StandardScaler()\n",
        "  trans_concat_scaled = scaler.fit_transform(trans_concat)\n",
        "  return trans_concat_scaled"
      ],
      "metadata": {
        "id": "yfJrJ7zcAGyy"
      },
      "execution_count": null,
      "outputs": []
    },
    {
      "cell_type": "code",
      "source": [
        "mock4= transformdmock(data4)\n"
      ],
      "metadata": {
        "id": "3ruJn5PLAMfK"
      },
      "execution_count": null,
      "outputs": []
    },
    {
      "cell_type": "markdown",
      "metadata": {
        "id": "zZMXgl0ZQU45"
      },
      "source": [
        "#RMSE"
      ]
    },
    {
      "cell_type": "code",
      "execution_count": null,
      "metadata": {
        "id": "QfmTw5oiQPnA"
      },
      "outputs": [],
      "source": [
        "# Non-normalized\n",
        "# Function that creates a dictionary that holds the values of dates in each cluster\n",
        "def get_datewise_clusters(formed_clusters): # classification\n",
        "  Dates_Cluster = {}\n",
        "  for i in set(formed_clusters): # classification\n",
        "    Dates_Cluster['Dates_Cluster'+str(i)] = trans_data.index[trans_data.Cluster == i].to_list()\n",
        "  return Dates_Cluster"
      ]
    },
    {
      "cell_type": "code",
      "execution_count": null,
      "metadata": {
        "id": "GtBgywCsQQuN"
      },
      "outputs": [],
      "source": [
        "# Non-normalized\n",
        "# Function that creats a dictionary that holds all the clusters\n",
        "def n_nor_get_clusters(input,formed_clusters): # classification\n",
        "  com_arr = []\n",
        "  Clusters = {}\n",
        "  Dates_Cluster = get_datewise_clusters(formed_clusters)\n",
        "  for i in set(formed_clusters):\n",
        "    for j in Dates_Cluster['Dates_Cluster'+str(i)]:\n",
        "      arr = np.array(input.isel(time=j).to_array()) # input is data\n",
        "      com_arr.append(arr)\n",
        "    Clusters['Cluster' + str(i)] = np.array(com_arr)\n",
        "    com_arr = []\n",
        "  return Clusters    "
      ]
    },
    {
      "cell_type": "code",
      "execution_count": null,
      "metadata": {
        "id": "8KefVhBsRqzf"
      },
      "outputs": [],
      "source": [
        "# Non-normalized\n",
        "# Function that creates a dictionary that holds all the cluster centers\n",
        "def n_nor_get_cluster_centers(input,formed_clusters): #classification\n",
        "  Cluster_Centers = {}\n",
        "  Clusters = n_nor_get_clusters(input,formed_clusters)\n",
        "  for i in set(formed_clusters):\n",
        "    Cluster_Centers['Cluster_Center' + str(i)] = np.mean(Clusters['Cluster' + str(i)],axis=0)\n",
        "  return Cluster_Centers"
      ]
    },
    {
      "cell_type": "code",
      "execution_count": null,
      "metadata": {
        "id": "kJsCREqbRt4o"
      },
      "outputs": [],
      "source": [
        "# Non-normalized\n",
        "def handle_missing_values(input):\n",
        "  var_mean = {}\n",
        "  for i in input.data_vars:\n",
        "    if input[i].isnull().sum().item() > 0:\n",
        "      print(i,'has null values')\n",
        "      var_mean[str(i) + '_mean'] = input[i].mean().item()\n",
        "      input[i] = input[i].fillna(var_mean[str(i) + '_mean'])\n",
        "  return input"
      ]
    },
    {
      "cell_type": "code",
      "execution_count": null,
      "metadata": {
        "id": "IftnARdd0dVo"
      },
      "outputs": [],
      "source": [
        "# Non-normalized \n",
        "#Intra RMSE Calculation Function\n",
        "def n_nor_intra_rmse(input,formed_clusters):\n",
        "  sq_diff = []\n",
        "  intra_rmse = []\n",
        "  Clusters = n_nor_get_clusters(input,formed_clusters)\n",
        "  Cluster_Centers = n_nor_get_cluster_centers(input,formed_clusters)\n",
        "\n",
        "  for i in range(len(Clusters)):\n",
        "    for j in range(len(Clusters['Cluster' + str(i)])):\n",
        "      diff = Clusters['Cluster' + str(i)][j] - Cluster_Centers['Cluster_Center' + str(i)]\n",
        "      Sq_diff = (diff**2)\n",
        "      sq_diff.append(Sq_diff)\n",
        "    Sq_diff_sum = sum(sq_diff)\n",
        "    sq_diff = []\n",
        "    n = len(Clusters['Cluster' + str(i)])\n",
        "    Sqrt_diff_sum = np.sqrt(sum(sum(sum(Sq_diff_sum/n))))\n",
        "    intra_rmse.append(Sqrt_diff_sum)\n",
        "  return intra_rmse"
      ]
    },
    {
      "cell_type": "code",
      "execution_count": null,
      "metadata": {
        "id": "IBD7QQkCRvkw"
      },
      "outputs": [],
      "source": [
        "# Normalized\n",
        "# Function that creates two dictionaries that hold all the clusters and cluster centers\n",
        "def nor_get_clusters_and_centers(input,formed_clusters):\n",
        "  Clusters = {}\n",
        "  Cluster_Centers = {}\n",
        "  for i in set(formed_clusters):\n",
        "    Clusters['Cluster' + str(i)] = np.array(input[input.Cluster == i].drop(columns=['Cluster']))\n",
        "    Cluster_Centers['Cluster_Center' + str(i)] = np.mean(Clusters['Cluster' + str(i)],axis=0)\n",
        "  return Clusters,Cluster_Centers"
      ]
    },
    {
      "cell_type": "code",
      "execution_count": null,
      "metadata": {
        "id": "FaZZ4k4YRzCS"
      },
      "outputs": [],
      "source": [
        "# Normalized\n",
        "# Intra RMSE Calculation Function\n",
        "def nor_intra_rmse(input,formed_clusters):\n",
        "  intra_rmse = []\n",
        "  sq_diff = []\n",
        "  Clusters,Cluster_Centers = nor_get_clusters_and_centers(input,formed_clusters)\n",
        "  for i in range(len(Clusters)):\n",
        "    for j in range(len(Clusters['Cluster' + str(i)])):\n",
        "      diff = Clusters['Cluster' + str(i)][j] - Cluster_Centers['Cluster_Center' + str(i)]\n",
        "      Sq_diff = (diff**2)\n",
        "      sq_diff.append(Sq_diff)\n",
        "    Sq_diff_sum = sum(sum(sq_diff))\n",
        "    sq_diff = []\n",
        "    n = len(Clusters['Cluster' + str(i)])\n",
        "    Sqrt_diff_sum = np.sqrt(Sq_diff_sum/n)\n",
        "    intra_rmse.append(Sqrt_diff_sum)\n",
        "  return intra_rmse"
      ]
    },
    {
      "cell_type": "code",
      "execution_count": null,
      "metadata": {
        "id": "V_zSJdEalRoK"
      },
      "outputs": [],
      "source": [
        "# Non-normalized\n",
        "# Function that creates a dictionary that holds all the cluster centers\n",
        "def n_nor_get_cluster_centers(input,formed_clusters): #classification\n",
        "  Cluster_Centers = {}\n",
        "  Clusters = n_nor_get_clusters(input,formed_clusters)\n",
        "  for i in set(formed_clusters):\n",
        "    Cluster_Centers['Cluster_Center' + str(i)] = np.mean(Clusters['Cluster' + str(i)],axis=0)\n",
        "  return Cluster_Centers"
      ]
    },
    {
      "cell_type": "code",
      "execution_count": null,
      "metadata": {
        "id": "aBYhXOkBR06m"
      },
      "outputs": [],
      "source": [
        "# RMSE Calculation\n",
        "def RMSE(input,formed_clusters,frame,normalize=False):\n",
        "  inter_rmse = []\n",
        "  avg_cluster = {}\n",
        "\n",
        "  if normalize == False:\n",
        "    input = handle_missing_values(input)\n",
        "    Clusters = n_nor_get_clusters(input,formed_clusters)\n",
        "    mat = pd.DataFrame(columns=range(len(Clusters)),index=range(len(Clusters)))\n",
        "    for i in range(len(Clusters)):\n",
        "      avg_cluster['avg_cluster'+str(i)] = np.mean(Clusters['Cluster' + str(i)],axis=0)\n",
        "    for i in range(len(Clusters)):\n",
        "      for j in range(len(Clusters)):\n",
        "        if i == j:\n",
        "          a = n_nor_intra_rmse(input,formed_clusters)\n",
        "          mat[i].iloc[j] = round(a[i],2)\n",
        "        else:\n",
        "          diff = avg_cluster['avg_cluster' + str(i)] - avg_cluster['avg_cluster' + str(j)]\n",
        "          Sq_diff = (diff**2)\n",
        "          #Sq_diff_sum = sum(Sq_diff)\n",
        "          Sq_diff_sum = sum(sum(sum(Sq_diff)))\n",
        "          #inter_rmse.append(np.sqrt(Sq_diff_sum))\n",
        "          n = len(avg_cluster['avg_cluster'+str(i)][0])\n",
        "          Sqrt_diff_sum = np.sqrt(Sq_diff_sum/n)\n",
        "          mat[i].iloc[j] = round(Sqrt_diff_sum,2)\n",
        "          #print('Inter RMSE between cluster',i,'and cluster',j,'is:',inter_rmse.pop())\n",
        "        \n",
        "\n",
        "  else:\n",
        "\n",
        "  \n",
        "    Clusters, Cluster_Centers = nor_get_clusters_and_centers(frame,formed_clusters)\n",
        "\n",
        "    # Doing the below step after finding the cluster centers. Otherwise, we'll be calculating mean on date (index) too.\n",
        "    #trans_data = trans_data.reset_index()\n",
        "\n",
        "  \n",
        "    mat = pd.DataFrame(columns=range(len(Clusters)),index=range(len(Clusters)))\n",
        "    for i in range(len(Clusters)):\n",
        "      avg_cluster['avg_cluster'+str(i)] = np.mean(Clusters['Cluster' + str(i)],axis=0)\n",
        "    for i in range(len(Clusters)):\n",
        "      for j in range(len(Clusters)):\n",
        "        if i == j:\n",
        "          a = nor_intra_rmse(frame,formed_clusters)\n",
        "          mat[i].iloc[j] = round(a[i],2)\n",
        "        else:\n",
        "          diff = avg_cluster['avg_cluster' + str(i)] - avg_cluster['avg_cluster' + str(j)]\n",
        "          Sq_diff = (diff**2)\n",
        "          #Sq_diff_sum = sum(Sq_diff)\n",
        "          Sq_diff_sum = sum(Sq_diff)\n",
        "          #inter_rmse.append(np.sqrt(Sq_diff_sum))\n",
        "          Sqrt_diff_sum = np.sqrt(Sq_diff_sum)\n",
        "          mat[i].iloc[j] = round(Sqrt_diff_sum,2)\n",
        "          #print('Inter RMSE between cluster',i,'and cluster',j,'is:',inter_rmse.pop())\n",
        "\n",
        "  return mat"
      ]
    },
    {
      "cell_type": "markdown",
      "source": [
        "#K mediods Mock 4"
      ],
      "metadata": {
        "id": "FwUvsVmgMkfl"
      }
    },
    {
      "cell_type": "code",
      "source": [
        "from sklearn.metrics import silhouette_samples, silhouette_score"
      ],
      "metadata": {
        "id": "Gq3m7TZ8WLty"
      },
      "execution_count": null,
      "outputs": []
    },
    {
      "cell_type": "code",
      "source": [
        "def optimalk(data):\n",
        "  cost =[]\n",
        "  for i in range(1, 11):\n",
        "      KM =KMedoids(n_clusters = i, metric='cosine',init='k-medoids++', max_iter = 500)\n",
        "      KM.fit(data)\n",
        "      \n",
        "      # calculates squared error\n",
        "      # for the clustered points\n",
        "      cost.append(KM.inertia_)    \n",
        "  \n",
        "  # plot the cost against K values\n",
        "  plt.plot(range(1, 11), cost, color ='g', linewidth ='3')\n",
        "  plt.xlabel(\"Value of K\")\n",
        "  plt.ylabel(\"Squared Error (Cost)\")\n",
        "   # clear the plot\n",
        "  return plt.show()"
      ],
      "metadata": {
        "id": "5njaJhe_SjMQ"
      },
      "execution_count": null,
      "outputs": []
    },
    {
      "cell_type": "code",
      "source": [
        "def kmedoids(X,data): # eps1 for epsilon , min for minimum samples, x is for data input\n",
        "      kmedoids = KMedoids(n_clusters=X, metric='cosine',init='k-medoids++', ).fit(data)  # cosine distance calculation\n",
        "     # core_samples_mask = np.zeros_like(kmedoids.labels_, dtype=bool)\n",
        "      labels = kmedoids.labels_\n",
        "      frame = pd.DataFrame(data)\n",
        "      frame['Cluster'] = labels\n",
        "      frame['Cluster'].value_counts()\n",
        "      print(\"Estimated number of clusters: %d\" % X)\n",
        "      print(frame['Cluster'].value_counts())\n",
        "      #print(\"Silhouette Coefficient: %0.3f\" % silhouette_score(x, labels))\n",
        "      return frame,labels"
      ],
      "metadata": {
        "id": "gcbTq-VCMqUa"
      },
      "execution_count": null,
      "outputs": []
    },
    {
      "cell_type": "code",
      "source": [
        "optimalk(mock4)"
      ],
      "metadata": {
        "colab": {
          "base_uri": "https://localhost:8080/",
          "height": 279
        },
        "id": "7qBHMmS9TRqS",
        "outputId": "43f46cba-cd30-49ee-cf9d-c666ced8ad3f"
      },
      "execution_count": null,
      "outputs": [
        {
          "output_type": "display_data",
          "data": {
            "text/plain": [
              "<Figure size 432x288 with 1 Axes>"
            ],
            "image/png": "[encoded data removed]"
          },
          "metadata": {
            "needs_background": "light"
          }
        }
      ]
    },
    {
      "cell_type": "code",
      "source": [
        " frame1,label1= kmedoids(4,mock4)\n",
        " silhouette_score(mock4, label1, metric='cosine')"
      ],
      "metadata": {
        "colab": {
          "base_uri": "https://localhost:8080/"
        },
        "id": "7yQTwEw1Neaz",
        "outputId": "ebf360b5-de00-4974-94a7-dc9d13e1483a"
      },
      "execution_count": null,
      "outputs": [
        {
          "output_type": "stream",
          "name": "stdout",
          "text": [
            "Estimated number of clusters: 4\n",
            "3    5\n",
            "0    5\n",
            "1    5\n",
            "2    5\n",
            "Name: Cluster, dtype: int64\n"
          ]
        },
        {
          "output_type": "execute_result",
          "data": {
            "text/plain": [
              "0.9999999999999698"
            ]
          },
          "metadata": {},
          "execution_count": 80
        }
      ]
    },
    {
      "cell_type": "code",
      "source": [
        "print(\"RMSE | Normalized with Mock\")\n",
        "final2 = RMSE(mock4,label1,frame1,True)\n",
        "final2"
      ],
      "metadata": {
        "colab": {
          "base_uri": "https://localhost:8080/",
          "height": 192
        },
        "id": "wm4dgPWeTkKG",
        "outputId": "9585ce6b-cab9-46d8-9608-bb656a15d0de"
      },
      "execution_count": null,
      "outputs": [
        {
          "output_type": "stream",
          "name": "stdout",
          "text": [
            "RMSE | Normalized with Mock\n"
          ]
        },
        {
          "output_type": "execute_result",
          "data": {
            "text/plain": [
              "       0      1      2      3\n",
              "0    0.0  28.06   5.96   28.2\n",
              "1  28.06    0.0  28.03   2.99\n",
              "2   5.96  28.03    0.0  28.05\n",
              "3   28.2   2.99  28.05    0.0"
            ],
            "text/html": [
              "\n",
              "  <div id=\"df-3be0c24c-cb82-4266-8178-ecf2147eda45\">\n",
              "    <div class=\"colab-df-container\">\n",
              "      <div>\n",
              "<style scoped>\n",
              "    .dataframe tbody tr th:only-of-type {\n",
              "        vertical-align: middle;\n",
              "    }\n",
              "\n",
              "    .dataframe tbody tr th {\n",
              "        vertical-align: top;\n",
              "    }\n",
              "\n",
              "    .dataframe thead th {\n",
              "        text-align: right;\n",
              "    }\n",
              "</style>\n",
              "<table border=\"1\" class=\"dataframe\">\n",
              "  <thead>\n",
              "    <tr style=\"text-align: right;\">\n",
              "      <th></th>\n",
              "      <th>0</th>\n",
              "      <th>1</th>\n",
              "      <th>2</th>\n",
              "      <th>3</th>\n",
              "    </tr>\n",
              "  </thead>\n",
              "  <tbody>\n",
              "    <tr>\n",
              "      <th>0</th>\n",
              "      <td>0.0</td>\n",
              "      <td>28.06</td>\n",
              "      <td>5.96</td>\n",
              "      <td>28.2</td>\n",
              "    </tr>\n",
              "    <tr>\n",
              "      <th>1</th>\n",
              "      <td>28.06</td>\n",
              "      <td>0.0</td>\n",
              "      <td>28.03</td>\n",
              "      <td>2.99</td>\n",
              "    </tr>\n",
              "    <tr>\n",
              "      <th>2</th>\n",
              "      <td>5.96</td>\n",
              "      <td>28.03</td>\n",
              "      <td>0.0</td>\n",
              "      <td>28.05</td>\n",
              "    </tr>\n",
              "    <tr>\n",
              "      <th>3</th>\n",
              "      <td>28.2</td>\n",
              "      <td>2.99</td>\n",
              "      <td>28.05</td>\n",
              "      <td>0.0</td>\n",
              "    </tr>\n",
              "  </tbody>\n",
              "</table>\n",
              "</div>\n",
              "      <button class=\"colab-df-convert\" onclick=\"convertToInteractive('df-3be0c24c-cb82-4266-8178-ecf2147eda45')\"\n",
              "              title=\"Convert this dataframe to an interactive table.\"\n",
              "              style=\"display:none;\">\n",
              "        \n",
              "  <svg xmlns=\"http://www.w3.org/2000/svg\" height=\"24px\"viewBox=\"0 0 24 24\"\n",
              "       width=\"24px\">\n",
              "    <path d=\"M0 0h24v24H0V0z\" fill=\"none\"/>\n",
              "    <path d=\"M18.56 5.44l.94 2.06.94-2.06 2.06-.94-2.06-.94-.94-2.06-.94 2.06-2.06.94zm-11 1L8.5 8.5l.94-2.06 2.06-.94-2.06-.94L8.5 2.5l-.94 2.06-2.06.94zm10 10l.94 2.06.94-2.06 2.06-.94-2.06-.94-.94-2.06-.94 2.06-2.06.94z\"/><path d=\"M17.41 7.96l-1.37-1.37c-.4-.4-.92-.59-1.43-.59-.52 0-1.04.2-1.43.59L10.3 9.45l-7.72 7.72c-.78.78-.78 2.05 0 2.83L4 21.41c.39.39.9.59 1.41.59.51 0 1.02-.2 1.41-.59l7.78-7.78 2.81-2.81c.8-.78.8-2.07 0-2.86zM5.41 20L4 18.59l7.72-7.72 1.47 1.35L5.41 20z\"/>\n",
              "  </svg>\n",
              "      </button>\n",
              "      \n",
              "  <style>\n",
              "    .colab-df-container {\n",
              "      display:flex;\n",
              "      flex-wrap:wrap;\n",
              "      gap: 12px;\n",
              "    }\n",
              "\n",
              "    .colab-df-convert {\n",
              "      background-color: #E8F0FE;\n",
              "      border: none;\n",
              "      border-radius: 50%;\n",
              "      cursor: pointer;\n",
              "      display: none;\n",
              "      fill: #1967D2;\n",
              "      height: 32px;\n",
              "      padding: 0 0 0 0;\n",
              "      width: 32px;\n",
              "    }\n",
              "\n",
              "    .colab-df-convert:hover {\n",
              "      background-color: #E2EBFA;\n",
              "      box-shadow: 0px 1px 2px rgba(60, 64, 67, 0.3), 0px 1px 3px 1px rgba(60, 64, 67, 0.15);\n",
              "      fill: #174EA6;\n",
              "    }\n",
              "\n",
              "    [theme=dark] .colab-df-convert {\n",
              "      background-color: #3B4455;\n",
              "      fill: #D2E3FC;\n",
              "    }\n",
              "\n",
              "    [theme=dark] .colab-df-convert:hover {\n",
              "      background-color: #434B5C;\n",
              "      box-shadow: 0px 1px 3px 1px rgba(0, 0, 0, 0.15);\n",
              "      filter: drop-shadow(0px 1px 2px rgba(0, 0, 0, 0.3));\n",
              "      fill: #FFFFFF;\n",
              "    }\n",
              "  </style>\n",
              "\n",
              "      <script>\n",
              "        const buttonEl =\n",
              "          document.querySelector('#df-3be0c24c-cb82-4266-8178-ecf2147eda45 button.colab-df-convert');\n",
              "        buttonEl.style.display =\n",
              "          google.colab.kernel.accessAllowed ? 'block' : 'none';\n",
              "\n",
              "        async function convertToInteractive(key) {\n",
              "          const element = document.querySelector('#df-3be0c24c-cb82-4266-8178-ecf2147eda45');\n",
              "          const dataTable =\n",
              "            await google.colab.kernel.invokeFunction('convertToInteractive',\n",
              "                                                     [key], {});\n",
              "          if (!dataTable) return;\n",
              "\n",
              "          const docLinkHtml = 'Like what you see? Visit the ' +\n",
              "            '<a target=\"_blank\" href=https://colab.research.google.com/notebooks/data_table.ipynb>data table notebook</a>'\n",
              "            + ' to learn more about interactive tables.';\n",
              "          element.innerHTML = '';\n",
              "          dataTable['output_type'] = 'display_data';\n",
              "          await google.colab.output.renderOutput(dataTable, element);\n",
              "          const docLink = document.createElement('div');\n",
              "          docLink.innerHTML = docLinkHtml;\n",
              "          element.appendChild(docLink);\n",
              "        }\n",
              "      </script>\n",
              "    </div>\n",
              "  </div>\n",
              "  "
            ]
          },
          "metadata": {},
          "execution_count": 62
        }
      ]
    },
    {
      "cell_type": "markdown",
      "source": [
        "#Kmediods Real data"
      ],
      "metadata": {
        "id": "p1raAVdbTXNp"
      }
    },
    {
      "cell_type": "code",
      "source": [
        "#PCA\n",
        "def pca1(data,n): # data is data to be input , n is the number of components \n",
        "  pca = PCA(n_components=n) \n",
        "  pca.fit(data)\n",
        "\n",
        "  # Get pca scores\n",
        "  pca_scores = pca.transform(data)\n",
        "\n",
        "  # Convert pca_scores to a dataframe\n",
        "  scores_df = pd.DataFrame(pca_scores)\n",
        "\n",
        "  # Round to two decimals\n",
        "  scores_df = scores_df.round(2)\n",
        "\n",
        "  # Return scores\n",
        "  return scores_df"
      ],
      "metadata": {
        "id": "MayHPJPYU2mi"
      },
      "execution_count": null,
      "outputs": []
    },
    {
      "cell_type": "code",
      "source": [
        "optimalk(data5)"
      ],
      "metadata": {
        "colab": {
          "base_uri": "https://localhost:8080/",
          "height": 279
        },
        "id": "91JtM_HgTNeL",
        "outputId": "6418c3db-893e-4d6c-b497-1d53fd40d3e8"
      },
      "execution_count": null,
      "outputs": [
        {
          "output_type": "display_data",
          "data": {
            "text/plain": [
              "<Figure size 432x288 with 1 Axes>"
            ],
            "image/png": "[encoded data removed]"
          },
          "metadata": {
            "needs_background": "light"
          }
        }
      ]
    },
    {
      "cell_type": "code",
      "source": [
        "frame2,label2= kmedoids(4,data5)\n",
        "silhouette_score(data5, label2, metric='cosine')"
      ],
      "metadata": {
        "colab": {
          "base_uri": "https://localhost:8080/"
        },
        "id": "2cgABYjdVVav",
        "outputId": "5511e215-e9c5-4c25-9371-d25f0510784c"
      },
      "execution_count": null,
      "outputs": [
        {
          "output_type": "stream",
          "name": "stdout",
          "text": [
            "Estimated number of clusters: 4\n",
            "1    115\n",
            "2    103\n",
            "0     85\n",
            "3     62\n",
            "Name: Cluster, dtype: int64\n"
          ]
        },
        {
          "output_type": "execute_result",
          "data": {
            "text/plain": [
              "0.2995701018574052"
            ]
          },
          "metadata": {},
          "execution_count": 79
        }
      ]
    },
    {
      "cell_type": "code",
      "source": [
        "print(\"RMSE | Normalized with Mock\")\n",
        "final2 = RMSE(data5, label2,frame2,True)\n",
        "final2"
      ],
      "metadata": {
        "colab": {
          "base_uri": "https://localhost:8080/",
          "height": 192
        },
        "id": "0uoQPkv-XjuV",
        "outputId": "c222800d-9518-4545-d979-4aec27ce1e26"
      },
      "execution_count": null,
      "outputs": [
        {
          "output_type": "stream",
          "name": "stdout",
          "text": [
            "RMSE | Normalized with Mock\n"
          ]
        },
        {
          "output_type": "execute_result",
          "data": {
            "text/plain": [
              "        0       1       2       3\n",
              "0  101.13  116.63  100.39  106.86\n",
              "1  116.63   64.13  118.62   79.64\n",
              "2  100.39  118.62   81.08  120.29\n",
              "3  106.86   79.64  120.29  103.65"
            ],
            "text/html": [
              "\n",
              "  <div id=\"df-7952600a-49e6-496a-bd4b-5cff2a1488f1\">\n",
              "    <div class=\"colab-df-container\">\n",
              "      <div>\n",
              "<style scoped>\n",
              "    .dataframe tbody tr th:only-of-type {\n",
              "        vertical-align: middle;\n",
              "    }\n",
              "\n",
              "    .dataframe tbody tr th {\n",
              "        vertical-align: top;\n",
              "    }\n",
              "\n",
              "    .dataframe thead th {\n",
              "        text-align: right;\n",
              "    }\n",
              "</style>\n",
              "<table border=\"1\" class=\"dataframe\">\n",
              "  <thead>\n",
              "    <tr style=\"text-align: right;\">\n",
              "      <th></th>\n",
              "      <th>0</th>\n",
              "      <th>1</th>\n",
              "      <th>2</th>\n",
              "      <th>3</th>\n",
              "    </tr>\n",
              "  </thead>\n",
              "  <tbody>\n",
              "    <tr>\n",
              "      <th>0</th>\n",
              "      <td>101.13</td>\n",
              "      <td>116.63</td>\n",
              "      <td>100.39</td>\n",
              "      <td>106.86</td>\n",
              "    </tr>\n",
              "    <tr>\n",
              "      <th>1</th>\n",
              "      <td>116.63</td>\n",
              "      <td>64.13</td>\n",
              "      <td>118.62</td>\n",
              "      <td>79.64</td>\n",
              "    </tr>\n",
              "    <tr>\n",
              "      <th>2</th>\n",
              "      <td>100.39</td>\n",
              "      <td>118.62</td>\n",
              "      <td>81.08</td>\n",
              "      <td>120.29</td>\n",
              "    </tr>\n",
              "    <tr>\n",
              "      <th>3</th>\n",
              "      <td>106.86</td>\n",
              "      <td>79.64</td>\n",
              "      <td>120.29</td>\n",
              "      <td>103.65</td>\n",
              "    </tr>\n",
              "  </tbody>\n",
              "</table>\n",
              "</div>\n",
              "      <button class=\"colab-df-convert\" onclick=\"convertToInteractive('df-7952600a-49e6-496a-bd4b-5cff2a1488f1')\"\n",
              "              title=\"Convert this dataframe to an interactive table.\"\n",
              "              style=\"display:none;\">\n",
              "        \n",
              "  <svg xmlns=\"http://www.w3.org/2000/svg\" height=\"24px\"viewBox=\"0 0 24 24\"\n",
              "       width=\"24px\">\n",
              "    <path d=\"M0 0h24v24H0V0z\" fill=\"none\"/>\n",
              "    <path d=\"M18.56 5.44l.94 2.06.94-2.06 2.06-.94-2.06-.94-.94-2.06-.94 2.06-2.06.94zm-11 1L8.5 8.5l.94-2.06 2.06-.94-2.06-.94L8.5 2.5l-.94 2.06-2.06.94zm10 10l.94 2.06.94-2.06 2.06-.94-2.06-.94-.94-2.06-.94 2.06-2.06.94z\"/><path d=\"M17.41 7.96l-1.37-1.37c-.4-.4-.92-.59-1.43-.59-.52 0-1.04.2-1.43.59L10.3 9.45l-7.72 7.72c-.78.78-.78 2.05 0 2.83L4 21.41c.39.39.9.59 1.41.59.51 0 1.02-.2 1.41-.59l7.78-7.78 2.81-2.81c.8-.78.8-2.07 0-2.86zM5.41 20L4 18.59l7.72-7.72 1.47 1.35L5.41 20z\"/>\n",
              "  </svg>\n",
              "      </button>\n",
              "      \n",
              "  <style>\n",
              "    .colab-df-container {\n",
              "      display:flex;\n",
              "      flex-wrap:wrap;\n",
              "      gap: 12px;\n",
              "    }\n",
              "\n",
              "    .colab-df-convert {\n",
              "      background-color: #E8F0FE;\n",
              "      border: none;\n",
              "      border-radius: 50%;\n",
              "      cursor: pointer;\n",
              "      display: none;\n",
              "      fill: #1967D2;\n",
              "      height: 32px;\n",
              "      padding: 0 0 0 0;\n",
              "      width: 32px;\n",
              "    }\n",
              "\n",
              "    .colab-df-convert:hover {\n",
              "      background-color: #E2EBFA;\n",
              "      box-shadow: 0px 1px 2px rgba(60, 64, 67, 0.3), 0px 1px 3px 1px rgba(60, 64, 67, 0.15);\n",
              "      fill: #174EA6;\n",
              "    }\n",
              "\n",
              "    [theme=dark] .colab-df-convert {\n",
              "      background-color: #3B4455;\n",
              "      fill: #D2E3FC;\n",
              "    }\n",
              "\n",
              "    [theme=dark] .colab-df-convert:hover {\n",
              "      background-color: #434B5C;\n",
              "      box-shadow: 0px 1px 3px 1px rgba(0, 0, 0, 0.15);\n",
              "      filter: drop-shadow(0px 1px 2px rgba(0, 0, 0, 0.3));\n",
              "      fill: #FFFFFF;\n",
              "    }\n",
              "  </style>\n",
              "\n",
              "      <script>\n",
              "        const buttonEl =\n",
              "          document.querySelector('#df-7952600a-49e6-496a-bd4b-5cff2a1488f1 button.colab-df-convert');\n",
              "        buttonEl.style.display =\n",
              "          google.colab.kernel.accessAllowed ? 'block' : 'none';\n",
              "\n",
              "        async function convertToInteractive(key) {\n",
              "          const element = document.querySelector('#df-7952600a-49e6-496a-bd4b-5cff2a1488f1');\n",
              "          const dataTable =\n",
              "            await google.colab.kernel.invokeFunction('convertToInteractive',\n",
              "                                                     [key], {});\n",
              "          if (!dataTable) return;\n",
              "\n",
              "          const docLinkHtml = 'Like what you see? Visit the ' +\n",
              "            '<a target=\"_blank\" href=https://colab.research.google.com/notebooks/data_table.ipynb>data table notebook</a>'\n",
              "            + ' to learn more about interactive tables.';\n",
              "          element.innerHTML = '';\n",
              "          dataTable['output_type'] = 'display_data';\n",
              "          await google.colab.output.renderOutput(dataTable, element);\n",
              "          const docLink = document.createElement('div');\n",
              "          docLink.innerHTML = docLinkHtml;\n",
              "          element.appendChild(docLink);\n",
              "        }\n",
              "      </script>\n",
              "    </div>\n",
              "  </div>\n",
              "  "
            ]
          },
          "metadata": {},
          "execution_count": 85
        }
      ]
    },
    {
      "cell_type": "markdown",
      "source": [
        "#PCA Realworld"
      ],
      "metadata": {
        "id": "wBUjUOgbZkVf"
      }
    },
    {
      "cell_type": "code",
      "source": [
        "frame2,label2= kmedoids(4,pca1(data5,11))\n",
        "silhouette_score(data5, label2, metric='cosine')"
      ],
      "metadata": {
        "colab": {
          "base_uri": "https://localhost:8080/"
        },
        "id": "Le-CXNq1Zma9",
        "outputId": "61cd1778-ebfa-46bf-c7f4-c5f5784c5fa2"
      },
      "execution_count": null,
      "outputs": [
        {
          "output_type": "stream",
          "name": "stdout",
          "text": [
            "Estimated number of clusters: 4\n",
            "3    123\n",
            "2    103\n",
            "0     83\n",
            "1     56\n",
            "Name: Cluster, dtype: int64\n"
          ]
        },
        {
          "output_type": "execute_result",
          "data": {
            "text/plain": [
              "0.3230344419409978"
            ]
          },
          "metadata": {},
          "execution_count": 87
        }
      ]
    },
    {
      "cell_type": "code",
      "source": [
        "print(\"RMSE | Normalized with Mock\")\n",
        "final2 = RMSE(pca1(data5,11), label2,frame2,True)\n",
        "final2"
      ],
      "metadata": {
        "colab": {
          "base_uri": "https://localhost:8080/",
          "height": 192
        },
        "id": "8avzkTIAZuPE",
        "outputId": "2175d3e3-b62e-4832-fbcd-6809f4e56438"
      },
      "execution_count": null,
      "outputs": [
        {
          "output_type": "stream",
          "name": "stdout",
          "text": [
            "RMSE | Normalized with Mock\n"
          ]
        },
        {
          "output_type": "execute_result",
          "data": {
            "text/plain": [
              "        0       1       2       3\n",
              "0  101.61  114.99  100.56  114.76\n",
              "1  114.99   99.18   99.47   95.75\n",
              "2  100.56   99.47   72.54  123.63\n",
              "3  114.76   95.75  123.63   62.24"
            ],
            "text/html": [
              "\n",
              "  <div id=\"df-25251d91-7132-46b3-bd8e-35fa339a303c\">\n",
              "    <div class=\"colab-df-container\">\n",
              "      <div>\n",
              "<style scoped>\n",
              "    .dataframe tbody tr th:only-of-type {\n",
              "        vertical-align: middle;\n",
              "    }\n",
              "\n",
              "    .dataframe tbody tr th {\n",
              "        vertical-align: top;\n",
              "    }\n",
              "\n",
              "    .dataframe thead th {\n",
              "        text-align: right;\n",
              "    }\n",
              "</style>\n",
              "<table border=\"1\" class=\"dataframe\">\n",
              "  <thead>\n",
              "    <tr style=\"text-align: right;\">\n",
              "      <th></th>\n",
              "      <th>0</th>\n",
              "      <th>1</th>\n",
              "      <th>2</th>\n",
              "      <th>3</th>\n",
              "    </tr>\n",
              "  </thead>\n",
              "  <tbody>\n",
              "    <tr>\n",
              "      <th>0</th>\n",
              "      <td>101.61</td>\n",
              "      <td>114.99</td>\n",
              "      <td>100.56</td>\n",
              "      <td>114.76</td>\n",
              "    </tr>\n",
              "    <tr>\n",
              "      <th>1</th>\n",
              "      <td>114.99</td>\n",
              "      <td>99.18</td>\n",
              "      <td>99.47</td>\n",
              "      <td>95.75</td>\n",
              "    </tr>\n",
              "    <tr>\n",
              "      <th>2</th>\n",
              "      <td>100.56</td>\n",
              "      <td>99.47</td>\n",
              "      <td>72.54</td>\n",
              "      <td>123.63</td>\n",
              "    </tr>\n",
              "    <tr>\n",
              "      <th>3</th>\n",
              "      <td>114.76</td>\n",
              "      <td>95.75</td>\n",
              "      <td>123.63</td>\n",
              "      <td>62.24</td>\n",
              "    </tr>\n",
              "  </tbody>\n",
              "</table>\n",
              "</div>\n",
              "      <button class=\"colab-df-convert\" onclick=\"convertToInteractive('df-25251d91-7132-46b3-bd8e-35fa339a303c')\"\n",
              "              title=\"Convert this dataframe to an interactive table.\"\n",
              "              style=\"display:none;\">\n",
              "        \n",
              "  <svg xmlns=\"http://www.w3.org/2000/svg\" height=\"24px\"viewBox=\"0 0 24 24\"\n",
              "       width=\"24px\">\n",
              "    <path d=\"M0 0h24v24H0V0z\" fill=\"none\"/>\n",
              "    <path d=\"M18.56 5.44l.94 2.06.94-2.06 2.06-.94-2.06-.94-.94-2.06-.94 2.06-2.06.94zm-11 1L8.5 8.5l.94-2.06 2.06-.94-2.06-.94L8.5 2.5l-.94 2.06-2.06.94zm10 10l.94 2.06.94-2.06 2.06-.94-2.06-.94-.94-2.06-.94 2.06-2.06.94z\"/><path d=\"M17.41 7.96l-1.37-1.37c-.4-.4-.92-.59-1.43-.59-.52 0-1.04.2-1.43.59L10.3 9.45l-7.72 7.72c-.78.78-.78 2.05 0 2.83L4 21.41c.39.39.9.59 1.41.59.51 0 1.02-.2 1.41-.59l7.78-7.78 2.81-2.81c.8-.78.8-2.07 0-2.86zM5.41 20L4 18.59l7.72-7.72 1.47 1.35L5.41 20z\"/>\n",
              "  </svg>\n",
              "      </button>\n",
              "      \n",
              "  <style>\n",
              "    .colab-df-container {\n",
              "      display:flex;\n",
              "      flex-wrap:wrap;\n",
              "      gap: 12px;\n",
              "    }\n",
              "\n",
              "    .colab-df-convert {\n",
              "      background-color: #E8F0FE;\n",
              "      border: none;\n",
              "      border-radius: 50%;\n",
              "      cursor: pointer;\n",
              "      display: none;\n",
              "      fill: #1967D2;\n",
              "      height: 32px;\n",
              "      padding: 0 0 0 0;\n",
              "      width: 32px;\n",
              "    }\n",
              "\n",
              "    .colab-df-convert:hover {\n",
              "      background-color: #E2EBFA;\n",
              "      box-shadow: 0px 1px 2px rgba(60, 64, 67, 0.3), 0px 1px 3px 1px rgba(60, 64, 67, 0.15);\n",
              "      fill: #174EA6;\n",
              "    }\n",
              "\n",
              "    [theme=dark] .colab-df-convert {\n",
              "      background-color: #3B4455;\n",
              "      fill: #D2E3FC;\n",
              "    }\n",
              "\n",
              "    [theme=dark] .colab-df-convert:hover {\n",
              "      background-color: #434B5C;\n",
              "      box-shadow: 0px 1px 3px 1px rgba(0, 0, 0, 0.15);\n",
              "      filter: drop-shadow(0px 1px 2px rgba(0, 0, 0, 0.3));\n",
              "      fill: #FFFFFF;\n",
              "    }\n",
              "  </style>\n",
              "\n",
              "      <script>\n",
              "        const buttonEl =\n",
              "          document.querySelector('#df-25251d91-7132-46b3-bd8e-35fa339a303c button.colab-df-convert');\n",
              "        buttonEl.style.display =\n",
              "          google.colab.kernel.accessAllowed ? 'block' : 'none';\n",
              "\n",
              "        async function convertToInteractive(key) {\n",
              "          const element = document.querySelector('#df-25251d91-7132-46b3-bd8e-35fa339a303c');\n",
              "          const dataTable =\n",
              "            await google.colab.kernel.invokeFunction('convertToInteractive',\n",
              "                                                     [key], {});\n",
              "          if (!dataTable) return;\n",
              "\n",
              "          const docLinkHtml = 'Like what you see? Visit the ' +\n",
              "            '<a target=\"_blank\" href=https://colab.research.google.com/notebooks/data_table.ipynb>data table notebook</a>'\n",
              "            + ' to learn more about interactive tables.';\n",
              "          element.innerHTML = '';\n",
              "          dataTable['output_type'] = 'display_data';\n",
              "          await google.colab.output.renderOutput(dataTable, element);\n",
              "          const docLink = document.createElement('div');\n",
              "          docLink.innerHTML = docLinkHtml;\n",
              "          element.appendChild(docLink);\n",
              "        }\n",
              "      </script>\n",
              "    </div>\n",
              "  </div>\n",
              "  "
            ]
          },
          "metadata": {},
          "execution_count": 91
        }
      ]
    },
    {
      "cell_type": "markdown",
      "source": [
        "#SST_ONLY"
      ],
      "metadata": {
        "id": "0N1pgSs_XOiU"
      }
    },
    {
      "cell_type": "code",
      "source": [
        "optimalk(data6)"
      ],
      "metadata": {
        "colab": {
          "base_uri": "https://localhost:8080/",
          "height": 279
        },
        "id": "-p-xM791W4D3",
        "outputId": "bc4d8b75-a925-47fc-bed9-1101e31c1a69"
      },
      "execution_count": null,
      "outputs": [
        {
          "output_type": "display_data",
          "data": {
            "text/plain": [
              "<Figure size 432x288 with 1 Axes>"
            ],
            "image/png": "[encoded data removed]"
          },
          "metadata": {
            "needs_background": "light"
          }
        }
      ]
    },
    {
      "cell_type": "code",
      "source": [
        "frame4,label4= kmedoids(2,data6)\n",
        "silhouette_score(data6, label4, metric='cosine')"
      ],
      "metadata": {
        "colab": {
          "base_uri": "https://localhost:8080/"
        },
        "id": "0sa24CCWXS9r",
        "outputId": "a050514d-e9c8-451d-c007-af866aa351ef"
      },
      "execution_count": null,
      "outputs": [
        {
          "output_type": "stream",
          "name": "stdout",
          "text": [
            "Estimated number of clusters: 2\n",
            "1    192\n",
            "0    173\n",
            "Name: Cluster, dtype: int64\n"
          ]
        },
        {
          "output_type": "execute_result",
          "data": {
            "text/plain": [
              "0.9376464508758473"
            ]
          },
          "metadata": {},
          "execution_count": 84
        }
      ]
    },
    {
      "cell_type": "code",
      "source": [
        "print(\"RMSE | Normalized with SST only\")\n",
        "final2 = RMSE(data6, label4,frame4,True)\n",
        "final2"
      ],
      "metadata": {
        "colab": {
          "base_uri": "https://localhost:8080/",
          "height": 129
        },
        "id": "Gxc1eermXu9l",
        "outputId": "b26b23c8-e88b-495a-cddc-ff64acb66f10"
      },
      "execution_count": null,
      "outputs": [
        {
          "output_type": "stream",
          "name": "stdout",
          "text": [
            "RMSE | Normalized with SST only\n"
          ]
        },
        {
          "output_type": "execute_result",
          "data": {
            "text/plain": [
              "       0      1\n",
              "0  16.41  74.07\n",
              "1  74.07  17.72"
            ],
            "text/html": [
              "\n",
              "  <div id=\"df-a2271fc7-3688-42bf-85c1-f43e575286a4\">\n",
              "    <div class=\"colab-df-container\">\n",
              "      <div>\n",
              "<style scoped>\n",
              "    .dataframe tbody tr th:only-of-type {\n",
              "        vertical-align: middle;\n",
              "    }\n",
              "\n",
              "    .dataframe tbody tr th {\n",
              "        vertical-align: top;\n",
              "    }\n",
              "\n",
              "    .dataframe thead th {\n",
              "        text-align: right;\n",
              "    }\n",
              "</style>\n",
              "<table border=\"1\" class=\"dataframe\">\n",
              "  <thead>\n",
              "    <tr style=\"text-align: right;\">\n",
              "      <th></th>\n",
              "      <th>0</th>\n",
              "      <th>1</th>\n",
              "    </tr>\n",
              "  </thead>\n",
              "  <tbody>\n",
              "    <tr>\n",
              "      <th>0</th>\n",
              "      <td>16.41</td>\n",
              "      <td>74.07</td>\n",
              "    </tr>\n",
              "    <tr>\n",
              "      <th>1</th>\n",
              "      <td>74.07</td>\n",
              "      <td>17.72</td>\n",
              "    </tr>\n",
              "  </tbody>\n",
              "</table>\n",
              "</div>\n",
              "      <button class=\"colab-df-convert\" onclick=\"convertToInteractive('df-a2271fc7-3688-42bf-85c1-f43e575286a4')\"\n",
              "              title=\"Convert this dataframe to an interactive table.\"\n",
              "              style=\"display:none;\">\n",
              "        \n",
              "  <svg xmlns=\"http://www.w3.org/2000/svg\" height=\"24px\"viewBox=\"0 0 24 24\"\n",
              "       width=\"24px\">\n",
              "    <path d=\"M0 0h24v24H0V0z\" fill=\"none\"/>\n",
              "    <path d=\"M18.56 5.44l.94 2.06.94-2.06 2.06-.94-2.06-.94-.94-2.06-.94 2.06-2.06.94zm-11 1L8.5 8.5l.94-2.06 2.06-.94-2.06-.94L8.5 2.5l-.94 2.06-2.06.94zm10 10l.94 2.06.94-2.06 2.06-.94-2.06-.94-.94-2.06-.94 2.06-2.06.94z\"/><path d=\"M17.41 7.96l-1.37-1.37c-.4-.4-.92-.59-1.43-.59-.52 0-1.04.2-1.43.59L10.3 9.45l-7.72 7.72c-.78.78-.78 2.05 0 2.83L4 21.41c.39.39.9.59 1.41.59.51 0 1.02-.2 1.41-.59l7.78-7.78 2.81-2.81c.8-.78.8-2.07 0-2.86zM5.41 20L4 18.59l7.72-7.72 1.47 1.35L5.41 20z\"/>\n",
              "  </svg>\n",
              "      </button>\n",
              "      \n",
              "  <style>\n",
              "    .colab-df-container {\n",
              "      display:flex;\n",
              "      flex-wrap:wrap;\n",
              "      gap: 12px;\n",
              "    }\n",
              "\n",
              "    .colab-df-convert {\n",
              "      background-color: #E8F0FE;\n",
              "      border: none;\n",
              "      border-radius: 50%;\n",
              "      cursor: pointer;\n",
              "      display: none;\n",
              "      fill: #1967D2;\n",
              "      height: 32px;\n",
              "      padding: 0 0 0 0;\n",
              "      width: 32px;\n",
              "    }\n",
              "\n",
              "    .colab-df-convert:hover {\n",
              "      background-color: #E2EBFA;\n",
              "      box-shadow: 0px 1px 2px rgba(60, 64, 67, 0.3), 0px 1px 3px 1px rgba(60, 64, 67, 0.15);\n",
              "      fill: #174EA6;\n",
              "    }\n",
              "\n",
              "    [theme=dark] .colab-df-convert {\n",
              "      background-color: #3B4455;\n",
              "      fill: #D2E3FC;\n",
              "    }\n",
              "\n",
              "    [theme=dark] .colab-df-convert:hover {\n",
              "      background-color: #434B5C;\n",
              "      box-shadow: 0px 1px 3px 1px rgba(0, 0, 0, 0.15);\n",
              "      filter: drop-shadow(0px 1px 2px rgba(0, 0, 0, 0.3));\n",
              "      fill: #FFFFFF;\n",
              "    }\n",
              "  </style>\n",
              "\n",
              "      <script>\n",
              "        const buttonEl =\n",
              "          document.querySelector('#df-a2271fc7-3688-42bf-85c1-f43e575286a4 button.colab-df-convert');\n",
              "        buttonEl.style.display =\n",
              "          google.colab.kernel.accessAllowed ? 'block' : 'none';\n",
              "\n",
              "        async function convertToInteractive(key) {\n",
              "          const element = document.querySelector('#df-a2271fc7-3688-42bf-85c1-f43e575286a4');\n",
              "          const dataTable =\n",
              "            await google.colab.kernel.invokeFunction('convertToInteractive',\n",
              "                                                     [key], {});\n",
              "          if (!dataTable) return;\n",
              "\n",
              "          const docLinkHtml = 'Like what you see? Visit the ' +\n",
              "            '<a target=\"_blank\" href=https://colab.research.google.com/notebooks/data_table.ipynb>data table notebook</a>'\n",
              "            + ' to learn more about interactive tables.';\n",
              "          element.innerHTML = '';\n",
              "          dataTable['output_type'] = 'display_data';\n",
              "          await google.colab.output.renderOutput(dataTable, element);\n",
              "          const docLink = document.createElement('div');\n",
              "          docLink.innerHTML = docLinkHtml;\n",
              "          element.appendChild(docLink);\n",
              "        }\n",
              "      </script>\n",
              "    </div>\n",
              "  </div>\n",
              "  "
            ]
          },
          "metadata": {},
          "execution_count": 92
        }
      ]
    },
    {
      "cell_type": "markdown",
      "source": [
        "#PCA Only SST"
      ],
      "metadata": {
        "id": "Eq8tDKkxaucj"
      }
    },
    {
      "cell_type": "code",
      "source": [
        "frame4,label4= kmedoids(2,pca1(data6,2))\n",
        "silhouette_score(data6, label4, metric='cosine')"
      ],
      "metadata": {
        "colab": {
          "base_uri": "https://localhost:8080/"
        },
        "id": "7ikqsEqEauEn",
        "outputId": "9525bd06-698a-4797-8fbb-89ac873bd4a4"
      },
      "execution_count": null,
      "outputs": [
        {
          "output_type": "stream",
          "name": "stdout",
          "text": [
            "Estimated number of clusters: 2\n",
            "0    191\n",
            "1    174\n",
            "Name: Cluster, dtype: int64\n"
          ]
        },
        {
          "output_type": "execute_result",
          "data": {
            "text/plain": [
              "0.9374951934097201"
            ]
          },
          "metadata": {},
          "execution_count": 90
        }
      ]
    },
    {
      "cell_type": "code",
      "source": [
        "print(\"RMSE | Normalized with PCA SST only\")\n",
        "final2 = RMSE(pca1(data6,2), label4,frame4,True)\n",
        "final2"
      ],
      "metadata": {
        "colab": {
          "base_uri": "https://localhost:8080/",
          "height": 129
        },
        "id": "UlLSkz7YbuCu",
        "outputId": "00ea3bbd-d379-44ae-c880-cfbce96ff5ce"
      },
      "execution_count": null,
      "outputs": [
        {
          "output_type": "stream",
          "name": "stdout",
          "text": [
            "RMSE | Normalized with PCA SST only\n"
          ]
        },
        {
          "output_type": "execute_result",
          "data": {
            "text/plain": [
              "       0      1\n",
              "0  16.41  74.07\n",
              "1  74.07  17.72"
            ],
            "text/html": [
              "\n",
              "  <div id=\"df-1a6b67d6-92a2-4b17-bc08-9e5e38f490f3\">\n",
              "    <div class=\"colab-df-container\">\n",
              "      <div>\n",
              "<style scoped>\n",
              "    .dataframe tbody tr th:only-of-type {\n",
              "        vertical-align: middle;\n",
              "    }\n",
              "\n",
              "    .dataframe tbody tr th {\n",
              "        vertical-align: top;\n",
              "    }\n",
              "\n",
              "    .dataframe thead th {\n",
              "        text-align: right;\n",
              "    }\n",
              "</style>\n",
              "<table border=\"1\" class=\"dataframe\">\n",
              "  <thead>\n",
              "    <tr style=\"text-align: right;\">\n",
              "      <th></th>\n",
              "      <th>0</th>\n",
              "      <th>1</th>\n",
              "    </tr>\n",
              "  </thead>\n",
              "  <tbody>\n",
              "    <tr>\n",
              "      <th>0</th>\n",
              "      <td>16.41</td>\n",
              "      <td>74.07</td>\n",
              "    </tr>\n",
              "    <tr>\n",
              "      <th>1</th>\n",
              "      <td>74.07</td>\n",
              "      <td>17.72</td>\n",
              "    </tr>\n",
              "  </tbody>\n",
              "</table>\n",
              "</div>\n",
              "      <button class=\"colab-df-convert\" onclick=\"convertToInteractive('df-1a6b67d6-92a2-4b17-bc08-9e5e38f490f3')\"\n",
              "              title=\"Convert this dataframe to an interactive table.\"\n",
              "              style=\"display:none;\">\n",
              "        \n",
              "  <svg xmlns=\"http://www.w3.org/2000/svg\" height=\"24px\"viewBox=\"0 0 24 24\"\n",
              "       width=\"24px\">\n",
              "    <path d=\"M0 0h24v24H0V0z\" fill=\"none\"/>\n",
              "    <path d=\"M18.56 5.44l.94 2.06.94-2.06 2.06-.94-2.06-.94-.94-2.06-.94 2.06-2.06.94zm-11 1L8.5 8.5l.94-2.06 2.06-.94-2.06-.94L8.5 2.5l-.94 2.06-2.06.94zm10 10l.94 2.06.94-2.06 2.06-.94-2.06-.94-.94-2.06-.94 2.06-2.06.94z\"/><path d=\"M17.41 7.96l-1.37-1.37c-.4-.4-.92-.59-1.43-.59-.52 0-1.04.2-1.43.59L10.3 9.45l-7.72 7.72c-.78.78-.78 2.05 0 2.83L4 21.41c.39.39.9.59 1.41.59.51 0 1.02-.2 1.41-.59l7.78-7.78 2.81-2.81c.8-.78.8-2.07 0-2.86zM5.41 20L4 18.59l7.72-7.72 1.47 1.35L5.41 20z\"/>\n",
              "  </svg>\n",
              "      </button>\n",
              "      \n",
              "  <style>\n",
              "    .colab-df-container {\n",
              "      display:flex;\n",
              "      flex-wrap:wrap;\n",
              "      gap: 12px;\n",
              "    }\n",
              "\n",
              "    .colab-df-convert {\n",
              "      background-color: #E8F0FE;\n",
              "      border: none;\n",
              "      border-radius: 50%;\n",
              "      cursor: pointer;\n",
              "      display: none;\n",
              "      fill: #1967D2;\n",
              "      height: 32px;\n",
              "      padding: 0 0 0 0;\n",
              "      width: 32px;\n",
              "    }\n",
              "\n",
              "    .colab-df-convert:hover {\n",
              "      background-color: #E2EBFA;\n",
              "      box-shadow: 0px 1px 2px rgba(60, 64, 67, 0.3), 0px 1px 3px 1px rgba(60, 64, 67, 0.15);\n",
              "      fill: #174EA6;\n",
              "    }\n",
              "\n",
              "    [theme=dark] .colab-df-convert {\n",
              "      background-color: #3B4455;\n",
              "      fill: #D2E3FC;\n",
              "    }\n",
              "\n",
              "    [theme=dark] .colab-df-convert:hover {\n",
              "      background-color: #434B5C;\n",
              "      box-shadow: 0px 1px 3px 1px rgba(0, 0, 0, 0.15);\n",
              "      filter: drop-shadow(0px 1px 2px rgba(0, 0, 0, 0.3));\n",
              "      fill: #FFFFFF;\n",
              "    }\n",
              "  </style>\n",
              "\n",
              "      <script>\n",
              "        const buttonEl =\n",
              "          document.querySelector('#df-1a6b67d6-92a2-4b17-bc08-9e5e38f490f3 button.colab-df-convert');\n",
              "        buttonEl.style.display =\n",
              "          google.colab.kernel.accessAllowed ? 'block' : 'none';\n",
              "\n",
              "        async function convertToInteractive(key) {\n",
              "          const element = document.querySelector('#df-1a6b67d6-92a2-4b17-bc08-9e5e38f490f3');\n",
              "          const dataTable =\n",
              "            await google.colab.kernel.invokeFunction('convertToInteractive',\n",
              "                                                     [key], {});\n",
              "          if (!dataTable) return;\n",
              "\n",
              "          const docLinkHtml = 'Like what you see? Visit the ' +\n",
              "            '<a target=\"_blank\" href=https://colab.research.google.com/notebooks/data_table.ipynb>data table notebook</a>'\n",
              "            + ' to learn more about interactive tables.';\n",
              "          element.innerHTML = '';\n",
              "          dataTable['output_type'] = 'display_data';\n",
              "          await google.colab.output.renderOutput(dataTable, element);\n",
              "          const docLink = document.createElement('div');\n",
              "          docLink.innerHTML = docLinkHtml;\n",
              "          element.appendChild(docLink);\n",
              "        }\n",
              "      </script>\n",
              "    </div>\n",
              "  </div>\n",
              "  "
            ]
          },
          "metadata": {},
          "execution_count": 94
        }
      ]
    }
  ]
}