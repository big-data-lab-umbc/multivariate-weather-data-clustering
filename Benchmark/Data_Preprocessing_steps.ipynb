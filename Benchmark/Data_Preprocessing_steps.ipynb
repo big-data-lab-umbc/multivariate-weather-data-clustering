{
  "nbformat": 4,
  "nbformat_minor": 0,
  "metadata": {
    "colab": {
      "provenance": []
    },
    "kernelspec": {
      "name": "python3",
      "display_name": "Python 3"
    },
    "language_info": {
      "name": "python"
    }
  },
  "cells": [
    {
      "cell_type": "markdown",
      "source": [
        "## This document provides step-by-step guide of how data is pre-processed in this project.\n",
        "\n",
        "Step 1. Read the netCDF file as an x-array\n",
        "        Path\n",
        "\n",
        "> Path: Directory to the location where your netCDF file is stored\n",
        "\n",
        "> data: Variable that will hold your x-array dataset"
      ],
      "metadata": {
        "id": "au5DSGP4F_nv"
      }
    },
    {
      "cell_type": "code",
      "source": [
        "#data = xr.open_dataset(path, decode_times=False) "
      ],
      "metadata": {
        "id": "1QW1xymzGfqD"
      },
      "execution_count": null,
      "outputs": []
    },
    {
      "cell_type": "markdown",
      "source": [
        "Step 2. Apply physics-based missing values processing\n",
        "\n",
        "\n",
        "> Call the function \"null_fill(data)\" to fill up missing values in your x-array by replacing missing or nan's with the mean of the variable who's values are missing.\n",
        "\n"
      ],
      "metadata": {
        "id": "EPKGCoOEIYnE"
      }
    },
    {
      "cell_type": "code",
      "source": [
        "#null_fill(data)"
      ],
      "metadata": {
        "id": "4uP-pttFKH1P"
      },
      "execution_count": 2,
      "outputs": []
    },
    {
      "cell_type": "markdown",
      "source": [
        "Step 3. Transform the 4-d multi-dimensional x-array into a 2-d dataframe by calling the transformation function"
      ],
      "metadata": {
        "id": "ugdLbkAqKOhb"
      }
    },
    {
      "cell_type": "code",
      "source": [
        "#datatransformation(data)"
      ],
      "metadata": {
        "id": "k8WNfMq2Kywz"
      },
      "execution_count": null,
      "outputs": []
    },
    {
      "cell_type": "markdown",
      "source": [
        "Step 4. Scale the column values of the resulting 2-d multi-dimensional dataframe in the range from 0 to 1 by calling the normalization function."
      ],
      "metadata": {
        "id": "spJEg6PJK9Z5"
      }
    },
    {
      "cell_type": "code",
      "source": [
        "#datanormalization(data)"
      ],
      "metadata": {
        "id": "HUwQfXo-LrDS"
      },
      "execution_count": null,
      "outputs": []
    },
    {
      "cell_type": "markdown",
      "source": [
        "Step 5. This is an optional step and largely depends on your requirements. Dimensionality reduction:\n",
        "\n",
        "> Reduce the dimension while preserving over 90% of the information in the data by calling the principal components function. We need to specify the number of desired components (n).\n",
        "\n"
      ],
      "metadata": {
        "id": "a-PyXGTFLyTE"
      }
    },
    {
      "cell_type": "code",
      "source": [
        "pca1(data,n)"
      ],
      "metadata": {
        "id": "bYKU2C2cM_me"
      },
      "execution_count": null,
      "outputs": []
    }
  ]
}