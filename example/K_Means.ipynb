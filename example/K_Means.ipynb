{
  "nbformat": 4,
  "nbformat_minor": 0,
  "metadata": {
    "colab": {
      "provenance": []
    },
    "kernelspec": {
      "name": "python3",
      "display_name": "Python 3"
    },
    "language_info": {
      "name": "python"
    }
  },
  "cells": [
    {
      "cell_type": "code",
      "source": [
        "# Install Statements\n",
        "\n",
        "!pip install \"dask[dataframe]\"\n",
        "!pip install cftime\n",
        "!pip install utils\n",
        "!pip install netCDF4 \n",
        "!pip install scipy \n",
        "!pip install geopandas"
      ],
      "metadata": {
        "colab": {
          "base_uri": "https://localhost:8080/"
        },
        "id": "rEso22QMwFzc",
        "outputId": "8a9ac373-57e5-4063-8eb8-2ae5d71caf94"
      },
      "execution_count": null,
      "outputs": [
        {
          "output_type": "stream",
          "name": "stdout",
          "text": [
            "Looking in indexes: https://pypi.org/simple, https://us-python.pkg.dev/colab-wheels/public/simple/\n",
            "Requirement already satisfied: dask[dataframe] in /usr/local/lib/python3.7/dist-packages (2.12.0)\n",
            "Requirement already satisfied: partd>=0.3.10 in /usr/local/lib/python3.7/dist-packages (from dask[dataframe]) (1.3.0)\n",
            "Requirement already satisfied: pandas>=0.23.0 in /usr/local/lib/python3.7/dist-packages (from dask[dataframe]) (1.3.5)\n",
            "Requirement already satisfied: fsspec>=0.6.0 in /usr/local/lib/python3.7/dist-packages (from dask[dataframe]) (2022.7.1)\n",
            "Requirement already satisfied: numpy>=1.13.0 in /usr/local/lib/python3.7/dist-packages (from dask[dataframe]) (1.21.6)\n",
            "Requirement already satisfied: toolz>=0.7.3 in /usr/local/lib/python3.7/dist-packages (from dask[dataframe]) (0.12.0)\n",
            "Requirement already satisfied: pytz>=2017.3 in /usr/local/lib/python3.7/dist-packages (from pandas>=0.23.0->dask[dataframe]) (2022.2)\n",
            "Requirement already satisfied: python-dateutil>=2.7.3 in /usr/local/lib/python3.7/dist-packages (from pandas>=0.23.0->dask[dataframe]) (2.8.2)\n",
            "Requirement already satisfied: locket in /usr/local/lib/python3.7/dist-packages (from partd>=0.3.10->dask[dataframe]) (1.0.0)\n",
            "Requirement already satisfied: six>=1.5 in /usr/local/lib/python3.7/dist-packages (from python-dateutil>=2.7.3->pandas>=0.23.0->dask[dataframe]) (1.15.0)\n",
            "Looking in indexes: https://pypi.org/simple, https://us-python.pkg.dev/colab-wheels/public/simple/\n",
            "Requirement already satisfied: cftime in /usr/local/lib/python3.7/dist-packages (1.6.1)\n",
            "Requirement already satisfied: numpy>1.13.3 in /usr/local/lib/python3.7/dist-packages (from cftime) (1.21.6)\n",
            "Looking in indexes: https://pypi.org/simple, https://us-python.pkg.dev/colab-wheels/public/simple/\n",
            "Requirement already satisfied: utils in /usr/local/lib/python3.7/dist-packages (1.0.1)\n",
            "Looking in indexes: https://pypi.org/simple, https://us-python.pkg.dev/colab-wheels/public/simple/\n",
            "Requirement already satisfied: netCDF4 in /usr/local/lib/python3.7/dist-packages (1.6.0)\n",
            "Requirement already satisfied: cftime in /usr/local/lib/python3.7/dist-packages (from netCDF4) (1.6.1)\n",
            "Requirement already satisfied: numpy>=1.9 in /usr/local/lib/python3.7/dist-packages (from netCDF4) (1.21.6)\n",
            "Looking in indexes: https://pypi.org/simple, https://us-python.pkg.dev/colab-wheels/public/simple/\n",
            "Requirement already satisfied: scipy in /usr/local/lib/python3.7/dist-packages (1.7.3)\n",
            "Requirement already satisfied: numpy<1.23.0,>=1.16.5 in /usr/local/lib/python3.7/dist-packages (from scipy) (1.21.6)\n",
            "Looking in indexes: https://pypi.org/simple, https://us-python.pkg.dev/colab-wheels/public/simple/\n",
            "Requirement already satisfied: geopandas in /usr/local/lib/python3.7/dist-packages (0.10.2)\n",
            "Requirement already satisfied: shapely>=1.6 in /usr/local/lib/python3.7/dist-packages (from geopandas) (1.8.2)\n",
            "Requirement already satisfied: pyproj>=2.2.0 in /usr/local/lib/python3.7/dist-packages (from geopandas) (3.2.1)\n",
            "Requirement already satisfied: pandas>=0.25.0 in /usr/local/lib/python3.7/dist-packages (from geopandas) (1.3.5)\n",
            "Requirement already satisfied: fiona>=1.8 in /usr/local/lib/python3.7/dist-packages (from geopandas) (1.8.21)\n",
            "Requirement already satisfied: setuptools in /usr/local/lib/python3.7/dist-packages (from fiona>=1.8->geopandas) (57.4.0)\n",
            "Requirement already satisfied: click-plugins>=1.0 in /usr/local/lib/python3.7/dist-packages (from fiona>=1.8->geopandas) (1.1.1)\n",
            "Requirement already satisfied: certifi in /usr/local/lib/python3.7/dist-packages (from fiona>=1.8->geopandas) (2022.6.15)\n",
            "Requirement already satisfied: munch in /usr/local/lib/python3.7/dist-packages (from fiona>=1.8->geopandas) (2.5.0)\n",
            "Requirement already satisfied: six>=1.7 in /usr/local/lib/python3.7/dist-packages (from fiona>=1.8->geopandas) (1.15.0)\n",
            "Requirement already satisfied: click>=4.0 in /usr/local/lib/python3.7/dist-packages (from fiona>=1.8->geopandas) (7.1.2)\n",
            "Requirement already satisfied: cligj>=0.5 in /usr/local/lib/python3.7/dist-packages (from fiona>=1.8->geopandas) (0.7.2)\n",
            "Requirement already satisfied: attrs>=17 in /usr/local/lib/python3.7/dist-packages (from fiona>=1.8->geopandas) (22.1.0)\n",
            "Requirement already satisfied: numpy>=1.17.3 in /usr/local/lib/python3.7/dist-packages (from pandas>=0.25.0->geopandas) (1.21.6)\n",
            "Requirement already satisfied: python-dateutil>=2.7.3 in /usr/local/lib/python3.7/dist-packages (from pandas>=0.25.0->geopandas) (2.8.2)\n",
            "Requirement already satisfied: pytz>=2017.3 in /usr/local/lib/python3.7/dist-packages (from pandas>=0.25.0->geopandas) (2022.2)\n"
          ]
        }
      ]
    },
    {
      "cell_type": "code",
      "execution_count": null,
      "metadata": {
        "id": "FrwPkWggiFf4"
      },
      "outputs": [],
      "source": [
        "# Import Statements\n",
        "\n",
        "import pandas as pd\n",
        "import numpy as np\n",
        "import xarray as xr\n",
        "import netCDF4 as nc\n",
        "import matplotlib.pyplot as plt\n",
        "from sklearn.cluster import KMeans\n",
        "from sklearn import preprocessing\n",
        "from statistics import mean\n",
        "from sklearn.preprocessing import MinMaxScaler\n",
        "from sklearn.preprocessing import StandardScaler\n",
        "import os\n",
        "from sklearn.decomposition import PCA\n",
        "from sklearn import metrics\n",
        "from scipy.spatial.distance import cdist\n",
        "from numpy.random import uniform\n",
        "import seaborn as sns\n",
        "import random\n",
        "import dask.dataframe as dd\n",
        "from sklearn.cluster import DBSCAN\n",
        "from sklearn.metrics import silhouette_samples, silhouette_score\n",
        "import sys \n",
        "import  pandas\n",
        "from netCDF4 import Dataset\n",
        "import matplotlib as mpl \n",
        "import matplotlib.colors as colors"
      ]
    },
    {
      "cell_type": "code",
      "source": [
        "# Piece of code to ignore warnings\n",
        "import warnings\n",
        "warnings.filterwarnings('ignore')"
      ],
      "metadata": {
        "id": "DIpGvlBsrHEN"
      },
      "execution_count": null,
      "outputs": []
    },
    {
      "cell_type": "code",
      "source": [
        "from google.colab import drive\n",
        "drive.mount('/content/drive')"
      ],
      "metadata": {
        "colab": {
          "base_uri": "https://localhost:8080/"
        },
        "id": "sKUXxMGjiK0Y",
        "outputId": "4cbf31da-764d-4ea2-94a8-206cc20fc274"
      },
      "execution_count": null,
      "outputs": [
        {
          "output_type": "stream",
          "name": "stdout",
          "text": [
            "Drive already mounted at /content/drive; to attempt to forcibly remount, call drive.mount(\"/content/drive\", force_remount=True).\n"
          ]
        }
      ]
    },
    {
      "cell_type": "code",
      "source": [
        "# All the xarray datasets are opened into various variables\n",
        "\n",
        "mdata_4 = xr.open_dataset('/content/drive/MyDrive/Courses/IS-700-Independent_Study/mock_v4.nc')\n",
        "mdata_3_1 = xr.open_dataset('/content/drive/MyDrive/Courses/IS-700-Independent_Study/mock3.1.nc')\n",
        "mdata_2_1 = xr.open_dataset('/content/drive/MyDrive/Courses/IS-700-Independent_Study/mock2.1.nc')\n",
        "mdata_1 = xr.open_dataset('/content/drive/MyDrive/Courses/IS-700-Independent_Study/mock1.nc')\n",
        "rdata_daily = xr.open_dataset('/content/drive/MyDrive/Courses/IS-700-Independent_Study/ERA5_meteo_sfc_2021_daily.nc').rename({'latitude':'lat','longitude':'lon'})"
      ],
      "metadata": {
        "id": "4d-g1YsgiMR4"
      },
      "execution_count": null,
      "outputs": []
    },
    {
      "cell_type": "code",
      "source": [
        "# data = data.drop_vars('sst')"
      ],
      "metadata": {
        "id": "Yrq5SFF-Ilkn"
      },
      "execution_count": null,
      "outputs": []
    },
    {
      "cell_type": "code",
      "source": [
        "# This dictionary holds the names of all the xarray files and the files themselves\n",
        "data = {'mdata_4':mdata_4,'mdata_3_1':mdata_3_1,'mdata_2_1':mdata_2_1,'mdata_1':mdata_1,'rdata_daily':rdata_daily}"
      ],
      "metadata": {
        "id": "xpoZeM2Dn6iq"
      },
      "execution_count": null,
      "outputs": []
    },
    {
      "cell_type": "markdown",
      "source": [
        "### Elbow Curve Method\n",
        "To determine the optimal number of clusters, we have to select the value of k at the “elbow” ie the point after which the distortion/inertia start decreasing in a linear fashion."
      ],
      "metadata": {
        "id": "U-rqbGk_n8eH"
      }
    },
    {
      "cell_type": "code",
      "source": [
        "from pandas.core.frame import DataFrame\n",
        "def datatransformation(data):\n",
        "\n",
        "        '''This function is used to transform the xarray dataset into a pandas dataframe where the dimension \"time\" would become the index of the DataFrame and,\n",
        "        pairs of both dimensions \"latitude\" and \"longitude\" will become the columns for each variable'''\n",
        "\n",
        "        # The below line will convert the xarray into a dask dataframe\n",
        "        dask_df = data.to_dask_dataframe(dim_order=None, set_index=False)\n",
        "        # The below line will convert the dask dataframe into a pandas dataframe\n",
        "        pd_df = dask_df.compute()\n",
        "\n",
        "        # The below loop will handle missing values in each and every column of the dataframe by substituting mean of individual columns in the place of the missing values\n",
        "        for i in pd_df.columns:\n",
        "          if pd_df[i].isna().sum() > 0:\n",
        "            pd_df[i].fillna(value=pd_df[i].mean(), inplace=True)\n",
        "        \n",
        "        # Since the pandas dataframe (p_df) will also have the dimensions of the xarray as columns, we'll have to remove them. Below code handles that part.\n",
        "        col = 'time','lat','lon'\n",
        "        fin_df = pd_df.loc[:, ~pd_df.columns.isin(col)]\n",
        "\n",
        "        # trans_data will be the final dataframe that the function will return.\n",
        "        trans_data = pd.DataFrame()\n",
        "        for j in fin_df.columns:\n",
        "          for i in range(0,pd_df.shape[0]):\n",
        "              c=(j + '(' + str(pd_df.lat[i])+','+str(pd_df.lon[i]) + ')') # Every variable followed by the pairs of latitude and longitude will become the columns\n",
        "              trans_data.loc[pd_df.time[i], c] = pd_df[j][i] # Based on the column name (var+ (lat,lon)), the correct value of each variable will sit in the right place.\n",
        "\n",
        "        return trans_data\n",
        "\n",
        "def datanormalization(input):\n",
        "  ''' This function is used to normalize the data that is passed to it. Input in this case will be the transformed pandas dataframe. '''\n",
        "  x = input.values # returns a numpy array\n",
        "  min_max_scaler = preprocessing.MinMaxScaler() # calling the function\n",
        "  x_scaled = min_max_scaler.fit_transform(x) # x_scaled will hold the values of the normalized data\n",
        "  \n",
        "  # trans_data will hold the same columns and index of the dataframe that is passed to it. And the values will be the ones saved in x_scaled\n",
        "  trans_data = pd.DataFrame(x_scaled, columns=input.columns, index=input.index)\n",
        "        \n",
        "  return trans_data    \n",
        "\n",
        "\n",
        "def PCA_transform(input):\n",
        "  ''' This function is used to implement Principal Component Analysis, which is often used as a dimension reduction technique.'''\n",
        "  # https://talkingdatascience.com/principal-component-analysis/\n",
        "\n",
        "  # Center the data with mean-correction \n",
        "  data_centered = input.apply(lambda x: x-x.mean())\n",
        "  \n",
        "\n",
        "  # Perform PCA()\n",
        "  # If a float value between 0 and 1 is passed as n_components, it means that this percentage of variance of the original data will be preserved in the principal components.\n",
        "  pca = PCA(n_components=0.95) \n",
        "  pca.fit(data_centered)\n",
        "\n",
        "  # Get pca scores\n",
        "  pca_scores = pca.transform(data_centered)\n",
        "\n",
        "  # Convert pca_scores to a dataframe\n",
        "  scores_df = pd.DataFrame(pca_scores)\n",
        "\n",
        "  # Round to two decimals\n",
        "  scores_df = scores_df.round(2)\n",
        "\n",
        "  # Return scores\n",
        "  return scores_df "
      ],
      "metadata": {
        "id": "pubKKIQU25XY"
      },
      "execution_count": null,
      "outputs": []
    },
    {
      "cell_type": "code",
      "source": [
        "# ''' In this piece of code, every xarray file that is mentioned in the 'data' dictionary will be transformed into a pandas dataframe using the data transformation \n",
        "# function defined earlier and saved to the specified folder on Google drive.'''\n",
        "\n",
        "# trans_data = {}\n",
        "# for i in data:\n",
        "#   trans_data[str(i)] = datatransformation(data[i])\n",
        "#   path = str(i)\n",
        "#   fullpath = os.path.join(\"/content/drive/MyDrive/Courses/IS-700-Independent_Study/Transformed_data/\" + path + \".csv\")\n",
        "#   trans_data[str(i)].to_csv(fullpath,index=True)"
      ],
      "metadata": {
        "id": "PCwrz-RyaOXC"
      },
      "execution_count": null,
      "outputs": []
    },
    {
      "cell_type": "code",
      "source": [
        "# Loading the saved transformed data files into the below variables.\n",
        "mdata_4_trans = pd.read_csv('/content/drive/MyDrive/Courses/IS-700-Independent_Study/Transformed_data/mdata_4.csv', index_col=[0])\n",
        "mdata_3_1_trans = pd.read_csv('/content/drive/MyDrive/Courses/IS-700-Independent_Study/Transformed_data/mdata_3_1.csv', index_col=[0])\n",
        "mdata_2_1_trans = pd.read_csv('/content/drive/MyDrive/Courses/IS-700-Independent_Study/Transformed_data/mdata_2_1.csv', index_col=[0])\n",
        "mdata_1_trans = pd.read_csv('/content/drive/MyDrive/Courses/IS-700-Independent_Study/Transformed_data/mdata_1.csv', index_col=[0])\n",
        "rdata_daily_trans = pd.read_csv('/content/drive/MyDrive/Courses/IS-700-Independent_Study/Transformed_data/rdata_daily.csv', index_col=[0])\n",
        "\n",
        "# Trans_data_saved will be the dictionary that holds all of these variables.\n",
        "trans_data_saved = {'mdata_4_trans':mdata_4_trans,'mdata_3_1_trans':mdata_3_1_trans,'mdata_2_1_trans':mdata_2_1_trans,'mdata_1_trans':mdata_1_trans,'rdata_daily_trans':rdata_daily_trans}"
      ],
      "metadata": {
        "id": "lIbGRXqusO-g"
      },
      "execution_count": null,
      "outputs": []
    },
    {
      "cell_type": "code",
      "source": [
        "# Define distortion and inertia above this cell. Use info that is available on geeksforgeeks\n",
        "\n",
        "# Declaring lists that will capture the values of distortion and inertia\n",
        "distortions = []\n",
        "inertias = []\n",
        "\n",
        "# Declaring dictionaries that will map the values of k and distortion, inertia values respectively\n",
        "mapping1 = {}\n",
        "mapping2 = {}\n",
        "\n",
        "# Value of K will range from 1 to 10\n",
        "K = range(1, 10)\n",
        "\n",
        "# For all the transformed pandas dataframes, elbow curve plots will be printed in the following loop.\n",
        "for i in trans_data_saved:  \n",
        "  for k in K:\n",
        "      # Building and fitting the model\n",
        "      kmeanModel = KMeans(n_clusters=k).fit(trans_data_saved[i])\n",
        "      kmeanModel.fit(trans_data_saved[i])\n",
        "\n",
        "      # Values of distortion will be appended to the list declared above\n",
        "      distortions.append(sum(np.min(cdist(trans_data_saved[i], kmeanModel.cluster_centers_,\n",
        "                                        'euclidean'), axis=1)) / trans_data_saved[i].shape[0])\n",
        "      # Values of inertia will be appended to the list declared above\n",
        "      inertias.append(kmeanModel.inertia_)\n",
        "\n",
        "      # The below two lines of code will handle the mapping of k with distortion and inertia values.\n",
        "      mapping1[k] = sum(np.min(cdist(trans_data_saved[i], kmeanModel.cluster_centers_,\n",
        "                                   'euclidean'), axis=1)) / trans_data_saved[i].shape[0]\n",
        "      mapping2[k] = kmeanModel.inertia_\n",
        "  print()\n",
        "  print('Elbow curves of', i, 'are as follows:')\n",
        "  print('Distortion Values:')\n",
        "  for key, val in mapping1.items():\n",
        "      print(f'{key} : {val}')    \n",
        "  print()\n",
        "  print('Inertia Values:')\n",
        "  for key, val in mapping2.items():\n",
        "      print(f'{key} : {val}')\n",
        "\n",
        "  # The below lines of code will generate plots with the distortion values\n",
        "  plt.plot(K, distortions, 'bx-')\n",
        "  plt.xlabel('Values of K')\n",
        "  plt.ylabel('Distortion')\n",
        "  plt.title('The Elbow Method using Distortion')\n",
        "  plt.show()\n",
        "\n",
        "  # The below lines of code will generate plots with the inertia values\n",
        "  plt.plot(K, inertias, 'bx-')\n",
        "  plt.xlabel('Values of K')\n",
        "  plt.ylabel('Inertia')\n",
        "  plt.title('The Elbow Method using Inertia')\n",
        "  plt.show()\n",
        "  print()\n",
        "  distortions = []\n",
        "  inertias = []  \n",
        "  mapping1 = {}\n",
        "  mapping2 = {}"
      ],
      "metadata": {
        "colab": {
          "base_uri": "https://localhost:8080/",
          "height": 1000
        },
        "id": "qlECVgdamgxP",
        "outputId": "f51d33c1-7527-4427-ca21-8006fed22060"
      },
      "execution_count": null,
      "outputs": [
        {
          "output_type": "stream",
          "name": "stdout",
          "text": [
            "\n",
            "Elbow curves of mdata_4_trans are as follows:\n",
            "Distortion Values:\n",
            "1 : 570.5510625076183\n",
            "2 : 111.6068438519932\n",
            "3 : 5.408326913195984\n",
            "4 : 0.0\n",
            "5 : 0.0\n",
            "6 : 0.0\n",
            "7 : 0.0\n",
            "8 : 0.0\n",
            "9 : 0.0\n",
            "\n",
            "Inertia Values:\n",
            "1 : 6518345.0\n",
            "2 : 452295.0\n",
            "3 : 1170.0\n",
            "4 : 0.0\n",
            "5 : 0.0\n",
            "6 : 0.0\n",
            "7 : 0.0\n",
            "8 : 0.0\n",
            "9 : 0.0\n"
          ]
        },
        {
          "output_type": "display_data",
          "data": {
            "text/plain": [
              "<Figure size 432x288 with 1 Axes>"
            ],
            "image/png": "[encoded data removed]"
          },
          "metadata": {
            "needs_background": "light"
          }
        },
        {
          "output_type": "display_data",
          "data": {
            "text/plain": [
              "<Figure size 432x288 with 1 Axes>"
            ],
            "image/png": "[encoded data removed]"
          },
          "metadata": {
            "needs_background": "light"
          }
        },
        {
          "output_type": "stream",
          "name": "stdout",
          "text": [
            "\n",
            "\n",
            "Elbow curves of mdata_3_1_trans are as follows:\n",
            "Distortion Values:\n",
            "1 : 822.6774843841238\n",
            "2 : 263.0598537152418\n",
            "3 : 12.74754878398196\n",
            "4 : 0.0\n",
            "5 : 0.0\n",
            "6 : 0.0\n",
            "7 : 0.0\n",
            "8 : 0.0\n",
            "9 : 0.0\n",
            "\n",
            "Inertia Values:\n",
            "1 : 13651375.0\n",
            "2 : 2512750.0\n",
            "3 : 6500.0\n",
            "4 : 0.0\n",
            "5 : 0.0\n",
            "6 : 0.0\n",
            "7 : 0.0\n",
            "8 : 0.0\n",
            "9 : 0.0\n"
          ]
        },
        {
          "output_type": "display_data",
          "data": {
            "text/plain": [
              "<Figure size 432x288 with 1 Axes>"
            ],
            "image/png": "[encoded data removed]"
          },
          "metadata": {
            "needs_background": "light"
          }
        },
        {
          "output_type": "display_data",
          "data": {
            "text/plain": [
              "<Figure size 432x288 with 1 Axes>"
            ],
            "image/png": "[encoded data removed]"
          },
          "metadata": {
            "needs_background": "light"
          }
        },
        {
          "output_type": "stream",
          "name": "stdout",
          "text": [
            "\n",
            "\n",
            "Elbow curves of mdata_2_1_trans are as follows:\n",
            "Distortion Values:\n",
            "1 : 393.08475549173886\n",
            "2 : 0.0\n",
            "3 : 0.0\n",
            "4 : 0.0\n",
            "5 : 0.0\n",
            "6 : 0.0\n",
            "7 : 0.0\n",
            "8 : 0.0\n",
            "9 : 0.0\n",
            "\n",
            "Inertia Values:\n",
            "1 : 3090312.5\n",
            "2 : 0.0\n",
            "3 : 0.0\n",
            "4 : 0.0\n",
            "5 : 0.0\n",
            "6 : 0.0\n",
            "7 : 0.0\n",
            "8 : 0.0\n",
            "9 : 0.0\n"
          ]
        },
        {
          "output_type": "display_data",
          "data": {
            "text/plain": [
              "<Figure size 432x288 with 1 Axes>"
            ],
            "image/png": "[encoded data removed]"
          },
          "metadata": {
            "needs_background": "light"
          }
        },
        {
          "output_type": "display_data",
          "data": {
            "text/plain": [
              "<Figure size 432x288 with 1 Axes>"
            ],
            "image/png": "[encoded data removed]"
          },
          "metadata": {
            "needs_background": "light"
          }
        },
        {
          "output_type": "stream",
          "name": "stdout",
          "text": [
            "\n",
            "\n",
            "Elbow curves of mdata_1_trans are as follows:\n",
            "Distortion Values:\n",
            "1 : 497.51884386423006\n",
            "2 : 0.0\n",
            "3 : 0.0\n",
            "4 : 0.0\n",
            "5 : 0.0\n",
            "6 : 0.0\n",
            "7 : 0.0\n",
            "8 : 0.0\n",
            "9 : 0.0\n",
            "\n",
            "Inertia Values:\n",
            "1 : 4950500.0\n",
            "2 : 0.0\n",
            "3 : 0.0\n",
            "4 : 0.0\n",
            "5 : 0.0\n",
            "6 : 0.0\n",
            "7 : 0.0\n",
            "8 : 0.0\n",
            "9 : 0.0\n"
          ]
        },
        {
          "output_type": "display_data",
          "data": {
            "text/plain": [
              "<Figure size 432x288 with 1 Axes>"
            ],
            "image/png": "[encoded data removed]"
          },
          "metadata": {
            "needs_background": "light"
          }
        },
        {
          "output_type": "display_data",
          "data": {
            "text/plain": [
              "<Figure size 432x288 with 1 Axes>"
            ],
            "image/png": "[encoded data removed]"
          },
          "metadata": {
            "needs_background": "light"
          }
        },
        {
          "output_type": "stream",
          "name": "stdout",
          "text": [
            "\n",
            "\n",
            "Elbow curves of rdata_daily_trans are as follows:\n",
            "Distortion Values:\n",
            "1 : 8844656.77585766\n",
            "2 : 7073924.215067062\n",
            "3 : 6246032.308339245\n",
            "4 : 5882937.157021162\n",
            "5 : 5614438.894475746\n",
            "6 : 5330497.95197867\n",
            "7 : 5200327.358792777\n",
            "8 : 5014158.483828699\n",
            "9 : 4937986.558447357\n",
            "\n",
            "Inertia Values:\n",
            "1 : 3.710226699981823e+16\n",
            "2 : 2.196535732754648e+16\n",
            "3 : 1.694508907201236e+16\n",
            "4 : 1.4813973003127958e+16\n",
            "5 : 1.3175331421647648e+16\n",
            "6 : 1.2142510084441124e+16\n",
            "7 : 1.1335233965710134e+16\n",
            "8 : 1.053909577429564e+16\n",
            "9 : 1.0208340522019214e+16\n"
          ]
        },
        {
          "output_type": "display_data",
          "data": {
            "text/plain": [
              "<Figure size 432x288 with 1 Axes>"
            ],
            "image/png": "[encoded data removed]"
          },
          "metadata": {
            "needs_background": "light"
          }
        },
        {
          "output_type": "display_data",
          "data": {
            "text/plain": [
              "<Figure size 432x288 with 1 Axes>"
            ],
            "image/png": "[encoded data removed]"
          },
          "metadata": {
            "needs_background": "light"
          }
        },
        {
          "output_type": "stream",
          "name": "stdout",
          "text": [
            "\n"
          ]
        }
      ]
    },
    {
      "cell_type": "markdown",
      "source": [
        "### Implementing the algorithm by using the actual data"
      ],
      "metadata": {
        "id": "uMpp9hiQvw95"
      }
    },
    {
      "cell_type": "code",
      "source": [
        "# Fit and Evaluate functions with PCA as a parameter\n",
        "\n",
        "def euclidean(point, data):\n",
        "    \"\"\"\n",
        "    Euclidean distance between point & data.\n",
        "    Point has dimensions (m,), data has dimensions (n,m), and output will be of size (n,).\n",
        "    \"\"\"\n",
        "    return np.sqrt(np.sum((point - data)**2, axis=1))\n",
        "    \n",
        "\n",
        "class KMeans:\n",
        "    def __init__(self, n_clusters, max_iter=500):\n",
        "        self.n_clusters = n_clusters\n",
        "        self.max_iter = max_iter\n",
        "\n",
        "    def fit(self, xarray_data, PCA = True, pass_trans_data = True):\n",
        "\n",
        "      ''' This function fits the K-means model to the data that is passed to it.\n",
        "          Parameters that this function will accept are as follows:\n",
        "          1. xarray_data = string of the name of the original xarray file\n",
        "          2. PCA (bool) = whether or not PCA has to be applied. Default value is True\n",
        "          3. pass_trans_data (bool) = whether saved data has to be passed. If False, data will be transformed instantly. Default value is True.'''\n",
        "\n",
        "      # The following block will run if user wants PCA to be applied to the data\n",
        "      if PCA == True:\n",
        "        # The following code will be executed if the user wants the saved transformed dataframe to be considered.\n",
        "        if pass_trans_data == True:\n",
        "          k = list(locals().values()) # k will be the list which holds the values of the parameters that are being passed to the function\n",
        "          path = str(k[1]) # path will hold the first parameter's value\n",
        "          fullpath = os.path.join(\"/content/drive/MyDrive/Courses/IS-700-Independent_Study/Transformed_data/\" + path + \".csv\")\n",
        "\n",
        "          X_train = pd.read_csv(fullpath, index_col=[0]) # saved transformed dataframe will be read\n",
        "          X_train = datanormalization(X_train) # the data will be normalized\n",
        "          X_train = np.array(PCA_transform(X_train)) # X_train in the form of a numpy array will hold the data to which PCA has been applied \n",
        "\n",
        "        \n",
        "\n",
        "          ''' Initialize the centroids, using the \"k-means++\" method, where a random datapoint is selected as the first point,\n",
        "              then the rest are initialized with probabilities proportional to their distances to the first point.'''\n",
        "          \n",
        "          # Pick a random point from train data for first centroid\n",
        "          self.centroids = [random.choice(X_train)]\n",
        "\n",
        "          for _ in range(self.n_clusters-1):\n",
        "              # Calculate distances from points to the centroids\n",
        "              dists = np.sum([euclidean(centroid, X_train) for centroid in self.centroids], axis=0)\n",
        "              # Normalize the distances\n",
        "              dists /= np.sum(dists)\n",
        "              # Choose remaining points based on their distances\n",
        "              new_centroid_idx, = np.random.choice(range(len(X_train)), size=1, p=dists)\n",
        "              self.centroids += [X_train[new_centroid_idx]]\n",
        "\n",
        "          iteration = 0 # setting iteration to 0\n",
        "          prev_centroids = None # setting prev_centroids to None\n",
        "\n",
        "          while np.not_equal(self.centroids, prev_centroids).any() and iteration < self.max_iter:\n",
        "              # Sort each datapoint, and assign it to the nearest centroid\n",
        "              sorted_points = [[] for _ in range(self.n_clusters)]\n",
        "              for x in X_train:\n",
        "                  dists = euclidean(x, self.centroids) # Calling the function defined above\n",
        "                  centroid_idx = np.argmin(dists) # Assigning points to the nearest centroid\n",
        "                  sorted_points[centroid_idx].append(x)\n",
        "              # Push current centroids to previous, reassign centroids as mean of the points belonging to them\n",
        "              prev_centroids = self.centroids\n",
        "              self.centroids = [np.mean(cluster, axis=0) for cluster in sorted_points]\n",
        "              for i, centroid in enumerate(self.centroids):\n",
        "                  if np.isnan(centroid).any():  # Catch any np.nans, resulting from a centroid having no points\n",
        "                      self.centroids[i] = prev_centroids[i]\n",
        "              iteration += 1\n",
        "\n",
        "        # If the user does not want the saved transformed data to be used, the below block of code will be executed    \n",
        "        else:\n",
        "          X_train = datatransformation(xarray_data) # Transforming the data\n",
        "          X_train = datanormalization(X_train) # Normalizing the data\n",
        "          X_train = np.array(PCA_transform(X_train)) # Applying PCA to the data and storing it in the form of a numpy array\n",
        "\n",
        "          ''' Initialize the centroids, using the \"k-means++\" method, where a random datapoint is selected as the first point,\n",
        "              then the rest are initialized with probabilities proportional to their distances to the first point.'''\n",
        "          \n",
        "          # Pick a random point from train data for first centroid\n",
        "          self.centroids = [random.choice(X_train)]\n",
        "          for _ in range(self.n_clusters-1):\n",
        "              # Calculate distances from points to the centroids\n",
        "              dists = np.sum([euclidean(centroid, X_train) for centroid in self.centroids], axis=0)\n",
        "              # Normalize the distances\n",
        "              dists /= np.sum(dists)\n",
        "              # Choose remaining points based on their distances\n",
        "              new_centroid_idx, = np.random.choice(range(len(X_train)), size=1, p=dists)\n",
        "              self.centroids += [X_train[new_centroid_idx]]\n",
        "\n",
        "          iteration = 0 # setting iteration to 0\n",
        "          prev_centroids = None # setting prev_centroids to None\n",
        "\n",
        "          while np.not_equal(self.centroids, prev_centroids).any() and iteration < self.max_iter:\n",
        "              # Sort each datapoint, and assign it to the nearest centroid\n",
        "              sorted_points = [[] for _ in range(self.n_clusters)]\n",
        "              for x in X_train:\n",
        "                  dists = euclidean(x, self.centroids) # Calling the function defined above\n",
        "                  centroid_idx = np.argmin(dists) # Assigning points to the nearest centroid\n",
        "                  sorted_points[centroid_idx].append(x)\n",
        "              # Push current centroids to previous, reassign centroids as mean of the points belonging to them\n",
        "              prev_centroids = self.centroids\n",
        "              self.centroids = [np.mean(cluster, axis=0) for cluster in sorted_points]\n",
        "              for i, centroid in enumerate(self.centroids):\n",
        "                  if np.isnan(centroid).any():  # Catch any np.nans, resulting from a centroid having no points\n",
        "                      self.centroids[i] = prev_centroids[i]\n",
        "              iteration += 1      \n",
        "\n",
        "      # If the user does not want PCA to be applied to the data, the below block of code will be executed\n",
        "      else:\n",
        "        # The following code will be executed if the user wants the saved transformed dataframe to be considered.\n",
        "        if pass_trans_data == True:\n",
        "          k = list(locals().values()) # k will be the list which holds the values of the parameters that are being passed to the function\n",
        "          path = str(k[1]) # path will hold the first parameter's value\n",
        "          fullpath = os.path.join(\"/content/drive/MyDrive/Courses/IS-700-Independent_Study/Transformed_data/\" + path + \".csv\")\n",
        "\n",
        "          X_train = pd.read_csv(fullpath, index_col=[0]) # saved transformed dataframe will be read\n",
        "          X_train = np.array(datanormalization(X_train)) # the data will be normalized and stored in the form of a numpy array\n",
        "\n",
        "          ''' Initialize the centroids, using the \"k-means++\" method, where a random datapoint is selected as the first point,\n",
        "          # then the rest are initialized with probabilities proportional to their distances to the first point. '''\n",
        "          \n",
        "          # Pick a random point from train data for first centroid\n",
        "          self.centroids = [random.choice(X_train)]\n",
        "          for _ in range(self.n_clusters-1):\n",
        "              # Calculate distances from points to the centroids\n",
        "              dists = np.sum([euclidean(centroid, X_train) for centroid in self.centroids], axis=0)\n",
        "              # Normalize the distances\n",
        "              dists /= np.sum(dists)\n",
        "              # Choose remaining points based on their distances\n",
        "              new_centroid_idx, = np.random.choice(range(len(X_train)), size=1, p=dists)\n",
        "              self.centroids += [X_train[new_centroid_idx]]\n",
        "\n",
        "          iteration = 0 # setting iteration to 0\n",
        "          prev_centroids = None # setting prev_centroids to None\n",
        "\n",
        "          while np.not_equal(self.centroids, prev_centroids).any() and iteration < self.max_iter:\n",
        "              # Sort each datapoint, and assign it to the nearest centroid\n",
        "              sorted_points = [[] for _ in range(self.n_clusters)]\n",
        "              for x in X_train:\n",
        "                  dists = euclidean(x, self.centroids) # Calling the function defined above\n",
        "                  centroid_idx = np.argmin(dists) # Assigning points to the nearest centroid\n",
        "                  sorted_points[centroid_idx].append(x)\n",
        "              # Push current centroids to previous, reassign centroids as mean of the points belonging to them\n",
        "              prev_centroids = self.centroids\n",
        "              self.centroids = [np.mean(cluster, axis=0) for cluster in sorted_points]\n",
        "              for i, centroid in enumerate(self.centroids):\n",
        "                  if np.isnan(centroid).any():  # Catch any np.nans, resulting from a centroid having no points\n",
        "                      self.centroids[i] = prev_centroids[i]\n",
        "              iteration += 1\n",
        "\n",
        "        # If the user does not want the saved transformed data to be used, the below block of code will be executed        \n",
        "        else:\n",
        "          X_train = datatransformation(xarray_data) # Transforming the data\n",
        "          X_train = np.array(datanormalization(X_train)) # Normalizing the data and storing it in the form of a numpy array\n",
        "\n",
        "          ''' Initialize the centroids, using the \"k-means++\" method, where a random datapoint is selected as the first point,\n",
        "           then the rest are initialized w/ probabilities proportional to their distances to the first point.'''\n",
        "\n",
        "          # Pick a random point from train data for first centroid\n",
        "          self.centroids = [random.choice(X_train)]\n",
        "          for _ in range(self.n_clusters-1):\n",
        "              # Calculate distances from points to the centroids\n",
        "              dists = np.sum([euclidean(centroid, X_train) for centroid in self.centroids], axis=0)\n",
        "              # Normalize the distances\n",
        "              dists /= np.sum(dists)\n",
        "              # Choose remaining points based on their distances\n",
        "              new_centroid_idx, = np.random.choice(range(len(X_train)), size=1, p=dists)\n",
        "              self.centroids += [X_train[new_centroid_idx]]\n",
        "\n",
        "          iteration = 0 # setting iteration to 0\n",
        "          prev_centroids = None # setting prev_centroids to None\n",
        "\n",
        "          while np.not_equal(self.centroids, prev_centroids).any() and iteration < self.max_iter:\n",
        "              # Sort each datapoint, assign it to the nearest centroid\n",
        "              sorted_points = [[] for _ in range(self.n_clusters)]\n",
        "              for x in X_train:\n",
        "                  dists = euclidean(x, self.centroids)\n",
        "                  centroid_idx = np.argmin(dists)\n",
        "                  sorted_points[centroid_idx].append(x)\n",
        "              # Push current centroids to previous, reassign centroids as mean of the points belonging to them\n",
        "              prev_centroids = self.centroids\n",
        "              self.centroids = [np.mean(cluster, axis=0) for cluster in sorted_points]\n",
        "              for i, centroid in enumerate(self.centroids):\n",
        "                  if np.isnan(centroid).any():  # Catch any np.nans, resulting from a centroid having no points\n",
        "                      self.centroids[i] = prev_centroids[i]\n",
        "              iteration += 1\n",
        "\n",
        "\n",
        "    def evaluate(self, z, PCA = True, pass_trans_data = True):\n",
        "      ''' This function evaluates and assigns data points to clusters\n",
        "          Parameters that this function will accept are as follows:\n",
        "          1. z = string of the name of the original xarray file\n",
        "          2. PCA (bool) = whether or not PCA has to be applied. Default value is True.\n",
        "          3. pass_trans_data (bool) = whether saved data has to be passed. If False, data will be transformed instantly. Default value is True.'''\n",
        "      \n",
        "      # The following block of code will be executed if the user wants PCA to be applied to the data.\n",
        "      if PCA == True:\n",
        "        # The following code will be executed if the user wants the function to consider already saved transformed data.\n",
        "        if pass_trans_data == True:\n",
        "          k = list(locals().values()) # k will be the list that holds the values of all the parameters that are being passed to the function\n",
        "          path = str(k[1]) # path will capture the value of the first parameter\n",
        "          fullpath = os.path.join(\"/content/drive/MyDrive/Courses/IS-700-Independent_Study/Transformed_data/\" + path + \".csv\")\n",
        "\n",
        "          X = pd.read_csv(fullpath,index_col=[0]) # Already saved transformed dataframe will be read\n",
        "          Y = datanormalization(X) # Data will be normalized here\n",
        "          Y = np.array(PCA_transform(Y)) # PCA will be applied to the data and stored as a numpy array.\n",
        "\n",
        "          # Declaring empty lists that will later hold the values of class_center and classification (1d array output)\n",
        "          centroid = []\n",
        "          centroid_idx = []\n",
        "\n",
        "          i=0\n",
        "          for x in Y:\n",
        "              dists = euclidean(x, self.centroids) # Calling the function defined earlier\n",
        "              centroid_id = np.argmin(dists) # Assigning the points to their nearest centroid\n",
        "              centroid.append(self.centroids[centroid_id]) # Appending the class_centers\n",
        "              centroid_idx.append(centroid_id) # Appending the cluster labels\n",
        "\n",
        "          # The following steps will save the transformed data so that it can be used for visualization at a later stage.\n",
        "          # Converting the normalized data array into a pandas dataframe\n",
        "          transformed_data = pd.DataFrame(Y, index=X.index)\n",
        "\n",
        "          # Adding class centers and cluster numbers as columns to the dataframe\n",
        "          transformed_data['clusterid'] = centroid_idx \n",
        "\n",
        "          # Rearranging the columns in the dataframe\n",
        "          transformed_data = transformed_data[['clusterid']] #+ [c for c in transformed_data if c not in ['clusterid']]]\n",
        "          transformed_data1 = transformed_data # Storing the data along with the index\n",
        "          transformed_data = transformed_data.reset_index() # Resetting the index of the dataframe\n",
        "\n",
        "          return centroid, centroid_idx, transformed_data\n",
        "\n",
        "        # If the user does not want saved data to be considered by the function, the below block will be executed\n",
        "        else:\n",
        "          X = datatransformation(z) # Transforming the original data into a pandas dataframe\n",
        "          Y = datanormalization(X) # Normalizing the transformed data\n",
        "          Y = np.array(PCA_transform(Y)) # Applying PCA to the data and storing it as a numpy array\n",
        "\n",
        "          # Declaring empty lists that will later hold the values of class_center and classification (1d array output)\n",
        "          centroid = []\n",
        "          centroid_idx = []\n",
        "          i=0\n",
        "          for x in Y:\n",
        "              dists = euclidean(x, self.centroids) # Calling the function defined earlier\n",
        "              centroid_id = np.argmin(dists) # Assigning the points to their nearest centroid\n",
        "              centroid.append(self.centroids[centroid_id]) # Appending the class_centers\n",
        "              centroid_idx.append(centroid_id) # Appending the cluster labels\n",
        "\n",
        "          # The following steps will save the transformed data so that it can be used for visualization at a later stage.\n",
        "          # Converting the normalized data array into a pandas dataframe\n",
        "          transformed_data = pd.DataFrame(Y, index=X.index)\n",
        "\n",
        "          # Adding class centers and cluster numbers as columns to the dataframe\n",
        "          transformed_data['clusterid'] = centroid_idx\n",
        "\n",
        "          # Rearranging the columns in the dataframe\n",
        "          transformed_data = transformed_data[['clusterid']]# + [c for c in transformed_data if c not in ['clusterid']]]\n",
        "          transformed_data1 = transformed_data\n",
        "          transformed_data = transformed_data.reset_index()\n",
        "\n",
        "          return centroid, centroid_idx, transformed_data\n",
        "\n",
        "      # The following block of code will be executed if the user does not want PCA to be applied to the data.\n",
        "      else:\n",
        "        # If the user wants already saved transformed data to be considered, the below code will be executed.\n",
        "        if pass_trans_data == True:\n",
        "          k = list(locals().values()) # k will be the list that holds the values of all the parameters that are being passed to the function\n",
        "          path = str(k[1]) # path will hold the value of the first parameter\n",
        "          fullpath = os.path.join(\"/content/drive/MyDrive/Courses/IS-700-Independent_Study/Transformed_data/\" + path + \".csv\")\n",
        "\n",
        "          X = pd.read_csv(fullpath,index_col=[0]) # Already saved transformed data will be read\n",
        "          Y = np.array(datanormalization(X)) # The data will be normalized and saved as a numpy array.\n",
        "\n",
        "          # Declaring empty lists that will later hold the values of class_center and classification (1d array output)\n",
        "          centroid = []\n",
        "          centroid_idx = []\n",
        "\n",
        "          i=0\n",
        "          for x in Y:\n",
        "              dists = euclidean(x, self.centroids) # Calling the function defined earlier\n",
        "              centroid_id = np.argmin(dists) # Assigning the points to their nearest centroid\n",
        "              centroid.append(self.centroids[centroid_id]) # Appending the class_centers\n",
        "              centroid_idx.append(centroid_id) # Appending the cluster labels\n",
        "\n",
        "          # The following steps will save the transformed data so that it can be used for visualization at a later stage.\n",
        "          # Converting the normalized data array into a pandas dataframe\n",
        "          transformed_data = pd.DataFrame(Y, index=X.index)\n",
        "\n",
        "          # Adding class centers and cluster numbers as columns to the dataframe\n",
        "          # transformed_data['Class_Center'] = centroid\n",
        "          transformed_data['clusterid'] = centroid_idx   \n",
        "\n",
        "          # Rearranging the columns in the dataframe\n",
        "          transformed_data = transformed_data[['clusterid']]# + [c for c in transformed_data if c not in ['clusterid']]]\n",
        "          transformed_data1 = transformed_data\n",
        "          transformed_data = transformed_data.reset_index()\n",
        "\n",
        "          return centroid, centroid_idx, transformed_data\n",
        "\n",
        "        # If the user does not want saved data to be considered by the function, the below block will be executed\n",
        "        else:\n",
        "          X = datatransformation(z) # Transforming the original data into a pandas dataframe\n",
        "          Y = np.array(datanormalization(X)) # Normalizing the data and saving it as a numpy array\n",
        "\n",
        "          # Declaring empty lists that will later hold the values of class_center and classification (1d array output)\n",
        "          centroid = []\n",
        "          centroid_idx = []\n",
        "          i=0\n",
        "          for x in Y:\n",
        "              dists = euclidean(x, self.centroids) # Calling the function defined earlier\n",
        "              centroid_id = np.argmin(dists) # Assigning the points to their nearest centroid\n",
        "              centroid.append(self.centroids[centroid_id]) # Appending the class_centers\n",
        "              centroid_idx.append(centroid_id) # Appending the cluster labels\n",
        "\n",
        "          # The following steps will save the transformed data so that it can be used for visualization at a later stage.\n",
        "          # Converting the normalized data array into a pandas dataframe\n",
        "          transformed_data = pd.DataFrame(Y, index=X.index)\n",
        "\n",
        "          # Adding cluster numbers as a column to the dataframe\n",
        "          transformed_data['clusterid'] = centroid_idx\n",
        "\n",
        "          # Rearranging the columns in the dataframe\n",
        "          transformed_data = transformed_data[['clusterid']] #+ [c for c in transformed_data if c not in ['clusterid']]]\n",
        "          transformed_data1 = transformed_data\n",
        "          transformed_data = transformed_data.reset_index()              \n",
        "\n",
        "          return centroid, centroid_idx, transformed_data"
      ],
      "metadata": {
        "id": "bAAhOWOuScJV"
      },
      "execution_count": null,
      "outputs": []
    },
    {
      "cell_type": "code",
      "source": [
        "# Function to modify the dataframe returned by the evaluate function.\n",
        "\n",
        "def modify_date(df):\n",
        "  # This function will accept a dataframe as an input.\n",
        "\n",
        "  # Since the dataframe returned by the evaluate function has date as a string, the following line will convert it to the specified date format.\n",
        "  df['index'] = pd.to_datetime(df['index'], format='%Y-%m-%d') \n",
        "  # A new column called time_step will be added which will have the year followed by the day of the year.\n",
        "  df['time_step'] = df['index'].dt.strftime(\"%Y-%j\")\n",
        "  # Dropping the column 'index'\n",
        "  df = df.drop(['index'], axis=1)\n",
        "  return df"
      ],
      "metadata": {
        "id": "8kz152Vp2jje"
      },
      "execution_count": null,
      "outputs": []
    },
    {
      "cell_type": "code",
      "source": [
        "# Function that saves the modified dataframe\n",
        "\n",
        "def save_df(df,df_name):\n",
        "  # This function will accept a dataframe and its name as an input.\n",
        "\n",
        "  # The following code will save the dataframe to the location specified below.\n",
        "  path = '/content/drive/MyDrive/Courses/IS-700-Independent_Study/'+df_name+'.csv'\n",
        "  df.to_csv(path,index=True)\n",
        "  return"
      ],
      "metadata": {
        "id": "9AgMa2802jHz"
      },
      "execution_count": null,
      "outputs": []
    },
    {
      "cell_type": "markdown",
      "source": [
        "# **Fitting the model to every data file.**"
      ],
      "metadata": {
        "id": "A8HgAi-ZnW_L"
      }
    },
    {
      "cell_type": "markdown",
      "source": [
        "## **Mock_v4.nc**"
      ],
      "metadata": {
        "id": "X3wC6dOQn8iz"
      }
    },
    {
      "cell_type": "code",
      "source": [
        "centers = 3\n",
        "kmeans = KMeans(n_clusters=centers)\n",
        "kmeans.fit('mdata_4',PCA=True,pass_trans_data=True)\n",
        "\n",
        "class_centers_mdata_4, classification_mdata_4, transformed_data_mdata_4 = kmeans.evaluate('mdata_4',PCA=True,pass_trans_data=True)\n",
        "transformed_data_mdata_4 = modify_date(transformed_data_mdata_4)\n",
        "save_df(transformed_data_mdata_4,'transformed_data_mdata_4')\n",
        "\n",
        "classification_mdata_4"
      ],
      "metadata": {
        "id": "5L_ggc0T4dkU",
        "colab": {
          "base_uri": "https://localhost:8080/"
        },
        "outputId": "8ec262a2-8b63-41b1-b9b0-9c6cabc7d42b"
      },
      "execution_count": null,
      "outputs": [
        {
          "output_type": "execute_result",
          "data": {
            "text/plain": [
              "[1, 1, 1, 1, 1, 1, 1, 1, 1, 1, 2, 2, 2, 2, 2, 0, 0, 0, 0, 0]"
            ]
          },
          "metadata": {},
          "execution_count": 15
        }
      ]
    },
    {
      "cell_type": "markdown",
      "source": [
        "## **Mock_v3.1.nc**"
      ],
      "metadata": {
        "id": "szAWDqcKoB0v"
      }
    },
    {
      "cell_type": "code",
      "source": [
        "centers = 3\n",
        "kmeans = KMeans(n_clusters=centers)\n",
        "kmeans.fit('mdata_3_1',PCA=True,pass_trans_data=True)\n",
        "\n",
        "class_centers_mdata_3_1, classification_mdata_3_1, transformed_data_mdata_3_1 = kmeans.evaluate('mdata_3_1',PCA=True,pass_trans_data=True)\n",
        "transformed_data_mdata_3_1 = modify_date(transformed_data_mdata_3_1)\n",
        "save_df(transformed_data_mdata_3_1,'transformed_data_mdata_3_1')\n",
        "\n",
        "classification_mdata_3_1"
      ],
      "metadata": {
        "colab": {
          "base_uri": "https://localhost:8080/"
        },
        "id": "dbt-WPRe_WjW",
        "outputId": "2ab4818d-1fff-4a7f-db2f-818c7dc2611f"
      },
      "execution_count": null,
      "outputs": [
        {
          "output_type": "execute_result",
          "data": {
            "text/plain": [
              "[0, 0, 0, 0, 0, 0, 0, 0, 0, 0, 2, 2, 2, 2, 2, 1, 1, 1, 1, 1]"
            ]
          },
          "metadata": {},
          "execution_count": 16
        }
      ]
    },
    {
      "cell_type": "markdown",
      "source": [
        "## **Mock_v2.1.nc**"
      ],
      "metadata": {
        "id": "sPGUAa-OoHrb"
      }
    },
    {
      "cell_type": "code",
      "source": [
        "centers = 2\n",
        "kmeans = KMeans(n_clusters=centers)\n",
        "kmeans.fit('mdata_2_1',PCA=True,pass_trans_data=True)\n",
        "\n",
        "class_centers_mdata_2_1, classification_mdata_2_1, transformed_data_mdata_2_1 = kmeans.evaluate('mdata_2_1',PCA=True,pass_trans_data=True)\n",
        "transformed_data_mdata_2_1 = modify_date(transformed_data_mdata_2_1)\n",
        "save_df(transformed_data_mdata_2_1,'transformed_data_mdata_2_1')\n",
        "\n",
        "classification_mdata_2_1"
      ],
      "metadata": {
        "id": "kn-uk0bH4wm6",
        "colab": {
          "base_uri": "https://localhost:8080/"
        },
        "outputId": "21c03f56-2905-4061-86c6-74c9dbe76906"
      },
      "execution_count": null,
      "outputs": [
        {
          "output_type": "execute_result",
          "data": {
            "text/plain": [
              "[0, 0, 0, 0, 0, 0, 0, 0, 0, 0, 1, 1, 1, 1, 1, 1, 1, 1, 1, 1]"
            ]
          },
          "metadata": {},
          "execution_count": 17
        }
      ]
    },
    {
      "cell_type": "markdown",
      "source": [
        "## **Mock_v1.nc**"
      ],
      "metadata": {
        "id": "CRs8-D9yoNgD"
      }
    },
    {
      "cell_type": "code",
      "source": [
        "centers = 2\n",
        "kmeans = KMeans(n_clusters=centers)\n",
        "kmeans.fit('mdata_1',PCA=True,pass_trans_data=True)\n",
        "\n",
        "class_centers_mdata_1, classification_mdata_1, transformed_data_mdata_1 = kmeans.evaluate('mdata_1',PCA=True,pass_trans_data=True)\n",
        "transformed_data_mdata_1 = modify_date(transformed_data_mdata_1)\n",
        "save_df(transformed_data_mdata_1,'transformed_data_mdata_1')\n",
        "\n",
        "classification_mdata_1"
      ],
      "metadata": {
        "id": "h9_zOG6x4xJ8",
        "colab": {
          "base_uri": "https://localhost:8080/"
        },
        "outputId": "cfe1cef3-ad6f-4df2-ef64-c2414c01951e"
      },
      "execution_count": null,
      "outputs": [
        {
          "output_type": "execute_result",
          "data": {
            "text/plain": [
              "[0, 0, 0, 0, 0, 0, 0, 0, 0, 0, 1, 1, 1, 1, 1, 1, 1, 1, 1, 1]"
            ]
          },
          "metadata": {},
          "execution_count": 18
        }
      ]
    },
    {
      "cell_type": "markdown",
      "source": [
        "## **ERA5_meteo_sfc_2021_daily.nc**"
      ],
      "metadata": {
        "id": "a0hLICnloSiz"
      }
    },
    {
      "cell_type": "code",
      "source": [
        "centers = 3\n",
        "kmeans = KMeans(n_clusters=centers)\n",
        "kmeans.fit('rdata_daily',PCA=True,pass_trans_data=True)\n",
        "\n",
        "class_centers_rdata_daily, classification_rdata_daily, transformed_data_rdata_daily = kmeans.evaluate('rdata_daily',PCA=True,pass_trans_data=True)\n",
        "transformed_data_rdata_daily = modify_date(transformed_data_rdata_daily)\n",
        "save_df(transformed_data_rdata_daily,'transformed_data_rdata_daily')\n",
        "\n",
        "classification_rdata_daily"
      ],
      "metadata": {
        "colab": {
          "base_uri": "https://localhost:8080/"
        },
        "id": "lUuXt5g-n1tl",
        "outputId": "ab84f5c6-47c2-4d0d-90ed-02b13048e873"
      },
      "execution_count": null,
      "outputs": [
        {
          "output_type": "execute_result",
          "data": {
            "text/plain": [
              "[2,\n",
              " 2,\n",
              " 2,\n",
              " 2,\n",
              " 2,\n",
              " 2,\n",
              " 1,\n",
              " 1,\n",
              " 2,\n",
              " 2,\n",
              " 2,\n",
              " 2,\n",
              " 2,\n",
              " 2,\n",
              " 2,\n",
              " 2,\n",
              " 2,\n",
              " 2,\n",
              " 2,\n",
              " 2,\n",
              " 2,\n",
              " 2,\n",
              " 2,\n",
              " 2,\n",
              " 2,\n",
              " 2,\n",
              " 2,\n",
              " 2,\n",
              " 2,\n",
              " 2,\n",
              " 2,\n",
              " 2,\n",
              " 2,\n",
              " 2,\n",
              " 2,\n",
              " 2,\n",
              " 2,\n",
              " 2,\n",
              " 2,\n",
              " 2,\n",
              " 2,\n",
              " 2,\n",
              " 2,\n",
              " 2,\n",
              " 2,\n",
              " 2,\n",
              " 2,\n",
              " 2,\n",
              " 2,\n",
              " 2,\n",
              " 2,\n",
              " 2,\n",
              " 2,\n",
              " 2,\n",
              " 2,\n",
              " 2,\n",
              " 2,\n",
              " 2,\n",
              " 2,\n",
              " 2,\n",
              " 2,\n",
              " 2,\n",
              " 2,\n",
              " 2,\n",
              " 2,\n",
              " 2,\n",
              " 2,\n",
              " 2,\n",
              " 2,\n",
              " 2,\n",
              " 2,\n",
              " 2,\n",
              " 2,\n",
              " 2,\n",
              " 2,\n",
              " 2,\n",
              " 2,\n",
              " 2,\n",
              " 2,\n",
              " 2,\n",
              " 2,\n",
              " 2,\n",
              " 2,\n",
              " 2,\n",
              " 2,\n",
              " 2,\n",
              " 2,\n",
              " 2,\n",
              " 2,\n",
              " 2,\n",
              " 2,\n",
              " 2,\n",
              " 2,\n",
              " 2,\n",
              " 2,\n",
              " 2,\n",
              " 2,\n",
              " 2,\n",
              " 2,\n",
              " 2,\n",
              " 2,\n",
              " 2,\n",
              " 2,\n",
              " 2,\n",
              " 2,\n",
              " 2,\n",
              " 2,\n",
              " 2,\n",
              " 2,\n",
              " 2,\n",
              " 2,\n",
              " 2,\n",
              " 2,\n",
              " 2,\n",
              " 2,\n",
              " 2,\n",
              " 2,\n",
              " 2,\n",
              " 2,\n",
              " 2,\n",
              " 2,\n",
              " 2,\n",
              " 2,\n",
              " 2,\n",
              " 2,\n",
              " 2,\n",
              " 2,\n",
              " 2,\n",
              " 2,\n",
              " 2,\n",
              " 2,\n",
              " 2,\n",
              " 2,\n",
              " 2,\n",
              " 2,\n",
              " 2,\n",
              " 2,\n",
              " 1,\n",
              " 1,\n",
              " 1,\n",
              " 1,\n",
              " 1,\n",
              " 1,\n",
              " 1,\n",
              " 1,\n",
              " 1,\n",
              " 1,\n",
              " 1,\n",
              " 1,\n",
              " 1,\n",
              " 1,\n",
              " 1,\n",
              " 1,\n",
              " 1,\n",
              " 1,\n",
              " 1,\n",
              " 1,\n",
              " 1,\n",
              " 1,\n",
              " 1,\n",
              " 1,\n",
              " 1,\n",
              " 1,\n",
              " 1,\n",
              " 1,\n",
              " 1,\n",
              " 1,\n",
              " 1,\n",
              " 1,\n",
              " 1,\n",
              " 1,\n",
              " 1,\n",
              " 1,\n",
              " 1,\n",
              " 0,\n",
              " 0,\n",
              " 0,\n",
              " 0,\n",
              " 0,\n",
              " 0,\n",
              " 0,\n",
              " 0,\n",
              " 0,\n",
              " 0,\n",
              " 0,\n",
              " 0,\n",
              " 0,\n",
              " 0,\n",
              " 0,\n",
              " 0,\n",
              " 0,\n",
              " 0,\n",
              " 1,\n",
              " 0,\n",
              " 0,\n",
              " 0,\n",
              " 0,\n",
              " 0,\n",
              " 0,\n",
              " 0,\n",
              " 0,\n",
              " 0,\n",
              " 0,\n",
              " 0,\n",
              " 0,\n",
              " 0,\n",
              " 0,\n",
              " 0,\n",
              " 0,\n",
              " 0,\n",
              " 0,\n",
              " 0,\n",
              " 0,\n",
              " 0,\n",
              " 0,\n",
              " 0,\n",
              " 0,\n",
              " 0,\n",
              " 0,\n",
              " 0,\n",
              " 0,\n",
              " 0,\n",
              " 0,\n",
              " 0,\n",
              " 0,\n",
              " 0,\n",
              " 0,\n",
              " 0,\n",
              " 0,\n",
              " 0,\n",
              " 0,\n",
              " 0,\n",
              " 0,\n",
              " 0,\n",
              " 0,\n",
              " 0,\n",
              " 0,\n",
              " 0,\n",
              " 0,\n",
              " 0,\n",
              " 0,\n",
              " 0,\n",
              " 0,\n",
              " 0,\n",
              " 0,\n",
              " 0,\n",
              " 0,\n",
              " 0,\n",
              " 0,\n",
              " 0,\n",
              " 0,\n",
              " 0,\n",
              " 0,\n",
              " 0,\n",
              " 0,\n",
              " 0,\n",
              " 0,\n",
              " 0,\n",
              " 0,\n",
              " 0,\n",
              " 0,\n",
              " 0,\n",
              " 0,\n",
              " 0,\n",
              " 0,\n",
              " 0,\n",
              " 0,\n",
              " 0,\n",
              " 0,\n",
              " 0,\n",
              " 0,\n",
              " 0,\n",
              " 0,\n",
              " 0,\n",
              " 0,\n",
              " 0,\n",
              " 0,\n",
              " 0,\n",
              " 0,\n",
              " 0,\n",
              " 0,\n",
              " 0,\n",
              " 0,\n",
              " 0,\n",
              " 0,\n",
              " 0,\n",
              " 0,\n",
              " 0,\n",
              " 0,\n",
              " 0,\n",
              " 0,\n",
              " 0,\n",
              " 0,\n",
              " 0,\n",
              " 0,\n",
              " 0,\n",
              " 0,\n",
              " 0,\n",
              " 0,\n",
              " 0,\n",
              " 0,\n",
              " 0,\n",
              " 0,\n",
              " 0,\n",
              " 0,\n",
              " 0,\n",
              " 0,\n",
              " 0,\n",
              " 0,\n",
              " 0,\n",
              " 0,\n",
              " 0,\n",
              " 0,\n",
              " 0,\n",
              " 0,\n",
              " 0,\n",
              " 0,\n",
              " 1,\n",
              " 1,\n",
              " 1,\n",
              " 1,\n",
              " 1,\n",
              " 1,\n",
              " 1,\n",
              " 1,\n",
              " 1,\n",
              " 1,\n",
              " 1,\n",
              " 1,\n",
              " 1,\n",
              " 1,\n",
              " 1,\n",
              " 1,\n",
              " 1,\n",
              " 1,\n",
              " 1,\n",
              " 1,\n",
              " 1,\n",
              " 1,\n",
              " 1,\n",
              " 1,\n",
              " 1,\n",
              " 1,\n",
              " 1,\n",
              " 1,\n",
              " 1,\n",
              " 1,\n",
              " 1,\n",
              " 1,\n",
              " 2,\n",
              " 2,\n",
              " 2,\n",
              " 2,\n",
              " 2,\n",
              " 2,\n",
              " 2,\n",
              " 2,\n",
              " 2,\n",
              " 2,\n",
              " 2,\n",
              " 2,\n",
              " 2,\n",
              " 2,\n",
              " 2,\n",
              " 2]"
            ]
          },
          "metadata": {},
          "execution_count": 19
        }
      ]
    }
  ]
}