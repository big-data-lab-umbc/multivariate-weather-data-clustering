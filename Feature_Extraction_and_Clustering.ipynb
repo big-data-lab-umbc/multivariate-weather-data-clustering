{
  "nbformat": 4,
  "nbformat_minor": 0,
  "metadata": {
    "colab": {
      "name": "Feature_Extraction_and_Clustering.ipynb",
      "provenance": [],
      "collapsed_sections": [
        "SZvTW1RJzwRQ"
      ]
    },
    "kernelspec": {
      "name": "python3",
      "display_name": "Python 3"
    },
    "language_info": {
      "name": "python"
    },
    "accelerator": "GPU"
  },
  "cells": [
    {
      "cell_type": "code",
      "execution_count": null,
      "metadata": {
        "colab": {
          "base_uri": "https://localhost:8080/"
        },
        "id": "WM7VuTYBE7zd",
        "outputId": "61485ece-f7a2-4a0a-9dd5-bbf9d33a1a06"
      },
      "outputs": [
        {
          "output_type": "stream",
          "name": "stdout",
          "text": [
            "Mounted at /content/drive\n"
          ]
        }
      ],
      "source": [
        "from google.colab import drive\n",
        "drive.mount('/content/drive')"
      ]
    },
    {
      "cell_type": "markdown",
      "source": [
        "##Install extra libraries"
      ],
      "metadata": {
        "id": "yxK4pKv16H70"
      }
    },
    {
      "cell_type": "code",
      "source": [
        ""
      ],
      "metadata": {
        "id": "PliG2gLE5-OC"
      },
      "execution_count": null,
      "outputs": []
    },
    {
      "cell_type": "code",
      "source": [
        "#!pip install cartopy"
      ],
      "metadata": {
        "id": "h1GMO_AYFiMu"
      },
      "execution_count": null,
      "outputs": []
    },
    {
      "cell_type": "code",
      "source": [
        "#!pip install metpy"
      ],
      "metadata": {
        "id": "CmixtcUMFyeF"
      },
      "execution_count": null,
      "outputs": []
    },
    {
      "cell_type": "code",
      "source": [
        "#!pip install matplotlib==3.3.0"
      ],
      "metadata": {
        "id": "CY4DTcpPF5c9"
      },
      "execution_count": null,
      "outputs": []
    },
    {
      "cell_type": "code",
      "source": [
        "from tensorflow.keras.applications.inception_v3 import InceptionV3\n",
        "from tensorflow.keras.applications.inception_v3 import preprocess_input\n",
        "from tensorflow.keras.preprocessing import image\n",
        "from tensorflow.keras.preprocessing.image import img_to_array\n",
        "from sklearn.cluster import KMeans\n",
        "from PIL import Image\n",
        "import pandas as pd\n",
        "import numpy as np\n",
        "from tqdm import tqdm\n",
        "import os\n",
        "import shutil\n",
        "from matplotlib import pyplot as plt\n",
        "from matplotlib.animation import FuncAnimation\n",
        "import cartopy.crs as ccrs\n",
        "from cartopy.feature import NaturalEarthFeature\n",
        "from metpy.cbook import get_test_data\n",
        "from sklearn.decomposition import PCA"
      ],
      "metadata": {
        "id": "EVywwo6eFG9P"
      },
      "execution_count": null,
      "outputs": []
    },
    {
      "cell_type": "markdown",
      "source": [
        "##Extracting and clustering individual variable features"
      ],
      "metadata": {
        "id": "J8D1E5I16Wl_"
      }
    },
    {
      "cell_type": "code",
      "source": [
        "def image_feature(path, direc):\n",
        "    model = InceptionV3(weights='imagenet', include_top=False)\n",
        "    features = [];\n",
        "    img_name = [];\n",
        "    for i in tqdm(direc):\n",
        "        fname=path + 'skt'+'/'+i\n",
        "        print(fname)\n",
        "        img=image.load_img(fname)\n",
        "        x = img_to_array(img)\n",
        "        x=np.expand_dims(x,axis=0)\n",
        "        x=preprocess_input(x)\n",
        "        feat=model.predict(x)\n",
        "        feat=feat.flatten()\n",
        "        features.append(feat)\n",
        "        img_name.append(i)\n",
        "    return features,img_name"
      ],
      "metadata": {
        "id": "6h9Y6JiBcB-b"
      },
      "execution_count": null,
      "outputs": []
    },
    {
      "cell_type": "code",
      "source": [
        "path = '/content/drive/MyDrive/ECRP_Data_Science/generated_images/'\n",
        "\n",
        "pca = PCA(3)"
      ],
      "metadata": {
        "id": "N5pxzF97FTX_"
      },
      "execution_count": null,
      "outputs": []
    },
    {
      "cell_type": "markdown",
      "source": [
        "##Clustering for skt"
      ],
      "metadata": {
        "id": "ps4CjEFToCRg"
      }
    },
    {
      "cell_type": "code",
      "source": [
        "img_path = os.listdir('/content/drive/MyDrive/ECRP_Data_Science/generated_images/skt')"
      ],
      "metadata": {
        "id": "eqLO6kp0oA-2"
      },
      "execution_count": null,
      "outputs": []
    },
    {
      "cell_type": "code",
      "source": [
        "#img_features, img_name = image_feature(path, img_path)"
      ],
      "metadata": {
        "id": "lgk-oTUWGyoh"
      },
      "execution_count": null,
      "outputs": []
    },
    {
      "cell_type": "code",
      "source": [
        "#num_feat = len(img_features)\n",
        "\n",
        "#print('The number of generated features from skt is:', num_feat)"
      ],
      "metadata": {
        "id": "OYrOooomcS-2"
      },
      "execution_count": null,
      "outputs": []
    },
    {
      "cell_type": "code",
      "source": [
        "df_skt = pd.DataFrame(img_features)\n",
        "print(df_skt)"
      ],
      "metadata": {
        "id": "d5GRgg-D379C"
      },
      "execution_count": null,
      "outputs": []
    },
    {
      "cell_type": "code",
      "source": [
        "df1_skt = pca.fit_transform(df_skt)\n",
        "df2_skt = pd.DataFrame(df1_skt)\n",
        "#df2_skt.to_csv('/content/drive/MyDrive/ECRP_Data_Science/Extracting_Features/Extracted_Features/PCA_reduced/skt_PCA_features.csv')"
      ],
      "metadata": {
        "id": "aUlHAx_m43HP"
      },
      "execution_count": null,
      "outputs": []
    },
    {
      "cell_type": "code",
      "source": [
        "print(df2_skt)"
      ],
      "metadata": {
        "id": "bJnt7lOooon3"
      },
      "execution_count": null,
      "outputs": []
    },
    {
      "cell_type": "code",
      "source": [
        "#df_skt.to_csv('/content/drive/MyDrive/ECRP_Data_Science/Extracting_Features/Extracted_Features/skt_features.csv')"
      ],
      "metadata": {
        "id": "0Ft85Qbv24-D"
      },
      "execution_count": null,
      "outputs": []
    },
    {
      "cell_type": "code",
      "source": [
        "#cluster on all features\n",
        "k = 4\n",
        "clusters = KMeans(k, random_state = 40)\n",
        "clusters.fit(img_features)"
      ],
      "metadata": {
        "id": "Eoyu0i5AhOtO"
      },
      "execution_count": null,
      "outputs": []
    },
    {
      "cell_type": "code",
      "source": [
        "image_cluster = pd.DataFrame(img_name, columns=['image'])\n",
        "image_cluster[\"clusterid\"] = clusters.labels_\n",
        "image_cluster\n",
        "#image_cluster.to_csv('/content/drive/MyDrive/ECRP_Data_Science/Created_Clusters/skt_clusters.csv')"
      ],
      "metadata": {
        "id": "QpbEI3Ezjt3y"
      },
      "execution_count": null,
      "outputs": []
    },
    {
      "cell_type": "code",
      "source": [
        "image_cluster[(image_cluster[[\"clusterid\"]].values == 1)]"
      ],
      "metadata": {
        "id": "T6EHuLQBkAS2"
      },
      "execution_count": null,
      "outputs": []
    },
    {
      "cell_type": "markdown",
      "source": [
        "## Cluster for v10"
      ],
      "metadata": {
        "id": "ZtNlsfV8vNzI"
      }
    },
    {
      "cell_type": "code",
      "source": [
        "def image_feature(path, direc):\n",
        "    model = InceptionV3(weights='imagenet', include_top=False)\n",
        "    features = [];\n",
        "    img_name = [];\n",
        "    for i in tqdm(direc):\n",
        "        fname=path + 'v10'+'/'+i\n",
        "        print(fname)\n",
        "        img=image.load_img(fname,target_size=(224,224))\n",
        "        x = img_to_array(img)\n",
        "        x=np.expand_dims(x,axis=0)\n",
        "        x=preprocess_input(x)\n",
        "        feat=model.predict(x)\n",
        "        feat=feat.flatten()\n",
        "        features.append(feat)\n",
        "        img_name.append(i)\n",
        "    return features,img_name"
      ],
      "metadata": {
        "id": "zvRzmEojorw1"
      },
      "execution_count": null,
      "outputs": []
    },
    {
      "cell_type": "code",
      "source": [
        "img_path = os.listdir('/content/drive/MyDrive/ECRP_Data_Science/generated_images/v10')"
      ],
      "metadata": {
        "id": "ZPP9vfgOlqSZ"
      },
      "execution_count": null,
      "outputs": []
    },
    {
      "cell_type": "code",
      "source": [
        "img_features, img_name = image_feature(path, img_path)"
      ],
      "metadata": {
        "id": "9fQT9KTfvgAT"
      },
      "execution_count": null,
      "outputs": []
    },
    {
      "cell_type": "code",
      "source": [
        "df_v10 = pd.DataFrame(img_features)"
      ],
      "metadata": {
        "id": "PcOAytEjK_zV"
      },
      "execution_count": null,
      "outputs": []
    },
    {
      "cell_type": "code",
      "source": [
        "df1_v10 = pca.fit_transform(df_v10)\n",
        "df2_v10 = pd.DataFrame(df1_v10)\n",
        "#df2_v10.to_csv('/content/drive/MyDrive/ECRP_Data_Science/Extracting_Features/Extracted_Features/PCA_reduced/v10_PCA_features.csv')"
      ],
      "metadata": {
        "id": "pXSenP6Uk0ih"
      },
      "execution_count": null,
      "outputs": []
    },
    {
      "cell_type": "code",
      "source": [
        "#df_v10.to_csv('/content/drive/MyDrive/ECRP_Data_Science/Extracting_Features/Extracted_Features/v10_features.csv')"
      ],
      "metadata": {
        "id": "3wjGQN3XK_nj"
      },
      "execution_count": null,
      "outputs": []
    },
    {
      "cell_type": "code",
      "source": [
        "k = 4\n",
        "clusters = KMeans(k, random_state = 40)\n",
        "clusters.fit(img_features)"
      ],
      "metadata": {
        "id": "nX0bn-UGvsI_"
      },
      "execution_count": null,
      "outputs": []
    },
    {
      "cell_type": "code",
      "source": [
        "image_cluster = pd.DataFrame(img_name, columns=['image'])\n",
        "image_cluster[\"clusterid\"] = clusters.labels_\n",
        "image_cluster\n",
        "#image_cluster.to_csv('/content/drive/MyDrive/ECRP_Data_Science/Created_Clusters/v10_clusters.csv')"
      ],
      "metadata": {
        "id": "3fE_px2pytBN"
      },
      "execution_count": null,
      "outputs": []
    },
    {
      "cell_type": "markdown",
      "source": [
        "##Clustering for u10"
      ],
      "metadata": {
        "id": "I1gn8R5_vt87"
      }
    },
    {
      "cell_type": "code",
      "source": [
        "def image_feature(path, direc):\n",
        "    model = InceptionV3(weights='imagenet', include_top=False)\n",
        "    features = [];\n",
        "    img_name = [];\n",
        "    for i in tqdm(direc):\n",
        "        fname=path + 'u10'+'/'+i\n",
        "        print(fname)\n",
        "        img=image.load_img(fname,target_size=(224,224))\n",
        "        x = img_to_array(img)\n",
        "        x=np.expand_dims(x,axis=0)\n",
        "        x=preprocess_input(x)\n",
        "        feat=model.predict(x)\n",
        "        feat=feat.flatten()\n",
        "        features.append(feat)\n",
        "        img_name.append(i)\n",
        "    return features,img_name"
      ],
      "metadata": {
        "id": "_8eo-TuGoxE4"
      },
      "execution_count": null,
      "outputs": []
    },
    {
      "cell_type": "code",
      "source": [
        "img_path = os.listdir('/content/drive/MyDrive/ECRP_Data_Science/generated_images/u10')"
      ],
      "metadata": {
        "id": "xlGeMbrgvsLe"
      },
      "execution_count": null,
      "outputs": []
    },
    {
      "cell_type": "code",
      "source": [
        "img_features, img_name = image_feature(path, img_path)"
      ],
      "metadata": {
        "id": "0ZSqsZZDvyGI"
      },
      "execution_count": null,
      "outputs": []
    },
    {
      "cell_type": "code",
      "source": [
        ""
      ],
      "metadata": {
        "id": "VHNlPvyQMXCz"
      },
      "execution_count": null,
      "outputs": []
    },
    {
      "cell_type": "code",
      "source": [
        "df_u10 = pd.DataFrame(img_features)"
      ],
      "metadata": {
        "id": "uy9N3z0CMVxB"
      },
      "execution_count": null,
      "outputs": []
    },
    {
      "cell_type": "code",
      "source": [
        "df1_u10 = pca.fit_transform(df_u10)\n",
        "df2_u10 = pd.DataFrame(df1_u10)\n",
        "#df2_u10.to_csv('/content/drive/MyDrive/ECRP_Data_Science/Extracting_Features/Extracted_Features/PCA_reduced/u10_PCA_features.csv')"
      ],
      "metadata": {
        "id": "ubqAfvhPlaFt"
      },
      "execution_count": null,
      "outputs": []
    },
    {
      "cell_type": "code",
      "source": [
        "#df_u10.to_csv('/content/drive/MyDrive/ECRP_Data_Science/Extracting_Features/Extracted_Features/u10_features.csv')"
      ],
      "metadata": {
        "id": "j2vQpgK8MXzX"
      },
      "execution_count": null,
      "outputs": []
    },
    {
      "cell_type": "code",
      "source": [
        "k = 4\n",
        "clusters = KMeans(k, random_state = 40)\n",
        "clusters.fit(img_features)"
      ],
      "metadata": {
        "id": "CWPY-hThyfTX"
      },
      "execution_count": null,
      "outputs": []
    },
    {
      "cell_type": "code",
      "source": [
        "image_cluster = pd.DataFrame(img_name, columns=['image'])\n",
        "image_cluster[\"clusterid\"] = clusters.labels_\n",
        "#image_cluster.to_csv('/content/drive/MyDrive/ECRP_Data_Science/Created_Clusters/u10_clusters.csv')"
      ],
      "metadata": {
        "id": "95AmF96_yuyw"
      },
      "execution_count": null,
      "outputs": []
    },
    {
      "cell_type": "code",
      "source": [
        ""
      ],
      "metadata": {
        "id": "aKO_NITcMRC0"
      },
      "execution_count": null,
      "outputs": []
    },
    {
      "cell_type": "markdown",
      "source": [
        "## Clustering for sp"
      ],
      "metadata": {
        "id": "xQS5P0fHvzH3"
      }
    },
    {
      "cell_type": "code",
      "source": [
        "def image_feature(path, direc):\n",
        "    model = InceptionV3(weights='imagenet', include_top=False)\n",
        "    features = [];\n",
        "    img_name = [];\n",
        "    for i in tqdm(direc):\n",
        "        fname=path + 'sp'+'/'+i\n",
        "        print(fname)\n",
        "        img=image.load_img(fname,target_size=(224,224))\n",
        "        x = img_to_array(img)\n",
        "        x=np.expand_dims(x,axis=0)\n",
        "        x=preprocess_input(x)\n",
        "        feat=model.predict(x)\n",
        "        feat=feat.flatten()\n",
        "        features.append(feat)\n",
        "        img_name.append(i)\n",
        "    return features,img_name"
      ],
      "metadata": {
        "id": "UEwXFDVno2uv"
      },
      "execution_count": null,
      "outputs": []
    },
    {
      "cell_type": "code",
      "source": [
        "img_path = os.listdir('/content/drive/MyDrive/ECRP_Data_Science/generated_images/sp')"
      ],
      "metadata": {
        "id": "RjqaXhQZvyID"
      },
      "execution_count": null,
      "outputs": []
    },
    {
      "cell_type": "code",
      "source": [
        "img_features, img_name = image_feature(path, img_path)"
      ],
      "metadata": {
        "id": "A0UTiXjUxZt9"
      },
      "execution_count": null,
      "outputs": []
    },
    {
      "cell_type": "code",
      "source": [
        "df_sp = pd.DataFrame(img_features)"
      ],
      "metadata": {
        "id": "wg0oeYD5M-GJ"
      },
      "execution_count": null,
      "outputs": []
    },
    {
      "cell_type": "code",
      "source": [
        "df1_sp = pca.fit_transform(df_sp)\n",
        "df2_sp = pd.DataFrame(df1_sp)\n",
        "#df2_sp.to_csv('/content/drive/MyDrive/ECRP_Data_Science/Extracting_Features/Extracted_Features/PCA_reduced/sp_PCA_features.csv')"
      ],
      "metadata": {
        "id": "_t0ACsJJl1cx"
      },
      "execution_count": null,
      "outputs": []
    },
    {
      "cell_type": "code",
      "source": [
        "#df_v10.to_csv('/content/drive/MyDrive/ECRP_Data_Science/Extracting_Features/Extracted_Features/sp_features.csv')"
      ],
      "metadata": {
        "id": "GGzWmm0yOqNp"
      },
      "execution_count": null,
      "outputs": []
    },
    {
      "cell_type": "code",
      "source": [
        "k = 4\n",
        "clusters = KMeans(k, random_state = 40)\n",
        "clusters.fit(img_features)"
      ],
      "metadata": {
        "id": "DGsr6twnxZr_"
      },
      "execution_count": null,
      "outputs": []
    },
    {
      "cell_type": "code",
      "source": [
        "image_cluster = pd.DataFrame(img_name, columns=['image'])\n",
        "image_cluster[\"clusterid\"] = clusters.labels_\n",
        "#image_cluster.to_csv('/content/drive/MyDrive/ECRP_Data_Science/Created_Clusters/sp_clusters.csv')"
      ],
      "metadata": {
        "id": "SoL_xarTxZgA"
      },
      "execution_count": null,
      "outputs": []
    },
    {
      "cell_type": "code",
      "source": [
        ""
      ],
      "metadata": {
        "id": "iFxD7LyuM47W"
      },
      "execution_count": null,
      "outputs": []
    },
    {
      "cell_type": "markdown",
      "source": [
        "## t2m"
      ],
      "metadata": {
        "id": "GTFA5t78xfC1"
      }
    },
    {
      "cell_type": "code",
      "source": [
        "def image_feature(path, direc):\n",
        "    model = InceptionV3(weights='imagenet', include_top=False)\n",
        "    features = [];\n",
        "    img_name = [];\n",
        "    for i in tqdm(direc):\n",
        "        fname=path + 't2m'+'/'+i\n",
        "        print(fname)\n",
        "        img=image.load_img(fname,target_size=(224,224))\n",
        "        x = img_to_array(img)\n",
        "        x=np.expand_dims(x,axis=0)\n",
        "        x=preprocess_input(x)\n",
        "        feat=model.predict(x)\n",
        "        feat=feat.flatten()\n",
        "        features.append(feat)\n",
        "        img_name.append(i)\n",
        "    return features,img_name"
      ],
      "metadata": {
        "id": "cFuqDov7o7WS"
      },
      "execution_count": null,
      "outputs": []
    },
    {
      "cell_type": "code",
      "source": [
        "img_path = os.listdir('/content/drive/MyDrive/ECRP_Data_Science/generated_images/t2m')"
      ],
      "metadata": {
        "id": "wlM4qtwjxZeN"
      },
      "execution_count": null,
      "outputs": []
    },
    {
      "cell_type": "code",
      "source": [
        "img_features, img_name = image_feature(path, img_path)"
      ],
      "metadata": {
        "id": "XNaI7HmCxZb9"
      },
      "execution_count": null,
      "outputs": []
    },
    {
      "cell_type": "code",
      "source": [
        "df_t2m = pd.DataFrame(img_features)"
      ],
      "metadata": {
        "id": "jBf3EBSGPI48"
      },
      "execution_count": null,
      "outputs": []
    },
    {
      "cell_type": "code",
      "source": [
        "df1_t2m = pca.fit_transform(df_t2m)\n",
        "df2_t2m = pd.DataFrame(df1_t2m)\n",
        "#df2_t2m.to_csv('/content/drive/MyDrive/ECRP_Data_Science/Extracting_Features/Extracted_Features/PCA_reduced/t2m_PCA_features.csv')"
      ],
      "metadata": {
        "id": "J_sgNahCmENi"
      },
      "execution_count": null,
      "outputs": []
    },
    {
      "cell_type": "code",
      "source": [
        "#df_t2m.to_csv('/content/drive/MyDrive/ECRP_Data_Science/Extracting_Features/Extracted_Features/t2m_features.csv')"
      ],
      "metadata": {
        "id": "S35xAF9zPI1q"
      },
      "execution_count": null,
      "outputs": []
    },
    {
      "cell_type": "code",
      "source": [
        "k = 4\n",
        "clusters = KMeans(k, random_state = 40)\n",
        "clusters.fit(img_features)"
      ],
      "metadata": {
        "id": "Oyk-J3bEyiVG"
      },
      "execution_count": null,
      "outputs": []
    },
    {
      "cell_type": "code",
      "source": [
        "image_cluster = pd.DataFrame(img_name, columns=['image'])\n",
        "image_cluster[\"clusterid\"] = clusters.labels_\n",
        "#image_cluster.to_csv('/content/drive/MyDrive/ECRP_Data_Science/Created_Clusters/t2m_clusters.csv', index = True)"
      ],
      "metadata": {
        "id": "bgGJenS6yxAZ"
      },
      "execution_count": null,
      "outputs": []
    },
    {
      "cell_type": "code",
      "source": [
        ""
      ],
      "metadata": {
        "id": "zPip90ZZPDNZ"
      },
      "execution_count": null,
      "outputs": []
    },
    {
      "cell_type": "markdown",
      "source": [
        "##sshf"
      ],
      "metadata": {
        "id": "ais6wmcyxnnb"
      }
    },
    {
      "cell_type": "code",
      "source": [
        "def image_feature(path, direc):\n",
        "    model = InceptionV3(weights='imagenet', include_top=False)\n",
        "    features = [];\n",
        "    img_name = [];\n",
        "    for i in tqdm(direc):\n",
        "        fname=path + 'sshf'+'/'+i\n",
        "        print(fname)\n",
        "        img=image.load_img(fname,target_size=(224,224))\n",
        "        x = img_to_array(img)\n",
        "        x=np.expand_dims(x,axis=0)\n",
        "        x=preprocess_input(x)\n",
        "        feat=model.predict(x)\n",
        "        feat=feat.flatten()\n",
        "        features.append(feat)\n",
        "        img_name.append(i)\n",
        "    return features,img_name"
      ],
      "metadata": {
        "id": "Rpbq6EW-pA8q"
      },
      "execution_count": null,
      "outputs": []
    },
    {
      "cell_type": "code",
      "source": [
        "img_path = os.listdir('/content/drive/MyDrive/ECRP_Data_Science/generated_images/sshf')"
      ],
      "metadata": {
        "id": "Yd1eHWePxZaQ"
      },
      "execution_count": null,
      "outputs": []
    },
    {
      "cell_type": "code",
      "source": [
        "img_features, img_name = image_feature(path, img_path)"
      ],
      "metadata": {
        "id": "ClaBYa-ZxZRj"
      },
      "execution_count": null,
      "outputs": []
    },
    {
      "cell_type": "code",
      "source": [
        "df_sshf = pd.DataFrame(img_features)"
      ],
      "metadata": {
        "id": "2TgRV_F6Pni_"
      },
      "execution_count": null,
      "outputs": []
    },
    {
      "cell_type": "code",
      "source": [
        "df1_sshf = pca.fit_transform(df_sshf)\n",
        "df2_sshf = pd.DataFrame(df1_sshf)\n",
        "#df2_sshf.to_csv('/content/drive/MyDrive/ECRP_Data_Science/Extracting_Features/Extracted_Features/PCA_reduced/sshf_PCA_features.csv')"
      ],
      "metadata": {
        "id": "FNp4UqFqmJLb"
      },
      "execution_count": null,
      "outputs": []
    },
    {
      "cell_type": "code",
      "source": [
        "#df_sshf.to_csv('/content/drive/MyDrive/ECRP_Data_Science/Extracting_Features/Extracted_Features/sshf_features.csv')"
      ],
      "metadata": {
        "id": "H9wUJKr8Pm9q"
      },
      "execution_count": null,
      "outputs": []
    },
    {
      "cell_type": "code",
      "source": [
        "k = 4\n",
        "clusters = KMeans(k, random_state = 40)\n",
        "clusters.fit(img_features)"
      ],
      "metadata": {
        "id": "Dh6mdZ94yj0x"
      },
      "execution_count": null,
      "outputs": []
    },
    {
      "cell_type": "code",
      "source": [
        "image_cluster = pd.DataFrame(img_name, columns=['image'])\n",
        "image_cluster[\"clusterid\"] = clusters.labels_\n",
        "#image_cluster.to_csv('/content/drive/MyDrive/ECRP_Data_Science/Created_Clusters/sshf_clusters.csv')"
      ],
      "metadata": {
        "id": "SDyukb68yyV5"
      },
      "execution_count": null,
      "outputs": []
    },
    {
      "cell_type": "code",
      "source": [
        ""
      ],
      "metadata": {
        "id": "jOWxrjnfPkBd"
      },
      "execution_count": null,
      "outputs": []
    },
    {
      "cell_type": "markdown",
      "source": [
        "##slhf"
      ],
      "metadata": {
        "id": "Y0r79ydnxtG_"
      }
    },
    {
      "cell_type": "code",
      "source": [
        "def image_feature(path, direc):\n",
        "    model = InceptionV3(weights='imagenet', include_top=False)\n",
        "    features = [];\n",
        "    img_name = [];\n",
        "    for i in tqdm(direc):\n",
        "        fname=path + 'slhf'+'/'+i\n",
        "        print(fname)\n",
        "        img=image.load_img(fname) #img=image.load_img(fname,target_size=(224,224))\n",
        "        x = img_to_array(img)\n",
        "        x=np.expand_dims(x,axis=0)\n",
        "        x=preprocess_input(x)\n",
        "        feat=model.predict(x)\n",
        "        feat=feat.flatten()\n",
        "        features.append(feat)\n",
        "        img_name.append(i)\n",
        "    return features,img_name"
      ],
      "metadata": {
        "id": "n3u07pXrpGub"
      },
      "execution_count": null,
      "outputs": []
    },
    {
      "cell_type": "code",
      "source": [
        "img_path = os.listdir('/content/drive/MyDrive/ECRP_Data_Science/generated_images/slhf')"
      ],
      "metadata": {
        "id": "YIQhOrImxZP3"
      },
      "execution_count": null,
      "outputs": []
    },
    {
      "cell_type": "code",
      "source": [
        "img_features, img_name = image_feature(path, img_path)"
      ],
      "metadata": {
        "id": "9y_8LtfoxZOC"
      },
      "execution_count": null,
      "outputs": []
    },
    {
      "cell_type": "code",
      "source": [
        "df_slhf = pd.DataFrame(img_features)"
      ],
      "metadata": {
        "id": "yhZeUU7HQJn2"
      },
      "execution_count": null,
      "outputs": []
    },
    {
      "cell_type": "code",
      "source": [
        "df1_slhf = pca.fit_transform(df_slhf)\n",
        "df2_slhf = pd.DataFrame(df1_slhf)\n",
        "#df2_slhf.to_csv('/content/drive/MyDrive/ECRP_Data_Science/Extracting_Features/Extracted_Features/PCA_reduced/slhf_PCA_features.csv')"
      ],
      "metadata": {
        "id": "63R4w7eynn0g"
      },
      "execution_count": null,
      "outputs": []
    },
    {
      "cell_type": "code",
      "source": [
        "#df_slhf.to_csv('/content/drive/MyDrive/ECRP_Data_Science/Extracting_Features/Extracted_Features/slhf_features.csv')"
      ],
      "metadata": {
        "id": "2xaccZmaQPZL"
      },
      "execution_count": null,
      "outputs": []
    },
    {
      "cell_type": "code",
      "source": [
        "k = 4\n",
        "clusters = KMeans(k, random_state = 40)\n",
        "clusters.fit(img_features)"
      ],
      "metadata": {
        "id": "coRag8UTyk_B"
      },
      "execution_count": null,
      "outputs": []
    },
    {
      "cell_type": "code",
      "source": [
        "image_cluster = pd.DataFrame(img_name, columns=['image'])\n",
        "image_cluster[\"clusterid\"] = clusters.labels_\n",
        "#image_cluster.to_csv('/content/drive/MyDrive/ECRP_Data_Science/Created_Clusters/slhf_clusters.csv')"
      ],
      "metadata": {
        "id": "LCSIv0thxZL9"
      },
      "execution_count": null,
      "outputs": []
    },
    {
      "cell_type": "code",
      "source": [
        ""
      ],
      "metadata": {
        "id": "qVjO1_Z_h36u"
      },
      "execution_count": null,
      "outputs": []
    },
    {
      "cell_type": "code",
      "source": [
        ""
      ],
      "metadata": {
        "id": "4fXSGRm0h34v"
      },
      "execution_count": null,
      "outputs": []
    },
    {
      "cell_type": "code",
      "source": [
        ""
      ],
      "metadata": {
        "id": "-Yt4PDgXh3Xz"
      },
      "execution_count": null,
      "outputs": []
    },
    {
      "cell_type": "markdown",
      "source": [
        "##All Variable clustering - Aim is to merge all variable images and perform clustering"
      ],
      "metadata": {
        "id": "SZvTW1RJzwRQ"
      }
    },
    {
      "cell_type": "code",
      "source": [
        ""
      ],
      "metadata": {
        "id": "C4JUe5fEunV-"
      },
      "execution_count": null,
      "outputs": []
    },
    {
      "cell_type": "code",
      "source": [
        ""
      ],
      "metadata": {
        "id": "fDx7bnoRupkt"
      },
      "execution_count": null,
      "outputs": []
    },
    {
      "cell_type": "code",
      "source": [
        "\n",
        "\n",
        "\"\"\"\n",
        "\n",
        "def image_feature(path, direc):\n",
        "    model = InceptionV3(weights='imagenet', include_top=False)\n",
        "    features = [];\n",
        "    img_name = [];\n",
        "    for i in tqdm(direc):\n",
        "        fname=path + 'train'+'/'+i\n",
        "        print(fname)\n",
        "        img=image.load_img(fname,target_size=(224,224))\n",
        "        x = img_to_array(img)\n",
        "        x=np.expand_dims(x,axis=0)\n",
        "        x=preprocess_input(x)\n",
        "        feat=model.predict(x)\n",
        "        feat=feat.flatten()\n",
        "        features.append(feat)\n",
        "        img_name.append(i)\n",
        "    return features,img_name\n",
        "\n",
        "def image_saving(data_variable, saving_path):\n",
        "        path = saving_path + \"/\" + data_variable._name\n",
        "        print(\"creating path:\" + path)\n",
        "        os.makedirs(path, exist_ok=True)\n",
        "        for index in range(data_variable.time.size):\n",
        "                one_day_variable = data_variable.isel(time=index)\n",
        "                fig = plt.figure(figsize=(161, 201))\n",
        "                ax = fig.add_subplot(1, 1, 1, projection=ccrs.PlateCarree()) #adding project within the opened figure\n",
        "                mp = ax.imshow(one_day_variable-273.5,extent=(one_day_variable.longitude.min(),one_day_variable.longitude.max(), one_day_variable.latitude.min(), one_day_variable.latitude.max()),cmap='jet', origin='lower')\n",
        "                plt.xlabel('x')\n",
        "                plt.ylabel('y')\n",
        "\n",
        "                #these are additional features you can add to geo plots (like boders, rivers, lakes..etc)\n",
        "                states_provinces = cfeature.NaturalEarthFeature(\n",
        "                        category='cultural',\n",
        "                        name='admin_1_states_provinces_lines',\n",
        "                        scale='10m',\n",
        "                        facecolor='none')\n",
        "                ax.add_feature(cfeature.BORDERS,edgecolor='blue')\n",
        "                ax.add_feature(states_provinces, edgecolor='blue')\n",
        "                ax.add_feature(cfeature.LAND)\n",
        "                ax.add_feature(cfeature.COASTLINE)\n",
        "                ax.add_feature(cfeature.OCEAN)\n",
        "                ax.add_feature(cfeature.LAKES, alpha=0.5)\n",
        "                ax.add_feature(cfeature.RIVERS)\n",
        "\n",
        "                # adding colorbar and adjust the size\n",
        "                # cbar = fig.colorbar(mp, shrink=0.4)\n",
        "                # cbar.minorticks_on()\n",
        "\n",
        "                #adding the long lat grids and enabling the tick labels\n",
        "                gl = ax.gridlines(draw_labels=True,alpha=0.5)\n",
        "                gl.top_labels = True\n",
        "                gl.right_labels = True\n",
        "\n",
        "                plt.savefig(path + \"/\" + data_variable._name + \"_\" + str(index) + \".jpg\", dpi=10, bbox_inches='tight')\n",
        "                plt.clf()\n",
        "                plt.close(fig)\n",
        "\n",
        "\n",
        "if __name__ == '__main__':\n",
        "        data = xr.open_dataset(\"/Users/jianwu/Data/ECRP_ERA5/ERA5_sample_hourly_20200201-20200331.nc\")\n",
        "        print(data.data_vars)\n",
        "        image_saving(data['t2m'], \"/Users/jianwu/Data/ECRP_ERA5/\")\n",
        "        #for data_key in data.data_vars:\n",
        "        #        image_saving(data[data_key], \"/Users/jianwu/Data/ECRP_ERA5/\")\n",
        "\n",
        "        \"\"\""
      ],
      "metadata": {
        "id": "Ri27i8QUzu4u"
      },
      "execution_count": null,
      "outputs": []
    },
    {
      "cell_type": "code",
      "source": [
        "# Here I tried to generate generate images based on their index across the 7 variables and group them together.\n",
        "# Example: Image at index 0 of skt, t2m, u10, ......, v10 and save them in one file.\n",
        "\n",
        "def image_feature(path, direc):\n",
        "    model = InceptionV3(weights='imagenet', include_top=False)\n",
        "    features = [];\n",
        "    img_name = [];\n",
        "    for index in range(0, 1440):\n",
        "        fname=path + 'v10_'+'/'+index+'.jpg'\n",
        "        print(fname)\n",
        "        img=image.load_img(fname)\n",
        "        x = img_to_array(img)\n",
        "        x=np.expand_dims(x,axis=0)\n",
        "        x=preprocess_input(x)\n",
        "        feat=model.predict(x)\n",
        "        feat=feat.flatten()\n",
        "        features.append(feat)\n",
        "        #work on the second variable.\n",
        "        fname=path + 'u10_'+'/'+index+'.jpg'\n",
        "        print(fname)\n",
        "        img=image.load_img(fname)\n",
        "        x = img_to_array(img)\n",
        "        x=np.expand_dims(x,axis=0)\n",
        "        x=preprocess_input(x)\n",
        "        feat=model.predict(x)\n",
        "        feat=feat.flatten()\n",
        "        features.append(feat)\n",
        "    return features"
      ],
      "metadata": {
        "id": "NGtfthzLusvn"
      },
      "execution_count": null,
      "outputs": []
    },
    {
      "cell_type": "code",
      "source": [
        "img_path = os.listdir('/content/drive/MyDrive/ECRP_Data_Science/generated_images/slhf')"
      ],
      "metadata": {
        "id": "DiY8EuAhusta"
      },
      "execution_count": null,
      "outputs": []
    }
  ]
}