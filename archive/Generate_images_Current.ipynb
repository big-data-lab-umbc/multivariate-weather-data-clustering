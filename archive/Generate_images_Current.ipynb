{
  "nbformat": 4,
  "nbformat_minor": 0,
  "metadata": {
    "colab": {
      "name": "Generate_images_Current.ipynb",
      "provenance": [],
      "collapsed_sections": []
    },
    "kernelspec": {
      "name": "python3",
      "display_name": "Python 3"
    },
    "language_info": {
      "name": "python"
    }
  },
  "cells": [
    {
      "cell_type": "code",
      "execution_count": 2,
      "metadata": {
        "colab": {
          "base_uri": "https://localhost:8080/"
        },
        "id": "Uw-1jPmyruWq",
        "outputId": "17c54a46-f04d-4dee-c95e-538390c3ddf1"
      },
      "outputs": [
        {
          "output_type": "stream",
          "name": "stdout",
          "text": [
            "Drive already mounted at /content/drive; to attempt to forcibly remount, call drive.mount(\"/content/drive\", force_remount=True).\n"
          ]
        }
      ],
      "source": [
        "from google.colab import drive\n",
        "drive.mount('/content/drive')"
      ]
    },
    {
      "cell_type": "code",
      "source": [
        "!pip install cartopy"
      ],
      "metadata": {
        "colab": {
          "base_uri": "https://localhost:8080/"
        },
        "id": "G9poVYrfs_eT",
        "outputId": "8deddd52-63be-42d5-9a7a-fc1e1b8e9b70"
      },
      "execution_count": 3,
      "outputs": [
        {
          "output_type": "stream",
          "name": "stdout",
          "text": [
            "Requirement already satisfied: cartopy in /usr/local/lib/python3.7/dist-packages (0.19.0.post1)\n",
            "Requirement already satisfied: shapely>=1.5.6 in /usr/local/lib/python3.7/dist-packages (from cartopy) (1.8.1.post1)\n",
            "Requirement already satisfied: numpy>=1.13.3 in /usr/local/lib/python3.7/dist-packages (from cartopy) (1.21.5)\n",
            "Requirement already satisfied: pyshp>=2 in /usr/local/lib/python3.7/dist-packages (from cartopy) (2.2.0)\n"
          ]
        }
      ]
    },
    {
      "cell_type": "code",
      "source": [
        "#!pip install matplotlib==3.1.3"
      ],
      "metadata": {
        "id": "2kzQnTa3tEW8"
      },
      "execution_count": 4,
      "outputs": []
    },
    {
      "cell_type": "code",
      "source": [
        ""
      ],
      "metadata": {
        "id": "QqZIzsG9tEUN"
      },
      "execution_count": 4,
      "outputs": []
    },
    {
      "cell_type": "code",
      "source": [
        "import os\n",
        "import cartopy.crs as ccrs\n",
        "import cartopy.feature as cf\n",
        "import matplotlib.pyplot as plt\n",
        "import numpy as np\n",
        "import xarray as xr\n",
        "from keras.applications.inception_v3 import InceptionV3, preprocess_input\n",
        "from keras_preprocessing.image import img_to_array\n",
        "from matplotlib import image\n",
        "from tqdm import tqdm"
      ],
      "metadata": {
        "id": "hiUuAjp-sBQI"
      },
      "execution_count": 1,
      "outputs": []
    },
    {
      "cell_type": "code",
      "source": [
        "def image_feature(path, direc):\n",
        "    model = InceptionV3(weights='imagenet', include_top=False)\n",
        "    features = []\n",
        "    img_name = []\n",
        "    # path = \"/content/drive/MyDrive/ECRP_Data_Science/\"\n",
        "    for i in tqdm(direc):\n",
        "        fname = path + 'skt' + '/' + i\n",
        "        print(fname)\n",
        "        img = image.load_img(fname)\n",
        "        x = img_to_array(img)\n",
        "        x = np.expand_dims(x, axis=0)\n",
        "        x = preprocess_input(x)\n",
        "        feat = model.predict(x)\n",
        "        feat = feat.flatten()\n",
        "        features.append(feat)\n",
        "        img_name.append(i)\n",
        "    return features, img_name\n",
        "\n",
        "\n",
        "def image_saving(data_var, saving_path):\n",
        "    path = saving_path + \"/\" + data_var._name\n",
        "    print(\"creating path:\" + path)\n",
        "    os.makedirs(path, exist_ok=True)\n",
        "    for index in range(data_var.time.size):\n",
        "        one_day_variable = data_var.isel(time=index)\n",
        "        fig = plt.figure(figsize=(161, 201))\n",
        "        ax = fig.add_subplot(1, 1, 1, projection=ccrs.PlateCarree())  # adding project within the opened figure (projection=ccrs.LambertConformal() preferred)\n",
        "        ax.imshow(one_day_variable - 273.5, extent=(\n",
        "            one_day_variable.longitude.min(), one_day_variable.longitude.max(), one_day_variable.latitude.min(),\n",
        "            one_day_variable.latitude.max()), cmap='jet', origin='lower')\n",
        "        plt.xlabel('x')\n",
        "        plt.ylabel('y')\n",
        "\n",
        "        # these are additional features you can add to geo plots (like boders, rivers, lakes..etc)\n",
        "        states_provinces = cf.NaturalEarthFeature(\n",
        "            category='cultural',\n",
        "            name='admin_1_states_provinces_lines',\n",
        "            scale='10m',\n",
        "            facecolor='none')\n",
        "        ax.add_feature(cf.BORDERS, edgecolor='blue')\n",
        "        ax.add_feature(states_provinces, edgecolor='blue')\n",
        "        ax.add_feature(cf.LAND)\n",
        "        ax.add_feature(cf.COASTLINE)\n",
        "        ax.add_feature(cf.OCEAN)\n",
        "        ax.add_feature(cf.LAKES, alpha=0.5)\n",
        "        ax.add_feature(cf.RIVERS)\n",
        "\n",
        "        # adding colorbar and adjust the size\n",
        "        # cbar = fig.colorbar(mp, shrink=0.4)\n",
        "        # cbar.minorticks_on()\n",
        "\n",
        "        # adding the long lat grids and enabling the tick labels\n",
        "        gl = ax.gridlines(draw_labels=True, alpha=0.5)\n",
        "        gl.top_labels = True\n",
        "        gl.right_labels = True\n",
        "\n",
        "        plt.savefig(path + \"/\" + data_var._name + \"_\" + str(index) + \".jpg\", dpi=10, bbox_inches='tight')\n",
        "        plt.clf()\n",
        "        plt.close(fig)\n",
        "\n",
        "\n",
        "if __name__ == '__main__':\n",
        "    data = xr.open_dataset(\"/content/drive/MyDrive/ECRP_Data_Science/Image_Generation_from_netCDFdata/ERA5_sample_hourly_20200201-20200331.nc\")\n",
        "    print(data.data_vars)\n",
        "    image_saving(data['skt'], \"/content/drive/MyDrive/skt\")\n",
        "    # for data_key in data.data_vars:\n",
        "    #        image_saving(data[data_key], \"/content/drive/MyDrive/ECRP_Data_Science/\")\n"
      ],
      "metadata": {
        "colab": {
          "base_uri": "https://localhost:8080/"
        },
        "id": "DbWhvPQFsBNq",
        "outputId": "56372fdc-3cce-43d2-fb3f-82e08bdcc81c"
      },
      "execution_count": null,
      "outputs": [
        {
          "output_type": "stream",
          "name": "stdout",
          "text": [
            "Data variables:\n",
            "    skt      (time, latitude, longitude) float32 ...\n",
            "    slhf     (time, latitude, longitude) float32 ...\n",
            "    sp       (time, latitude, longitude) float32 ...\n",
            "    sshf     (time, latitude, longitude) float32 ...\n",
            "    t2m      (time, latitude, longitude) float32 ...\n",
            "    u10      (time, latitude, longitude) float32 ...\n",
            "    v10      (time, latitude, longitude) float32 ...\n",
            "creating path:/content/drive/MyDrive/skt/skt\n"
          ]
        }
      ]
    },
    {
      "cell_type": "code",
      "source": [
        ""
      ],
      "metadata": {
        "id": "XzThCLYssBK5"
      },
      "execution_count": null,
      "outputs": []
    },
    {
      "cell_type": "code",
      "source": [
        ""
      ],
      "metadata": {
        "id": "Uia9gGaesBEO"
      },
      "execution_count": null,
      "outputs": []
    }
  ]
}