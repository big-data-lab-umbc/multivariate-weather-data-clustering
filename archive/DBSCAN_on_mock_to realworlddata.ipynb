{
  "cells": [
    {
      "cell_type": "markdown",
      "metadata": {
        "id": "0_1IgZ7DmNqh"
      },
      "source": [
        "#DBScan clustering & Silhouette score,RMSE, Spatial Correlation Based evaluation\n"
      ]
    },
    {
      "cell_type": "markdown",
      "metadata": {
        "id": "XZ1kN2YsmgJX"
      },
      "source": [
        "# Table of Contents\n",
        "\n",
        "1.   Author(s)\n",
        "2.   Purpose\n",
        "3.   Keywords\n",
        "4.   Citation\n",
        "5.   Acknowledge\n",
        "6.   Methodology\n",
        "    * Installing Packages\n",
        "    * Library Import\n",
        "    * Read File\n",
        "    * Transforming Data\n",
        "    * Standardize features by removing the mean and scaling to unit variance.\n",
        "    * RMSE\n",
        "    * Evaluation - Spatial Correlation Coefficient\n",
        "\n",
        "7. DBSCAN Clustering\n",
        "    * How the clustering algorithm is applied to our dataset, such as deciding  cluster number and other parameters.\n",
        "    * Trying Dbscan with different data\n",
        "\n",
        "8. References"
      ]
    },
    {
      "cell_type": "markdown",
      "metadata": {
        "id": "8y8PrPO4mizO"
      },
      "source": [
        "#1. Author(s) & Mentor(s)\n",
        "\n",
        "Author1 = {\"name\": \"Rohan Salvi\", \"email\": \"rsalvi2@umbc.edu\"}\n",
        "\n",
        "Mentor1 = {\"name\": \"Dr. Xue Zheng \", \"email\": \"zheng7@llnl.gov\"}\n",
        "\n",
        "Mentor2 = {\"name\": \"Dr. Jianwu Wang \", \"email\": \"jianwu@umbc.edu\"}"
      ]
    },
    {
      "cell_type": "markdown",
      "metadata": {
        "id": "kjqLOsvtmmbh"
      },
      "source": [
        "#2. Purpose\n",
        "\n",
        "In this research, we performed K-means & DBSCAN on a Geospatial Multivariate Data (4 dimensional: time, variables, longitude, latitude) \n",
        "\n",
        "Working on this project with collaboration of University of Maryland Baltimore County & Lawrence Livermore National Laboratory."
      ]
    },
    {
      "cell_type": "markdown",
      "metadata": {
        "id": "i5CiStcwmnNy"
      },
      "source": [
        "#3. Keywords\n",
        "\n",
        "Include up to 5 keywords, using the template below.\n",
        "\n",
        "keywords=[\"data cleaning\", \"Multivariate Dataset\", \"DBSCAN\", \"RMSE\",\"Spatial Correlation\", \"Sillhouette Score\"]"
      ]
    },
    {
      "cell_type": "markdown",
      "metadata": {
        "id": "siR2LxVumrji"
      },
      "source": [
        "#4. Citation\n",
        "\n",
        "Rohan Mandar Salvi, 2022. Multivariate weather data CLustering  .  At https://github.com/big-data-lab-umbc/multivariate-weather-data-clustering/"
      ]
    },
    {
      "cell_type": "markdown",
      "metadata": {
        "id": "32BY3iHrLJ7R"
      },
      "source": [
        "#5. Acknowledgements"
      ]
    },
    {
      "cell_type": "markdown",
      "metadata": {
        "id": "50_ouewEMB3M"
      },
      "source": [
        " I would like to acknowledge Dr. Xue Zeng from Lawrence Livermore National Laboratory & Dr. Jianwu Wang from UMBC"
      ]
    },
    {
      "cell_type": "markdown",
      "metadata": {
        "id": "tr7ZPHl9nTug"
      },
      "source": [
        "#6. Methodology"
      ]
    },
    {
      "cell_type": "markdown",
      "metadata": {
        "id": "xRauS13snV0h"
      },
      "source": [
        "#Installing packages\n"
      ]
    },
    {
      "cell_type": "code",
      "execution_count": 2,
      "metadata": {
        "id": "ABtn-DELelwU",
        "colab": {
          "base_uri": "https://localhost:8080/"
        },
        "outputId": "8632e97d-cd80-48ea-fc93-d3bb349c8d2a"
      },
      "outputs": [
        {
          "output_type": "stream",
          "name": "stdout",
          "text": [
            "Looking in indexes: https://pypi.org/simple, https://us-python.pkg.dev/colab-wheels/public/simple/\n",
            "Requirement already satisfied: cftime in /usr/local/lib/python3.7/dist-packages (1.6.1)\n",
            "Requirement already satisfied: numpy>1.13.3 in /usr/local/lib/python3.7/dist-packages (from cftime) (1.21.6)\n",
            "Looking in indexes: https://pypi.org/simple, https://us-python.pkg.dev/colab-wheels/public/simple/\n",
            "Collecting utils\n",
            "  Downloading utils-1.0.1-py2.py3-none-any.whl (21 kB)\n",
            "Installing collected packages: utils\n",
            "Successfully installed utils-1.0.1\n",
            "Looking in indexes: https://pypi.org/simple, https://us-python.pkg.dev/colab-wheels/public/simple/\n",
            "Requirement already satisfied: netCDF4 in /usr/local/lib/python3.7/dist-packages (1.6.0)\n",
            "Requirement already satisfied: cftime in /usr/local/lib/python3.7/dist-packages (from netCDF4) (1.6.1)\n",
            "Requirement already satisfied: numpy>=1.9 in /usr/local/lib/python3.7/dist-packages (from netCDF4) (1.21.6)\n",
            "Looking in indexes: https://pypi.org/simple, https://us-python.pkg.dev/colab-wheels/public/simple/\n",
            "Requirement already satisfied: scipy in /usr/local/lib/python3.7/dist-packages (1.7.3)\n",
            "Requirement already satisfied: numpy<1.23.0,>=1.16.5 in /usr/local/lib/python3.7/dist-packages (from scipy) (1.21.6)\n",
            "Looking in indexes: https://pypi.org/simple, https://us-python.pkg.dev/colab-wheels/public/simple/\n",
            "Requirement already satisfied: xarray[io] in /usr/local/lib/python3.7/dist-packages (0.20.2)\n",
            "Requirement already satisfied: pandas>=1.1 in /usr/local/lib/python3.7/dist-packages (from xarray[io]) (1.3.5)\n",
            "Requirement already satisfied: numpy>=1.18 in /usr/local/lib/python3.7/dist-packages (from xarray[io]) (1.21.6)\n",
            "Requirement already satisfied: importlib-metadata in /usr/local/lib/python3.7/dist-packages (from xarray[io]) (4.12.0)\n",
            "Requirement already satisfied: typing-extensions>=3.7 in /usr/local/lib/python3.7/dist-packages (from xarray[io]) (4.1.1)\n",
            "Requirement already satisfied: cftime in /usr/local/lib/python3.7/dist-packages (from xarray[io]) (1.6.1)\n",
            "Collecting zarr\n",
            "  Downloading zarr-2.12.0-py3-none-any.whl (185 kB)\n",
            "\u001b[K     |████████████████████████████████| 185 kB 5.3 MB/s \n",
            "\u001b[?25hRequirement already satisfied: pooch in /usr/local/lib/python3.7/dist-packages (from xarray[io]) (1.6.0)\n",
            "Requirement already satisfied: scipy in /usr/local/lib/python3.7/dist-packages (from xarray[io]) (1.7.3)\n",
            "Collecting h5netcdf\n",
            "  Downloading h5netcdf-1.0.2-py2.py3-none-any.whl (24 kB)\n",
            "Collecting cfgrib\n",
            "  Downloading cfgrib-0.9.10.1-py3-none-any.whl (45 kB)\n",
            "\u001b[K     |████████████████████████████████| 45 kB 4.1 MB/s \n",
            "\u001b[?25hCollecting rasterio\n",
            "  Downloading rasterio-1.2.10-cp37-cp37m-manylinux1_x86_64.whl (19.3 MB)\n",
            "\u001b[K     |████████████████████████████████| 19.3 MB 1.3 MB/s \n",
            "\u001b[?25hRequirement already satisfied: netCDF4 in /usr/local/lib/python3.7/dist-packages (from xarray[io]) (1.6.0)\n",
            "Collecting pydap\n",
            "  Downloading Pydap-3.2.2-py3-none-any.whl (2.3 MB)\n",
            "\u001b[K     |████████████████████████████████| 2.3 MB 44.5 MB/s \n",
            "\u001b[?25hRequirement already satisfied: fsspec in /usr/local/lib/python3.7/dist-packages (from xarray[io]) (2022.7.1)\n",
            "Requirement already satisfied: pytz>=2017.3 in /usr/local/lib/python3.7/dist-packages (from pandas>=1.1->xarray[io]) (2022.2.1)\n",
            "Requirement already satisfied: python-dateutil>=2.7.3 in /usr/local/lib/python3.7/dist-packages (from pandas>=1.1->xarray[io]) (2.8.2)\n",
            "Requirement already satisfied: six>=1.5 in /usr/local/lib/python3.7/dist-packages (from python-dateutil>=2.7.3->pandas>=1.1->xarray[io]) (1.15.0)\n",
            "Collecting eccodes>=0.9.8\n",
            "  Downloading eccodes-1.5.0.tar.gz (56 kB)\n",
            "\u001b[K     |████████████████████████████████| 56 kB 3.6 MB/s \n",
            "\u001b[?25hRequirement already satisfied: click in /usr/local/lib/python3.7/dist-packages (from cfgrib->xarray[io]) (7.1.2)\n",
            "Requirement already satisfied: attrs>=19.2 in /usr/local/lib/python3.7/dist-packages (from cfgrib->xarray[io]) (22.1.0)\n",
            "Requirement already satisfied: cffi in /usr/local/lib/python3.7/dist-packages (from eccodes>=0.9.8->cfgrib->xarray[io]) (1.15.1)\n",
            "Collecting findlibs\n",
            "  Downloading findlibs-0.0.2.tar.gz (6.2 kB)\n",
            "Requirement already satisfied: pycparser in /usr/local/lib/python3.7/dist-packages (from cffi->eccodes>=0.9.8->cfgrib->xarray[io]) (2.21)\n",
            "Requirement already satisfied: packaging in /usr/local/lib/python3.7/dist-packages (from h5netcdf->xarray[io]) (21.3)\n",
            "Requirement already satisfied: h5py in /usr/local/lib/python3.7/dist-packages (from h5netcdf->xarray[io]) (3.1.0)\n",
            "Requirement already satisfied: cached-property in /usr/local/lib/python3.7/dist-packages (from h5py->h5netcdf->xarray[io]) (1.5.2)\n",
            "Requirement already satisfied: zipp>=0.5 in /usr/local/lib/python3.7/dist-packages (from importlib-metadata->xarray[io]) (3.8.1)\n",
            "Requirement already satisfied: pyparsing!=3.0.5,>=2.0.2 in /usr/local/lib/python3.7/dist-packages (from packaging->h5netcdf->xarray[io]) (3.0.9)\n",
            "Requirement already satisfied: appdirs>=1.3.0 in /usr/local/lib/python3.7/dist-packages (from pooch->xarray[io]) (1.4.4)\n",
            "Requirement already satisfied: requests>=2.19.0 in /usr/local/lib/python3.7/dist-packages (from pooch->xarray[io]) (2.23.0)\n",
            "Requirement already satisfied: certifi>=2017.4.17 in /usr/local/lib/python3.7/dist-packages (from requests>=2.19.0->pooch->xarray[io]) (2022.6.15)\n",
            "Requirement already satisfied: urllib3!=1.25.0,!=1.25.1,<1.26,>=1.21.1 in /usr/local/lib/python3.7/dist-packages (from requests>=2.19.0->pooch->xarray[io]) (1.24.3)\n",
            "Requirement already satisfied: chardet<4,>=3.0.2 in /usr/local/lib/python3.7/dist-packages (from requests>=2.19.0->pooch->xarray[io]) (3.0.4)\n",
            "Requirement already satisfied: idna<3,>=2.5 in /usr/local/lib/python3.7/dist-packages (from requests>=2.19.0->pooch->xarray[io]) (2.10)\n",
            "Collecting Webob\n",
            "  Downloading WebOb-1.8.7-py2.py3-none-any.whl (114 kB)\n",
            "\u001b[K     |████████████████████████████████| 114 kB 64.7 MB/s \n",
            "\u001b[?25hRequirement already satisfied: Jinja2 in /usr/local/lib/python3.7/dist-packages (from pydap->xarray[io]) (2.11.3)\n",
            "Collecting docopt\n",
            "  Downloading docopt-0.6.2.tar.gz (25 kB)\n",
            "Requirement already satisfied: beautifulsoup4 in /usr/local/lib/python3.7/dist-packages (from pydap->xarray[io]) (4.6.3)\n",
            "Requirement already satisfied: MarkupSafe>=0.23 in /usr/local/lib/python3.7/dist-packages (from Jinja2->pydap->xarray[io]) (2.0.1)\n",
            "Collecting snuggs>=1.4.1\n",
            "  Downloading snuggs-1.4.7-py3-none-any.whl (5.4 kB)\n",
            "Requirement already satisfied: setuptools in /usr/local/lib/python3.7/dist-packages (from rasterio->xarray[io]) (57.4.0)\n",
            "Collecting affine\n",
            "  Downloading affine-2.3.1-py2.py3-none-any.whl (16 kB)\n",
            "Collecting click-plugins\n",
            "  Downloading click_plugins-1.1.1-py2.py3-none-any.whl (7.5 kB)\n",
            "Collecting cligj>=0.5\n",
            "  Downloading cligj-0.7.2-py3-none-any.whl (7.1 kB)\n",
            "Collecting numcodecs>=0.6.4\n",
            "  Downloading numcodecs-0.10.2-cp37-cp37m-manylinux_2_17_x86_64.manylinux2014_x86_64.whl (6.6 MB)\n",
            "\u001b[K     |████████████████████████████████| 6.6 MB 40.7 MB/s \n",
            "\u001b[?25hCollecting asciitree\n",
            "  Downloading asciitree-0.3.3.tar.gz (4.0 kB)\n",
            "Collecting fasteners\n",
            "  Downloading fasteners-0.17.3-py3-none-any.whl (18 kB)\n",
            "Requirement already satisfied: entrypoints in /usr/local/lib/python3.7/dist-packages (from numcodecs>=0.6.4->zarr->xarray[io]) (0.4)\n",
            "Building wheels for collected packages: eccodes, findlibs, docopt, asciitree\n",
            "  Building wheel for eccodes (setup.py) ... \u001b[?25l\u001b[?25hdone\n",
            "  Created wheel for eccodes: filename=eccodes-1.5.0-py3-none-any.whl size=39664 sha256=d1cf01514025ce48ab63887fda397143a0249cf9c581e30839bfeedce1833295\n",
            "  Stored in directory: /root/.cache/pip/wheels/1f/4b/5f/14f28c69acd26784b3ee47a41f2be2afc5c71ad36cee2030a0\n",
            "  Building wheel for findlibs (setup.py) ... \u001b[?25l\u001b[?25hdone\n",
            "  Created wheel for findlibs: filename=findlibs-0.0.2-py3-none-any.whl size=6560 sha256=7360fa11d42d234b8e3e5fa5c013976a57382dd4169faf10b75afff1b3c0a604\n",
            "  Stored in directory: /root/.cache/pip/wheels/34/e9/92/2a09d5a307252d22fb8d99b13685144b0419d98c36dba7b1c0\n",
            "  Building wheel for docopt (setup.py) ... \u001b[?25l\u001b[?25hdone\n",
            "  Created wheel for docopt: filename=docopt-0.6.2-py2.py3-none-any.whl size=13723 sha256=1783c3e787c34d0bb8c400dcc1e694df15a3a0c6b37dfa2a3318923e5c49e77c\n",
            "  Stored in directory: /root/.cache/pip/wheels/72/b0/3f/1d95f96ff986c7dfffe46ce2be4062f38ebd04b506c77c81b9\n",
            "  Building wheel for asciitree (setup.py) ... \u001b[?25l\u001b[?25hdone\n",
            "  Created wheel for asciitree: filename=asciitree-0.3.3-py3-none-any.whl size=5050 sha256=60ca583b161915a885482b0a80aa6a25fea84f40f25ac298cebcc3f436003d94\n",
            "  Stored in directory: /root/.cache/pip/wheels/12/1c/38/0def51e15add93bff3f4bf9c248b94db0839b980b8535e72a0\n",
            "Successfully built eccodes findlibs docopt asciitree\n",
            "Installing collected packages: findlibs, Webob, snuggs, numcodecs, fasteners, eccodes, docopt, cligj, click-plugins, asciitree, affine, zarr, rasterio, pydap, h5netcdf, cfgrib\n",
            "Successfully installed Webob-1.8.7 affine-2.3.1 asciitree-0.3.3 cfgrib-0.9.10.1 click-plugins-1.1.1 cligj-0.7.2 docopt-0.6.2 eccodes-1.5.0 fasteners-0.17.3 findlibs-0.0.2 h5netcdf-1.0.2 numcodecs-0.10.2 pydap-3.2.2 rasterio-1.2.10 snuggs-1.4.7 zarr-2.12.0\n",
            "Looking in indexes: https://pypi.org/simple, https://us-python.pkg.dev/colab-wheels/public/simple/\n",
            "Collecting geopandas\n",
            "  Downloading geopandas-0.10.2-py2.py3-none-any.whl (1.0 MB)\n",
            "\u001b[K     |████████████████████████████████| 1.0 MB 5.2 MB/s \n",
            "\u001b[?25hRequirement already satisfied: pandas>=0.25.0 in /usr/local/lib/python3.7/dist-packages (from geopandas) (1.3.5)\n",
            "Collecting fiona>=1.8\n",
            "  Downloading Fiona-1.8.21-cp37-cp37m-manylinux2014_x86_64.whl (16.7 MB)\n",
            "\u001b[K     |████████████████████████████████| 16.7 MB 44.3 MB/s \n",
            "\u001b[?25hRequirement already satisfied: shapely>=1.6 in /usr/local/lib/python3.7/dist-packages (from geopandas) (1.8.4)\n",
            "Collecting pyproj>=2.2.0\n",
            "  Downloading pyproj-3.2.1-cp37-cp37m-manylinux2010_x86_64.whl (6.3 MB)\n",
            "\u001b[K     |████████████████████████████████| 6.3 MB 41.5 MB/s \n",
            "\u001b[?25hRequirement already satisfied: six>=1.7 in /usr/local/lib/python3.7/dist-packages (from fiona>=1.8->geopandas) (1.15.0)\n",
            "Requirement already satisfied: click>=4.0 in /usr/local/lib/python3.7/dist-packages (from fiona>=1.8->geopandas) (7.1.2)\n",
            "Collecting munch\n",
            "  Downloading munch-2.5.0-py2.py3-none-any.whl (10 kB)\n",
            "Requirement already satisfied: setuptools in /usr/local/lib/python3.7/dist-packages (from fiona>=1.8->geopandas) (57.4.0)\n",
            "Requirement already satisfied: certifi in /usr/local/lib/python3.7/dist-packages (from fiona>=1.8->geopandas) (2022.6.15)\n",
            "Requirement already satisfied: cligj>=0.5 in /usr/local/lib/python3.7/dist-packages (from fiona>=1.8->geopandas) (0.7.2)\n",
            "Requirement already satisfied: attrs>=17 in /usr/local/lib/python3.7/dist-packages (from fiona>=1.8->geopandas) (22.1.0)\n",
            "Requirement already satisfied: click-plugins>=1.0 in /usr/local/lib/python3.7/dist-packages (from fiona>=1.8->geopandas) (1.1.1)\n",
            "Requirement already satisfied: pytz>=2017.3 in /usr/local/lib/python3.7/dist-packages (from pandas>=0.25.0->geopandas) (2022.2.1)\n",
            "Requirement already satisfied: numpy>=1.17.3 in /usr/local/lib/python3.7/dist-packages (from pandas>=0.25.0->geopandas) (1.21.6)\n",
            "Requirement already satisfied: python-dateutil>=2.7.3 in /usr/local/lib/python3.7/dist-packages (from pandas>=0.25.0->geopandas) (2.8.2)\n",
            "Installing collected packages: munch, pyproj, fiona, geopandas\n",
            "Successfully installed fiona-1.8.21 geopandas-0.10.2 munch-2.5.0 pyproj-3.2.1\n",
            "Looking in indexes: https://pypi.org/simple, https://us-python.pkg.dev/colab-wheels/public/simple/\n",
            "Collecting kneed\n",
            "  Downloading kneed-0.8.1-py2.py3-none-any.whl (10 kB)\n",
            "Requirement already satisfied: scipy>=1.0.0 in /usr/local/lib/python3.7/dist-packages (from kneed) (1.7.3)\n",
            "Requirement already satisfied: numpy>=1.14.2 in /usr/local/lib/python3.7/dist-packages (from kneed) (1.21.6)\n",
            "Installing collected packages: kneed\n",
            "Successfully installed kneed-0.8.1\n"
          ]
        }
      ],
      "source": [
        "!pip install cftime\n",
        "!pip install utils\n",
        "!pip install netCDF4 \n",
        "!pip install scipy\n",
        "!pip install \"xarray[io]\"\n",
        "!pip install geopandas\n",
        "!pip install kneed"
      ]
    },
    {
      "cell_type": "markdown",
      "metadata": {
        "id": "qm9W90ofRTvU"
      },
      "source": [
        "#Library import"
      ]
    },
    {
      "cell_type": "code",
      "execution_count": 3,
      "metadata": {
        "id": "i64P2SfvfWew"
      },
      "outputs": [],
      "source": [
        "#importing Libraries\n",
        "import pandas as pd\n",
        "import numpy as np\n",
        "import xarray as xr\n",
        "import netCDF4 as nc\n",
        "import matplotlib.pyplot as plt\n",
        "from sklearn.cluster import DBSCAN\n",
        "import dask.dataframe as dd\n",
        "from sklearn.preprocessing import StandardScaler\n",
        "from sklearn.metrics import silhouette_score\n",
        "from kneed import KneeLocator\n",
        "from sklearn.neighbors import NearestNeighbors\n",
        "from sklearn import metrics\n",
        "from sklearn.metrics import v_measure_score\n"
      ]
    },
    {
      "cell_type": "markdown",
      "metadata": {
        "id": "kGMchBEnovWo"
      },
      "source": [
        "#Read File Mockv1, Mockv2.1, Mockv3, Mockv4 & Real-world Daily Data, Real-World Hourly Data\n"
      ]
    },
    {
      "cell_type": "code",
      "execution_count": 4,
      "metadata": {
        "colab": {
          "base_uri": "https://localhost:8080/"
        },
        "id": "AfNA0-JGx5pt",
        "outputId": "493f6ea2-3d6d-411b-969b-44bda5ec542b"
      },
      "outputs": [
        {
          "output_type": "stream",
          "name": "stdout",
          "text": [
            "Mounted at /content/drive\n"
          ]
        }
      ],
      "source": [
        "from google.colab import drive\n",
        "drive.mount('/content/drive')"
      ]
    },
    {
      "cell_type": "code",
      "execution_count": 5,
      "metadata": {
        "id": "G2igtK5LfXPd",
        "colab": {
          "base_uri": "https://localhost:8080/"
        },
        "outputId": "92a2e4d3-6df6-4520-ab39-b00023110f3f"
      },
      "outputs": [
        {
          "output_type": "stream",
          "name": "stderr",
          "text": [
            "/usr/local/lib/python3.7/dist-packages/xarray/backends/plugins.py:68: RuntimeWarning: Engine 'cfgrib' loading failed:\n",
            "Cannot find the ecCodes library\n",
            "  warnings.warn(f\"Engine {name!r} loading failed:\\n{ex}\", RuntimeWarning)\n"
          ]
        }
      ],
      "source": [
        "path1 = ('/content/drive/MyDrive/Multivariate Data Independent Study/mock.nc')\n",
        "path2 = ('/content/drive/MyDrive/Multivariate Data Independent Study/mock_v2.1.nc')\n",
        "path3 = ('/content/drive/MyDrive/Multivariate Data Independent Study/mock_v3.1.1.nc')\n",
        "path4 = ('/content/drive/MyDrive/Multivariate Data Independent Study/mock_v4.nc')\n",
        "path5 = ('/content/drive/MyDrive/Multivariate Data Independent Study/ERA5_meteo_sfc_2021_daily.nc')\n",
        "path6 = ('/content/drive/MyDrive/Multivariate Data Independent Study/ERA5_meteo_sfc_2021_hourly.nc')\n",
        "path6 = ('/content/drive/MyDrive/Multivariate Data Independent Study/rdata_hourly.csv')\n",
        "path7 = ('/content/drive/MyDrive/Multivariate Data Independent Study/ERA5_meteo_sfc_2021_hourly_smalldomain.nc')\n",
        "#data1 = xr.open_dataset(path2, decode_times=False) #To view the date as integers of 0, 1, 2,....\n",
        "data1 = xr.open_dataset(path1) # To view time in datetime format\n",
        "data2 = xr.open_dataset(path2)\n",
        "data3 = xr.open_dataset(path3)\n",
        "data4 = xr.open_dataset(path4)\n",
        "data5 = xr.open_dataset(path5)\n",
        "datat6 = pd.read_csv(path6)\n",
        "data7 = xr.open_dataset(path7)"
      ]
    },
    {
      "cell_type": "code",
      "source": [
        "datat6new=datat6.drop(columns=['Unnamed: 0'])"
      ],
      "metadata": {
        "id": "yb2QWCh4JBs3"
      },
      "execution_count": 6,
      "outputs": []
    },
    {
      "cell_type": "code",
      "source": [
        "scaler = StandardScaler()\n",
        "datat6_scaled = scaler.fit_transform(datat6new)"
      ],
      "metadata": {
        "id": "rmr8Y8k8HzJh"
      },
      "execution_count": 7,
      "outputs": []
    },
    {
      "cell_type": "markdown",
      "metadata": {
        "id": "_2B-XItwgKT6"
      },
      "source": [
        "# Transforming Data & Standardizing  features by removing the mean and scaling to unit variance.\n"
      ]
    },
    {
      "cell_type": "code",
      "execution_count": 8,
      "metadata": {
        "id": "5-a1iwPnf_K5"
      },
      "outputs": [],
      "source": [
        "def transformddaily(x):\n",
        "  import dask.dataframe\n",
        "# Transforming Data\n",
        "  dask_df = x.to_dask_dataframe(dim_order=None, set_index=False)\n",
        "  dd = dask_df.compute()\n",
        "  sst_data_trans = pd.DataFrame()\n",
        "  t2m_data_trans = pd.DataFrame()\n",
        "  v10_data_trans = pd.DataFrame()\n",
        "  u10_data_trans = pd.DataFrame()\n",
        "  sp_data_trans = pd.DataFrame()\n",
        "  sshf_data_trans = pd.DataFrame()\n",
        "  slhf_data_trans = pd.DataFrame()\n",
        "\n",
        "  for i in range(0,dd.shape[0]):\n",
        "    b=('sst'+'('+str(dd.latitude[i])+','+str(dd.longitude[i])+')')\n",
        "    c=('t2m'+'('+str(dd.latitude[i])+','+str(dd.longitude[i])+')')\n",
        "    d=('v10'+'('+str(dd.latitude[i])+','+str(dd.longitude[i])+')')\n",
        "    e=('u10'+'('+str(dd.latitude[i])+','+str(dd.longitude[i])+')')\n",
        "    f=('sp'+'('+str(dd.latitude[i])+','+str(dd.longitude[i])+')')\n",
        "    g=('sshf'+'('+str(dd.latitude[i])+','+str(dd.longitude[i])+')')\n",
        "    h=('slhf'+'('+str(dd.latitude[i])+','+str(dd.longitude[i])+')')\n",
        "\n",
        "    sst_data_trans.loc[dd.time[i], b] = dd.sst[i]\n",
        "    t2m_data_trans.loc[dd.time[i], c] = dd.t2m[i]\n",
        "    v10_data_trans.loc[dd.time[i], d] = dd.v10[i]\n",
        "    u10_data_trans.loc[dd.time[i], e] = dd.u10[i]\n",
        "    sp_data_trans.loc[dd.time[i], f] = dd.sp[i]\n",
        "    sshf_data_trans.loc[dd.time[i], g] = dd.sshf[i]\n",
        "    slhf_data_trans.loc[dd.time[i], h] = dd.slhf[i]\n",
        "#Removing Null Values\n",
        "  sst_data_trans1 = sst_data_trans.values.astype(float)\n",
        "  sst_data_trans1=sst_data_trans.fillna(9999)\n",
        "  trans_concat = pd.concat([sst_data_trans1, t2m_data_trans, v10_data_trans, u10_data_trans, sp_data_trans, sshf_data_trans, slhf_data_trans ], axis=1)\n",
        "  scaler = StandardScaler()\n",
        "  trans_concat_scaled = scaler.fit_transform(trans_concat)\n",
        "  return trans_concat_scaled"
      ]
    },
    {
      "cell_type": "markdown",
      "metadata": {
        "id": "IM5k8pXSRkI7"
      },
      "source": [
        "#Mock transform"
      ]
    },
    {
      "cell_type": "code",
      "execution_count": 9,
      "metadata": {
        "id": "W-QaiGSjHYgX"
      },
      "outputs": [],
      "source": [
        "def transformdmock(x):\n",
        "  import dask.dataframe\n",
        "# Transforming Data\n",
        "  dask_df = x.to_dask_dataframe(dim_order=None, set_index=False)\n",
        "  dd = dask_df.compute()\n",
        "  sst_data_trans = pd.DataFrame()\n",
        "  t2m_data_trans = pd.DataFrame()\n",
        "\n",
        "  for i in range(0,dd.shape[0]):\n",
        "    b=('sst'+'('+str(dd.lat[i])+','+str(dd.lon[i])+')')\n",
        "    c=('t2m'+'('+str(dd.lat[i])+','+str(dd.lon[i])+')')\n",
        "\n",
        "    sst_data_trans.loc[dd.time[i], b] = dd.sst[i]\n",
        "    t2m_data_trans.loc[dd.time[i], c] = dd.t2m[i]\n",
        "\n",
        "#Concating the variables \n",
        "  trans_concat = pd.concat([sst_data_trans, t2m_data_trans], axis=1)\n",
        "  scaler = StandardScaler()\n",
        "  trans_concat_scaled = scaler.fit_transform(trans_concat)\n",
        "  return trans_concat_scaled"
      ]
    },
    {
      "cell_type": "markdown",
      "source": [
        "# 1 variable for Quater Map"
      ],
      "metadata": {
        "id": "foXz4chnnGGb"
      }
    },
    {
      "cell_type": "code",
      "source": [
        "def transformqm(x):\n",
        "  import dask.dataframe\n",
        "# Transforming Data\n",
        "  dask_df = x.to_dask_dataframe(dim_order=None, set_index=False)\n",
        "  dd = dask_df.compute()\n",
        "  t2m_data_trans = pd.DataFrame()\n",
        "  for i in range(0,dd.shape[0]):\n",
        "    c=('t2m'+'('+str(dd.latitude[i])+','+str(dd.longitude[i])+')')\n",
        "    t2m_data_trans.loc[dd.time[i], c] = dd.t2m[i]\n",
        "#Removing Null Values\n",
        "  trans_concat = pd.concat([t2m_data_trans ], axis=1)\n",
        "  scaler = StandardScaler()\n",
        "  trans_concat_scaled = scaler.fit_transform(trans_concat)\n",
        "  return trans_concat_scaled"
      ],
      "metadata": {
        "id": "5D9xsoiInmSH"
      },
      "execution_count": 10,
      "outputs": []
    },
    {
      "cell_type": "code",
      "execution_count": 11,
      "metadata": {
        "colab": {
          "base_uri": "https://localhost:8080/"
        },
        "id": "uwcJA0vGI1ht",
        "outputId": "fa4dbf71-dedd-428a-c5b8-8a5d6cb66f44"
      },
      "outputs": [
        {
          "output_type": "stream",
          "name": "stderr",
          "text": [
            "/usr/local/lib/python3.7/dist-packages/pandas/core/indexing.py:1684: PerformanceWarning: DataFrame is highly fragmented.  This is usually the result of calling `frame.insert` many times, which has poor performance.  Consider joining all columns at once using pd.concat(axis=1) instead.  To get a de-fragmented frame, use `newframe = frame.copy()`\n",
            "  self.obj[key] = infer_fill_value(value)\n"
          ]
        }
      ],
      "source": [
        "datat1= transformdmock(data1)\n",
        "datat2=transformdmock(data2)\n",
        "datat3=transformdmock(data3)\n",
        "datat4=transformdmock(data4)\n",
        "datat5=transformddaily(data5)"
      ]
    },
    {
      "cell_type": "code",
      "execution_count": null,
      "metadata": {
        "id": "EjBICejIfpRR"
      },
      "outputs": [],
      "source": [
        "data7 = xr.open_dataset(path7)\n",
        "datat7 = transformddaily(data7)"
      ]
    },
    {
      "cell_type": "code",
      "source": [
        "datat7 = pd.read_csv('/content/drive/MyDrive/Multivariate Data Independent Study/ERA5_meteo_sfc_2021_hourly_smalldomain.csv')"
      ],
      "metadata": {
        "id": "KUD_nvpOlqo2"
      },
      "execution_count": 13,
      "outputs": []
    },
    {
      "cell_type": "code",
      "source": [
        "pd.DataFrame(datat7).to_csv(\"ERA5_meteo_sfc_2021_hourly_smalldomain.csv\")"
      ],
      "metadata": {
        "id": "DnZRQ_LzXWvs"
      },
      "execution_count": null,
      "outputs": []
    },
    {
      "cell_type": "markdown",
      "metadata": {
        "id": "zZMXgl0ZQU45"
      },
      "source": [
        "#RMSE"
      ]
    },
    {
      "cell_type": "code",
      "execution_count": 14,
      "metadata": {
        "id": "QfmTw5oiQPnA"
      },
      "outputs": [],
      "source": [
        "# Non-normalized\n",
        "# Function that creates a dictionary that holds the values of dates in each cluster\n",
        "def get_datewise_clusters(formed_clusters): # classification\n",
        "  Dates_Cluster = {}\n",
        "  for i in set(formed_clusters): # classification\n",
        "    Dates_Cluster['Dates_Cluster'+str(i)] = trans_data.index[trans_data.Cluster == i].to_list()\n",
        "  return Dates_Cluster"
      ]
    },
    {
      "cell_type": "code",
      "execution_count": 15,
      "metadata": {
        "id": "GtBgywCsQQuN"
      },
      "outputs": [],
      "source": [
        "# Non-normalized\n",
        "# Function that creats a dictionary that holds all the clusters\n",
        "def n_nor_get_clusters(input,formed_clusters): # classification\n",
        "  com_arr = []\n",
        "  Clusters = {}\n",
        "  Dates_Cluster = get_datewise_clusters(formed_clusters)\n",
        "  for i in set(formed_clusters):\n",
        "    for j in Dates_Cluster['Dates_Cluster'+str(i)]:\n",
        "      arr = np.array(input.isel(time=j).to_array()) # input is data\n",
        "      com_arr.append(arr)\n",
        "    Clusters['Cluster' + str(i)] = np.array(com_arr)\n",
        "    com_arr = []\n",
        "  return Clusters    "
      ]
    },
    {
      "cell_type": "code",
      "execution_count": 16,
      "metadata": {
        "id": "8KefVhBsRqzf"
      },
      "outputs": [],
      "source": [
        "# Non-normalized\n",
        "# Function that creates a dictionary that holds all the cluster centers\n",
        "def n_nor_get_cluster_centers(input,formed_clusters): #classification\n",
        "  Cluster_Centers = {}\n",
        "  Clusters = n_nor_get_clusters(input,formed_clusters)\n",
        "  for i in set(formed_clusters):\n",
        "    Cluster_Centers['Cluster_Center' + str(i)] = np.mean(Clusters['Cluster' + str(i)],axis=0)\n",
        "  return Cluster_Centers"
      ]
    },
    {
      "cell_type": "code",
      "execution_count": 17,
      "metadata": {
        "id": "kJsCREqbRt4o"
      },
      "outputs": [],
      "source": [
        "# Non-normalized\n",
        "def handle_missing_values(input):\n",
        "  var_mean = {}\n",
        "  for i in input.data_vars:\n",
        "    if input[i].isnull().sum().item() > 0:\n",
        "      print(i,'has null values')\n",
        "      var_mean[str(i) + '_mean'] = input[i].mean().item()\n",
        "      input[i] = input[i].fillna(var_mean[str(i) + '_mean'])\n",
        "  return input"
      ]
    },
    {
      "cell_type": "code",
      "execution_count": 18,
      "metadata": {
        "id": "IftnARdd0dVo"
      },
      "outputs": [],
      "source": [
        "# Non-normalized \n",
        "#Intra RMSE Calculation Function\n",
        "def n_nor_intra_rmse(input,formed_clusters):\n",
        "  sq_diff = []\n",
        "  intra_rmse = []\n",
        "  Clusters = n_nor_get_clusters(input,formed_clusters)\n",
        "  Cluster_Centers = n_nor_get_cluster_centers(input,formed_clusters)\n",
        "\n",
        "  for i in range(len(Clusters)):\n",
        "    for j in range(len(Clusters['Cluster' + str(i)])):\n",
        "      diff = Clusters['Cluster' + str(i)][j] - Cluster_Centers['Cluster_Center' + str(i)]\n",
        "      Sq_diff = (diff**2)\n",
        "      sq_diff.append(Sq_diff)\n",
        "    Sq_diff_sum = sum(sq_diff)\n",
        "    sq_diff = []\n",
        "    n = len(Clusters['Cluster' + str(i)])\n",
        "    Sqrt_diff_sum = np.sqrt(sum(sum(sum(Sq_diff_sum/n))))\n",
        "    intra_rmse.append(Sqrt_diff_sum)\n",
        "  return intra_rmse"
      ]
    },
    {
      "cell_type": "code",
      "execution_count": 19,
      "metadata": {
        "id": "IBD7QQkCRvkw"
      },
      "outputs": [],
      "source": [
        "# Normalized\n",
        "# Function that creates two dictionaries that hold all the clusters and cluster centers\n",
        "def nor_get_clusters_and_centers(input,formed_clusters):\n",
        "  Clusters = {}\n",
        "  Cluster_Centers = {}\n",
        "  for i in set(formed_clusters):\n",
        "    Clusters['Cluster' + str(i)] = np.array(input[input.Cluster == i].drop(columns=['Cluster']))\n",
        "    Cluster_Centers['Cluster_Center' + str(i)] = np.mean(Clusters['Cluster' + str(i)],axis=0)\n",
        "  return Clusters,Cluster_Centers"
      ]
    },
    {
      "cell_type": "code",
      "execution_count": 20,
      "metadata": {
        "id": "FaZZ4k4YRzCS"
      },
      "outputs": [],
      "source": [
        "# Normalized\n",
        "# Intra RMSE Calculation Function\n",
        "def nor_intra_rmse(input,formed_clusters):\n",
        "  intra_rmse = []\n",
        "  sq_diff = []\n",
        "  Clusters,Cluster_Centers = nor_get_clusters_and_centers(input,formed_clusters)\n",
        "  for i in range(len(Clusters)):\n",
        "    for j in range(len(Clusters['Cluster' + str(i)])):\n",
        "      diff = Clusters['Cluster' + str(i)][j] - Cluster_Centers['Cluster_Center' + str(i)]\n",
        "      Sq_diff = (diff**2)\n",
        "      sq_diff.append(Sq_diff)\n",
        "    Sq_diff_sum = sum(sum(sq_diff))\n",
        "    sq_diff = []\n",
        "    n = len(Clusters['Cluster' + str(i)])\n",
        "    Sqrt_diff_sum = np.sqrt(Sq_diff_sum/n)\n",
        "    intra_rmse.append(Sqrt_diff_sum)\n",
        "  return intra_rmse"
      ]
    },
    {
      "cell_type": "code",
      "execution_count": 21,
      "metadata": {
        "id": "V_zSJdEalRoK"
      },
      "outputs": [],
      "source": [
        "# Non-normalized\n",
        "# Function that creates a dictionary that holds all the cluster centers\n",
        "def n_nor_get_cluster_centers(input,formed_clusters): #classification\n",
        "  Cluster_Centers = {}\n",
        "  Clusters = n_nor_get_clusters(input,formed_clusters)\n",
        "  for i in set(formed_clusters):\n",
        "    Cluster_Centers['Cluster_Center' + str(i)] = np.mean(Clusters['Cluster' + str(i)],axis=0)\n",
        "  return Cluster_Centers"
      ]
    },
    {
      "cell_type": "code",
      "execution_count": 22,
      "metadata": {
        "id": "aBYhXOkBR06m"
      },
      "outputs": [],
      "source": [
        "# RMSE Calculation\n",
        "def RMSE(input,formed_clusters,frame,normalize=False):\n",
        "  inter_rmse = []\n",
        "  avg_cluster = {}\n",
        "\n",
        "  if normalize == False:\n",
        "    input = handle_missing_values(input)\n",
        "    Clusters = n_nor_get_clusters(input,formed_clusters)\n",
        "    mat = pd.DataFrame(columns=range(len(Clusters)),index=range(len(Clusters)))\n",
        "    for i in range(len(Clusters)):\n",
        "      avg_cluster['avg_cluster'+str(i)] = np.mean(Clusters['Cluster' + str(i)],axis=0)\n",
        "    for i in range(len(Clusters)):\n",
        "      for j in range(len(Clusters)):\n",
        "        if i == j:\n",
        "          a = n_nor_intra_rmse(input,formed_clusters)\n",
        "          mat[i].iloc[j] = round(a[i],2)\n",
        "        else:\n",
        "          diff = avg_cluster['avg_cluster' + str(i)] - avg_cluster['avg_cluster' + str(j)]\n",
        "          Sq_diff = (diff**2)\n",
        "          #Sq_diff_sum = sum(Sq_diff)\n",
        "          Sq_diff_sum = sum(sum(sum(Sq_diff)))\n",
        "          #inter_rmse.append(np.sqrt(Sq_diff_sum))\n",
        "          n = len(avg_cluster['avg_cluster'+str(i)][0])\n",
        "          Sqrt_diff_sum = np.sqrt(Sq_diff_sum/n)\n",
        "          mat[i].iloc[j] = round(Sqrt_diff_sum,2)\n",
        "          #print('Inter RMSE between cluster',i,'and cluster',j,'is:',inter_rmse.pop())\n",
        "        \n",
        "\n",
        "  else:\n",
        "\n",
        "  \n",
        "    Clusters, Cluster_Centers = nor_get_clusters_and_centers(frame,formed_clusters)\n",
        "\n",
        "    # Doing the below step after finding the cluster centers. Otherwise, we'll be calculating mean on date (index) too.\n",
        "    #trans_data = trans_data.reset_index()\n",
        "\n",
        "  \n",
        "    mat = pd.DataFrame(columns=range(len(Clusters)),index=range(len(Clusters)))\n",
        "    for i in range(len(Clusters)):\n",
        "      avg_cluster['avg_cluster'+str(i)] = np.mean(Clusters['Cluster' + str(i)],axis=0)\n",
        "    for i in range(len(Clusters)):\n",
        "      for j in range(len(Clusters)):\n",
        "        if i == j:\n",
        "          a = nor_intra_rmse(frame,formed_clusters)\n",
        "          mat[i].iloc[j] = round(a[i],2)\n",
        "        else:\n",
        "          diff = avg_cluster['avg_cluster' + str(i)] - avg_cluster['avg_cluster' + str(j)]\n",
        "          Sq_diff = (diff**2)\n",
        "          #Sq_diff_sum = sum(Sq_diff)\n",
        "          Sq_diff_sum = sum(Sq_diff)\n",
        "          #inter_rmse.append(np.sqrt(Sq_diff_sum))\n",
        "          Sqrt_diff_sum = np.sqrt(Sq_diff_sum)\n",
        "          mat[i].iloc[j] = round(Sqrt_diff_sum,2)\n",
        "          #print('Inter RMSE between cluster',i,'and cluster',j,'is:',inter_rmse.pop())\n",
        "\n",
        "  return mat"
      ]
    },
    {
      "cell_type": "markdown",
      "metadata": {
        "id": "T8wrnMHI_SIX"
      },
      "source": [
        "#**Evaluation - Spatial Correlation Coefficient**\n"
      ]
    },
    {
      "cell_type": "code",
      "execution_count": 23,
      "metadata": {
        "id": "B73jNq0l_RRG"
      },
      "outputs": [],
      "source": [
        "#For Spatial Correlation coefficient computation\n",
        "'''\n",
        "   Input parameters: \n",
        "   X : An array, A 2-D array containing multiple variables and observations. \n",
        "   Y : An array, A 2-D array containing multiple variables and observations. \n",
        "   Each row of x represents a variable, and each column a single observation of all those variables.\n",
        "\n",
        "   Returns: Pearson product-moment correlation coefficients.:A scaler quantity [-1, 1] \n",
        "   where -1 means the inputs are inversly correlated(opposite movements) \n",
        "   and 1 means directly correlated (unidirectional parallel movement) \n",
        "   while 0 means no correlation.\n",
        "   \n",
        "'''\n",
        "\n",
        "\n",
        "def pearson_PM(x, y):\n",
        "\n",
        "  #convert format from netcdf to np array\n",
        "    #x_form = x.to_numpy()\n",
        "    #y_form = y.to_numpy()\n",
        "\n",
        "    #Flatten/transform from 2d to 1d\n",
        "    X_flat = x.flatten()\n",
        "    Y_flat = y.flatten()\n",
        "\n",
        "    #Compute correlation matrix\n",
        "    corr_mat = np.corrcoef(X_flat, Y_flat)\n",
        "\n",
        "    #Return entry [0,1]\n",
        "    return corr_mat[0,1]\n",
        "\n",
        "def corr_space_2d(var1_2d,var2_2d):\n",
        "    var1= np.reshape(var1_2d,var1_2d.shape[0]*var1_2d.shape[1])\n",
        "    var2= np.reshape(var2_2d,var2_2d.shape[0]*var2_2d.shape[1])\n",
        "    R0=np.corrcoef(var1,var2)\n",
        "    if(R0.shape !=(2,2)):\n",
        "        #print(\"corr_space_2d error: corrcoef maxtrix R0 :\",R0)\n",
        "        stop\n",
        "    R = R0[0,1]\n",
        "    return R"
      ]
    },
    {
      "cell_type": "code",
      "execution_count": 24,
      "metadata": {
        "id": "P6ksXzTb_WHM"
      },
      "outputs": [],
      "source": [
        "def Average(lst):\n",
        "  for i in lst:\n",
        "    return sum(lst) / len(lst)"
      ]
    },
    {
      "cell_type": "markdown",
      "source": [
        "# Non-normalized"
      ],
      "metadata": {
        "id": "bSbTVEtxAlmp"
      }
    },
    {
      "cell_type": "code",
      "execution_count": 25,
      "metadata": {
        "id": "IRcTXok4_ZEP"
      },
      "outputs": [],
      "source": [
        "#Intra-spatial correlation coefficient Calculation Function\n",
        "def n_nor_intra_sp_corr(input,formed_clusters):\n",
        "  mylist = []\n",
        "  intra_sp_corr = []\n",
        "  Clusters = n_nor_get_clusters(input,formed_clusters)\n",
        "\n",
        "  for i in range(len(Clusters)):\n",
        "    for j in range(len(Clusters['Cluster' + str(i)])):\n",
        "      for k in range(len(Clusters['Cluster' + str(i)])):\n",
        "        corr_coeff = pearson_PM(Clusters['Cluster' + str(i)][j],  Clusters['Cluster' + str(i)][k])\n",
        "        mylist.append(corr_coeff)\n",
        "\n",
        "    corr = Average(mylist)\n",
        "    intra_sp_corr.append(corr)\n",
        "  return intra_sp_corr"
      ]
    },
    {
      "cell_type": "code",
      "execution_count": 26,
      "metadata": {
        "id": "L6uAd1o0_auS"
      },
      "outputs": [],
      "source": [
        "#Inter-spatial correlation coefficient Calculation Function\n",
        "def n_nor_inter_sp_corr1(input,formed_clusters):\n",
        "  mylist = []\n",
        "  inter_sp_corr = []\n",
        "  Clusters = n_nor_get_clusters(input,formed_clusters)\n",
        "\n",
        "  for i in range(len(Clusters)):\n",
        "    for j in range(len(Clusters)):\n",
        "      for k in range(len(Clusters['Cluster' + str(i)])):\n",
        "        for l in range(len(Clusters['Cluster' + str(j)])):\n",
        "          if i != j:\n",
        "            corr_coeff = pearson_PM(Clusters['Cluster' + str(i)][k],  Clusters['Cluster' + str(j)][l])\n",
        "            mylist.append(corr_coeff)\n",
        "\n",
        "    corr = Average(mylist)\n",
        "    inter_sp_corr.append(corr)\n",
        "  return inter_sp_corr"
      ]
    },
    {
      "cell_type": "markdown",
      "source": [
        "## Normalized Approach"
      ],
      "metadata": {
        "id": "ulqW8CRIBCdb"
      }
    },
    {
      "cell_type": "code",
      "source": [
        "def nor_get_clusters(input,formed_clusters):\n",
        "  Clusters = {}\n",
        "  for i in set(formed_clusters):\n",
        "    Clusters['Cluster' + str(i)] = np.array(input[input.Cluster == i].drop(columns=['Cluster']))\n",
        "  return Clusters"
      ],
      "metadata": {
        "id": "An6SfOxNBFLa"
      },
      "execution_count": 27,
      "outputs": []
    },
    {
      "cell_type": "code",
      "execution_count": 28,
      "metadata": {
        "id": "GowE_no3_cjh"
      },
      "outputs": [],
      "source": [
        "# Normalized\n",
        "#Intra-spatial correlation coefficient Calculation Function\n",
        "def nor_intra_sp_corr(input,formed_clusters):\n",
        "  ''' Rather than passing transformed data to the function, you could use the below steps to transform the data first and later add \n",
        "      'Cluster' as a column to the transformed data'''\n",
        "  # input = datatransformation(input)\n",
        "  # input = datanormalization(input)\n",
        "  # input['Cluster'] = formed_clusters\n",
        "  mylist1 = []\n",
        "  intra_sp_corr = []\n",
        "  Clusters = nor_get_clusters(input,formed_clusters)\n",
        "\n",
        "  for i in range(len(Clusters)):\n",
        "    for j in range(len(Clusters['Cluster' + str(i)])):\n",
        "      for k in range(len(Clusters['Cluster' + str(i)])):\n",
        "        corr_coeff = pearson_PM(Clusters['Cluster' + str(i)][j],  Clusters['Cluster' + str(i)][k])\n",
        "        mylist1.append(corr_coeff)\n",
        "        \n",
        "    corr = Average(mylist1)\n",
        "    intra_sp_corr.append(corr)\n",
        "  return intra_sp_corr"
      ]
    },
    {
      "cell_type": "code",
      "execution_count": 29,
      "metadata": {
        "id": "sf33unAp_iml"
      },
      "outputs": [],
      "source": [
        "# Normalized \n",
        "#Inter-spatial correlation coefficient Calculation Function\n",
        "def nor_inter_sp_corr1(input,formed_clusters):\n",
        "  # input = datatransformation(input)\n",
        "  # input = datanormalization(input)\n",
        "  # input['Cluster'] = formed_clusters\n",
        "  mylist = []\n",
        "  inter_sp_corr = []\n",
        "  Clusters = nor_get_clusters(input,formed_clusters)\n",
        "\n",
        "  for i in range(len(Clusters)):\n",
        "    for j in range(len(Clusters)):\n",
        "      for k in range(len(Clusters['Cluster' + str(i)])):\n",
        "        for l in range(len(Clusters['Cluster' + str(j)])):\n",
        "          if i != j:\n",
        "            corr_coeff = pearson_PM(Clusters['Cluster' + str(i)][k],  Clusters['Cluster' + str(j)][l])\n",
        "            mylist.append(corr_coeff)\n",
        "            \n",
        "    corr = Average(mylist)\n",
        "    inter_sp_corr.append(corr)\n",
        "  return inter_sp_corr"
      ]
    },
    {
      "cell_type": "code",
      "source": [
        "# Spat_Corr Calculation\n",
        "def Spat_Corr(input,formed_clusters,trans_data,normalize=False):\n",
        "  inter_sp_corr = []\n",
        "  mylist = []\n",
        "\n",
        "  if normalize == False:\n",
        "    input = handle_missing_values(input)\n",
        "    Clusters = n_nor_get_clusters(input,formed_clusters)\n",
        "    mat = pd.DataFrame(columns=range(len(Clusters)),index=range(len(Clusters)))\n",
        "\n",
        "    for i in range(len(Clusters)):\n",
        "      for j in range(len(Clusters)):\n",
        "        for k in range(len(Clusters['Cluster' + str(i)])):\n",
        "          for l in range(len(Clusters['Cluster' + str(j)])):\n",
        "            if i == j:\n",
        "              a = n_nor_intra_sp_corr(input,formed_clusters)\n",
        "              mat[i].iloc[j] = a[i]\n",
        "            else:\n",
        "              results = n_nor_inter_sp_corr1(input,formed_clusters)\n",
        "              mat[i].iloc[j] = Average(results)\n",
        "        \n",
        "\n",
        "  else:\n",
        "    #trans_data = datatransformation(input)\n",
        "\n",
        "    # Data Normalization\n",
        "    #trans_data = datanormalization(trans_data)\n",
        "\n",
        "    # Adding class centers and cluster numbers as columns to the dataframe\n",
        "   # trans_data['Cluster'] = classification\n",
        "\n",
        "    # Rearranging the columns in the dataframe\n",
        "    #trans_data = trans_data[['Cluster'] + [c for c in trans_data if c not in ['Cluster']]]\n",
        "  \n",
        "    Clusters, Cluster_Centers = nor_get_clusters_and_centers(trans_data,formed_clusters)\n",
        "\n",
        "    #Clusters = n_nor_get_clusters(input,formed_clusters)\n",
        "    #trans_data = trans_data.reset_index()\n",
        "\n",
        "  \n",
        "    mat = pd.DataFrame(columns=range(len(Clusters)),index=range(len(Clusters)))\n",
        "\n",
        "    for i in range(len(Clusters)):\n",
        "      for j in range(len(Clusters)):\n",
        "        for k in range(len(Clusters['Cluster' + str(i)])):\n",
        "          for l in range(len(Clusters['Cluster' + str(j)])):\n",
        "            if i == j:\n",
        "              a = nor_intra_sp_corr(trans_data,formed_clusters)\n",
        "              mat[i].iloc[j] = a[i]\n",
        "            else:\n",
        "              results = nor_inter_sp_corr1(trans_data,formed_clusters)\n",
        "              mat[i].iloc[j] = Average(results) \n",
        "  return mat"
      ],
      "metadata": {
        "id": "VpbN5In_BRkp"
      },
      "execution_count": 30,
      "outputs": []
    },
    {
      "cell_type": "markdown",
      "metadata": {
        "id": "3csEcYvZg7Ge"
      },
      "source": [
        "#6. DBSCAN Clustering"
      ]
    },
    {
      "cell_type": "markdown",
      "metadata": {
        "id": "OE30cgKlhEHj"
      },
      "source": [
        "DBSCAN stands for Density-Based Spatial Clustering of Applications with Noise. It is a part of unsupervised learning . \n",
        "It is very sensitive to input parameters. It depends on a single value of epsilon for all clusters, and therefore, clusters with variable densities may not be correctly identified by dbscan. \n",
        "\n",
        "*   The advantage of DBSCAN is that it identifies an extra group of outliers."
      ]
    },
    {
      "cell_type": "markdown",
      "metadata": {
        "id": "dGJCNHL-eMIm"
      },
      "source": [
        "#How the clustering algorithm is applied to our dataset, such as deciding cluster number and other parameters"
      ]
    },
    {
      "cell_type": "markdown",
      "metadata": {
        "id": "Csuv8o8lqI3M"
      },
      "source": [
        "Epsilon Value (eps)\n",
        "Epsilon is the circumference of a circle around a data point, within which all other data points are regarded as nearby points. In other words, if the distance between two points is less than or equal to eps, they are said to be neighbors.\n",
        "\n",
        "EXTREMELY SMALL VALUE\n",
        "Most of the points may not be in the neighborhood and will be considered outliers if the eps value is * extremely small* . As a result, there will be poor clustering because the majority of the points do not meet the minimal number of points needed to form a dense region.\n",
        "\n",
        "VERY HIGH VALUE\n",
        "However, if a *very high value *is selected, the majority of the data points will stay in the same cluster. Once again, this will result in poor clustering, where multiple clusters may end up merging as a result of the high value of epsilon.\n",
        "\n",
        "Although small eps values are typically preferred, in theory we must choose the eps value based on the dataset's distance (using a k-distance graph)."
      ]
    },
    {
      "cell_type": "markdown",
      "metadata": {
        "id": "yDVviPPOF4Gw"
      },
      "source": [
        "#MOCK data DBSCAN"
      ]
    },
    {
      "cell_type": "code",
      "execution_count": 31,
      "metadata": {
        "id": "qwb5grHgGMJx"
      },
      "outputs": [],
      "source": [
        "def dbscanmock(x):\n",
        "      db = DBSCAN().fit(x) #I did not require to add any parameters to dbscan with mock data. The default parameters were enough for dbscan .\n",
        "      core_samples_mask = np.zeros_like(db.labels_, dtype=bool)\n",
        "      core_samples_mask[db.core_sample_indices_] = True\n",
        "      labels = db.labels_\n",
        "\n",
        "      # Number of clusters in labels, ignoring noise if present.\n",
        "      n_clusters_ = len(set(labels)) - (1 if -1 in labels else 0)\n",
        "      n_noise_ = list(labels).count(-1)\n",
        "      frame = pd.DataFrame(x)\n",
        "      frame['Cluster'] = labels\n",
        "      frame['Cluster'].value_counts()\n",
        "      print(\"Estimated number of clusters: %d\" % n_clusters_)\n",
        "      print(frame['Cluster'].value_counts())\n",
        "      print(\"Estimated number of noise points: %d\" % n_noise_)\n",
        "      print(\"Silhouette Coefficient: %0.3f\" % silhouette_score(x, labels))\n",
        "      return frame,labels"
      ]
    },
    {
      "cell_type": "markdown",
      "metadata": {
        "id": "UbBYDciCHU62"
      },
      "source": [
        "#Mock.nc Dbscan\n"
      ]
    },
    {
      "cell_type": "code",
      "execution_count": 32,
      "metadata": {
        "colab": {
          "base_uri": "https://localhost:8080/"
        },
        "id": "FUFeU1j5Iigr",
        "outputId": "8e90712c-4a88-450a-9bca-b758a2415bf4"
      },
      "outputs": [
        {
          "output_type": "stream",
          "name": "stdout",
          "text": [
            "Estimated number of clusters: 2\n",
            "0    10\n",
            "1    10\n",
            "Name: Cluster, dtype: int64\n",
            "Estimated number of noise points: 0\n",
            "Silhouette Coefficient: 1.000\n",
            "[0 0 0 0 0 0 0 0 0 0 1 1 1 1 1 1 1 1 1 1]\n"
          ]
        }
      ],
      "source": [
        "frame1,label1=dbscanmock(datat1)\n",
        "print(label1)"
      ]
    },
    {
      "cell_type": "code",
      "execution_count": null,
      "metadata": {
        "colab": {
          "base_uri": "https://localhost:8080/",
          "height": 129
        },
        "id": "xu5ol7EU2Wxv",
        "outputId": "b25855ef-6842-47b5-80cd-064a449ebaef"
      },
      "outputs": [
        {
          "output_type": "stream",
          "name": "stdout",
          "text": [
            "RMSE | Normalized with Mock.nc\n"
          ]
        },
        {
          "output_type": "execute_result",
          "data": {
            "text/plain": [
              "       0      1\n",
              "0    0.0  28.28\n",
              "1  28.28    0.0"
            ],
            "text/html": [
              "\n",
              "  <div id=\"df-09805e09-0329-47c0-a2c0-daff7c5eea6a\">\n",
              "    <div class=\"colab-df-container\">\n",
              "      <div>\n",
              "<style scoped>\n",
              "    .dataframe tbody tr th:only-of-type {\n",
              "        vertical-align: middle;\n",
              "    }\n",
              "\n",
              "    .dataframe tbody tr th {\n",
              "        vertical-align: top;\n",
              "    }\n",
              "\n",
              "    .dataframe thead th {\n",
              "        text-align: right;\n",
              "    }\n",
              "</style>\n",
              "<table border=\"1\" class=\"dataframe\">\n",
              "  <thead>\n",
              "    <tr style=\"text-align: right;\">\n",
              "      <th></th>\n",
              "      <th>0</th>\n",
              "      <th>1</th>\n",
              "    </tr>\n",
              "  </thead>\n",
              "  <tbody>\n",
              "    <tr>\n",
              "      <th>0</th>\n",
              "      <td>0.0</td>\n",
              "      <td>28.28</td>\n",
              "    </tr>\n",
              "    <tr>\n",
              "      <th>1</th>\n",
              "      <td>28.28</td>\n",
              "      <td>0.0</td>\n",
              "    </tr>\n",
              "  </tbody>\n",
              "</table>\n",
              "</div>\n",
              "      <button class=\"colab-df-convert\" onclick=\"convertToInteractive('df-09805e09-0329-47c0-a2c0-daff7c5eea6a')\"\n",
              "              title=\"Convert this dataframe to an interactive table.\"\n",
              "              style=\"display:none;\">\n",
              "        \n",
              "  <svg xmlns=\"http://www.w3.org/2000/svg\" height=\"24px\"viewBox=\"0 0 24 24\"\n",
              "       width=\"24px\">\n",
              "    <path d=\"M0 0h24v24H0V0z\" fill=\"none\"/>\n",
              "    <path d=\"M18.56 5.44l.94 2.06.94-2.06 2.06-.94-2.06-.94-.94-2.06-.94 2.06-2.06.94zm-11 1L8.5 8.5l.94-2.06 2.06-.94-2.06-.94L8.5 2.5l-.94 2.06-2.06.94zm10 10l.94 2.06.94-2.06 2.06-.94-2.06-.94-.94-2.06-.94 2.06-2.06.94z\"/><path d=\"M17.41 7.96l-1.37-1.37c-.4-.4-.92-.59-1.43-.59-.52 0-1.04.2-1.43.59L10.3 9.45l-7.72 7.72c-.78.78-.78 2.05 0 2.83L4 21.41c.39.39.9.59 1.41.59.51 0 1.02-.2 1.41-.59l7.78-7.78 2.81-2.81c.8-.78.8-2.07 0-2.86zM5.41 20L4 18.59l7.72-7.72 1.47 1.35L5.41 20z\"/>\n",
              "  </svg>\n",
              "      </button>\n",
              "      \n",
              "  <style>\n",
              "    .colab-df-container {\n",
              "      display:flex;\n",
              "      flex-wrap:wrap;\n",
              "      gap: 12px;\n",
              "    }\n",
              "\n",
              "    .colab-df-convert {\n",
              "      background-color: #E8F0FE;\n",
              "      border: none;\n",
              "      border-radius: 50%;\n",
              "      cursor: pointer;\n",
              "      display: none;\n",
              "      fill: #1967D2;\n",
              "      height: 32px;\n",
              "      padding: 0 0 0 0;\n",
              "      width: 32px;\n",
              "    }\n",
              "\n",
              "    .colab-df-convert:hover {\n",
              "      background-color: #E2EBFA;\n",
              "      box-shadow: 0px 1px 2px rgba(60, 64, 67, 0.3), 0px 1px 3px 1px rgba(60, 64, 67, 0.15);\n",
              "      fill: #174EA6;\n",
              "    }\n",
              "\n",
              "    [theme=dark] .colab-df-convert {\n",
              "      background-color: #3B4455;\n",
              "      fill: #D2E3FC;\n",
              "    }\n",
              "\n",
              "    [theme=dark] .colab-df-convert:hover {\n",
              "      background-color: #434B5C;\n",
              "      box-shadow: 0px 1px 3px 1px rgba(0, 0, 0, 0.15);\n",
              "      filter: drop-shadow(0px 1px 2px rgba(0, 0, 0, 0.3));\n",
              "      fill: #FFFFFF;\n",
              "    }\n",
              "  </style>\n",
              "\n",
              "      <script>\n",
              "        const buttonEl =\n",
              "          document.querySelector('#df-09805e09-0329-47c0-a2c0-daff7c5eea6a button.colab-df-convert');\n",
              "        buttonEl.style.display =\n",
              "          google.colab.kernel.accessAllowed ? 'block' : 'none';\n",
              "\n",
              "        async function convertToInteractive(key) {\n",
              "          const element = document.querySelector('#df-09805e09-0329-47c0-a2c0-daff7c5eea6a');\n",
              "          const dataTable =\n",
              "            await google.colab.kernel.invokeFunction('convertToInteractive',\n",
              "                                                     [key], {});\n",
              "          if (!dataTable) return;\n",
              "\n",
              "          const docLinkHtml = 'Like what you see? Visit the ' +\n",
              "            '<a target=\"_blank\" href=https://colab.research.google.com/notebooks/data_table.ipynb>data table notebook</a>'\n",
              "            + ' to learn more about interactive tables.';\n",
              "          element.innerHTML = '';\n",
              "          dataTable['output_type'] = 'display_data';\n",
              "          await google.colab.output.renderOutput(dataTable, element);\n",
              "          const docLink = document.createElement('div');\n",
              "          docLink.innerHTML = docLinkHtml;\n",
              "          element.appendChild(docLink);\n",
              "        }\n",
              "      </script>\n",
              "    </div>\n",
              "  </div>\n",
              "  "
            ]
          },
          "metadata": {},
          "execution_count": 112
        }
      ],
      "source": [
        "print(\"RMSE | Normalized with Mock.nc\")\n",
        "final1 = RMSE(data1,label1,frame1,True)\n",
        "final1"
      ]
    },
    {
      "cell_type": "code",
      "execution_count": null,
      "metadata": {
        "colab": {
          "base_uri": "https://localhost:8080/",
          "height": 129
        },
        "id": "QkO6Wjx72tvP",
        "outputId": "cc5b26d2-7d2e-40cc-a8d3-fae29069258e"
      },
      "outputs": [
        {
          "output_type": "stream",
          "name": "stdout",
          "text": [
            "RMSE | Non-Normalized with Mock.nc\n"
          ]
        },
        {
          "output_type": "execute_result",
          "data": {
            "text/plain": [
              "        0       1\n",
              "0     0.0  314.66\n",
              "1  314.66     0.0"
            ],
            "text/html": [
              "\n",
              "  <div id=\"df-194f549a-b217-4e74-85dc-8687a4f76013\">\n",
              "    <div class=\"colab-df-container\">\n",
              "      <div>\n",
              "<style scoped>\n",
              "    .dataframe tbody tr th:only-of-type {\n",
              "        vertical-align: middle;\n",
              "    }\n",
              "\n",
              "    .dataframe tbody tr th {\n",
              "        vertical-align: top;\n",
              "    }\n",
              "\n",
              "    .dataframe thead th {\n",
              "        text-align: right;\n",
              "    }\n",
              "</style>\n",
              "<table border=\"1\" class=\"dataframe\">\n",
              "  <thead>\n",
              "    <tr style=\"text-align: right;\">\n",
              "      <th></th>\n",
              "      <th>0</th>\n",
              "      <th>1</th>\n",
              "    </tr>\n",
              "  </thead>\n",
              "  <tbody>\n",
              "    <tr>\n",
              "      <th>0</th>\n",
              "      <td>0.0</td>\n",
              "      <td>314.66</td>\n",
              "    </tr>\n",
              "    <tr>\n",
              "      <th>1</th>\n",
              "      <td>314.66</td>\n",
              "      <td>0.0</td>\n",
              "    </tr>\n",
              "  </tbody>\n",
              "</table>\n",
              "</div>\n",
              "      <button class=\"colab-df-convert\" onclick=\"convertToInteractive('df-194f549a-b217-4e74-85dc-8687a4f76013')\"\n",
              "              title=\"Convert this dataframe to an interactive table.\"\n",
              "              style=\"display:none;\">\n",
              "        \n",
              "  <svg xmlns=\"http://www.w3.org/2000/svg\" height=\"24px\"viewBox=\"0 0 24 24\"\n",
              "       width=\"24px\">\n",
              "    <path d=\"M0 0h24v24H0V0z\" fill=\"none\"/>\n",
              "    <path d=\"M18.56 5.44l.94 2.06.94-2.06 2.06-.94-2.06-.94-.94-2.06-.94 2.06-2.06.94zm-11 1L8.5 8.5l.94-2.06 2.06-.94-2.06-.94L8.5 2.5l-.94 2.06-2.06.94zm10 10l.94 2.06.94-2.06 2.06-.94-2.06-.94-.94-2.06-.94 2.06-2.06.94z\"/><path d=\"M17.41 7.96l-1.37-1.37c-.4-.4-.92-.59-1.43-.59-.52 0-1.04.2-1.43.59L10.3 9.45l-7.72 7.72c-.78.78-.78 2.05 0 2.83L4 21.41c.39.39.9.59 1.41.59.51 0 1.02-.2 1.41-.59l7.78-7.78 2.81-2.81c.8-.78.8-2.07 0-2.86zM5.41 20L4 18.59l7.72-7.72 1.47 1.35L5.41 20z\"/>\n",
              "  </svg>\n",
              "      </button>\n",
              "      \n",
              "  <style>\n",
              "    .colab-df-container {\n",
              "      display:flex;\n",
              "      flex-wrap:wrap;\n",
              "      gap: 12px;\n",
              "    }\n",
              "\n",
              "    .colab-df-convert {\n",
              "      background-color: #E8F0FE;\n",
              "      border: none;\n",
              "      border-radius: 50%;\n",
              "      cursor: pointer;\n",
              "      display: none;\n",
              "      fill: #1967D2;\n",
              "      height: 32px;\n",
              "      padding: 0 0 0 0;\n",
              "      width: 32px;\n",
              "    }\n",
              "\n",
              "    .colab-df-convert:hover {\n",
              "      background-color: #E2EBFA;\n",
              "      box-shadow: 0px 1px 2px rgba(60, 64, 67, 0.3), 0px 1px 3px 1px rgba(60, 64, 67, 0.15);\n",
              "      fill: #174EA6;\n",
              "    }\n",
              "\n",
              "    [theme=dark] .colab-df-convert {\n",
              "      background-color: #3B4455;\n",
              "      fill: #D2E3FC;\n",
              "    }\n",
              "\n",
              "    [theme=dark] .colab-df-convert:hover {\n",
              "      background-color: #434B5C;\n",
              "      box-shadow: 0px 1px 3px 1px rgba(0, 0, 0, 0.15);\n",
              "      filter: drop-shadow(0px 1px 2px rgba(0, 0, 0, 0.3));\n",
              "      fill: #FFFFFF;\n",
              "    }\n",
              "  </style>\n",
              "\n",
              "      <script>\n",
              "        const buttonEl =\n",
              "          document.querySelector('#df-194f549a-b217-4e74-85dc-8687a4f76013 button.colab-df-convert');\n",
              "        buttonEl.style.display =\n",
              "          google.colab.kernel.accessAllowed ? 'block' : 'none';\n",
              "\n",
              "        async function convertToInteractive(key) {\n",
              "          const element = document.querySelector('#df-194f549a-b217-4e74-85dc-8687a4f76013');\n",
              "          const dataTable =\n",
              "            await google.colab.kernel.invokeFunction('convertToInteractive',\n",
              "                                                     [key], {});\n",
              "          if (!dataTable) return;\n",
              "\n",
              "          const docLinkHtml = 'Like what you see? Visit the ' +\n",
              "            '<a target=\"_blank\" href=https://colab.research.google.com/notebooks/data_table.ipynb>data table notebook</a>'\n",
              "            + ' to learn more about interactive tables.';\n",
              "          element.innerHTML = '';\n",
              "          dataTable['output_type'] = 'display_data';\n",
              "          await google.colab.output.renderOutput(dataTable, element);\n",
              "          const docLink = document.createElement('div');\n",
              "          docLink.innerHTML = docLinkHtml;\n",
              "          element.appendChild(docLink);\n",
              "        }\n",
              "      </script>\n",
              "    </div>\n",
              "  </div>\n",
              "  "
            ]
          },
          "metadata": {},
          "execution_count": 113
        }
      ],
      "source": [
        "trans_data=frame1\n",
        "print(\"RMSE | Non-Normalized with Mock.nc\")\n",
        "final2 = RMSE(data1,label1,frame1,False)\n",
        "final2"
      ]
    },
    {
      "cell_type": "code",
      "source": [
        "print(\"Spatial_Correlation | Normalized with Mock.nc\")\n",
        "trans_data=frame1\n",
        "final4 = Spat_Corr(data1,label1,frame1,True)\n",
        "final4"
      ],
      "metadata": {
        "colab": {
          "base_uri": "https://localhost:8080/",
          "height": 129
        },
        "id": "Kk3W4c0IOy9o",
        "outputId": "a3826a79-0242-424d-f552-724685bd4c98"
      },
      "execution_count": null,
      "outputs": [
        {
          "output_type": "stream",
          "name": "stdout",
          "text": [
            "Spatial_Correlation | Normalized with Mock.nc\n"
          ]
        },
        {
          "output_type": "execute_result",
          "data": {
            "text/plain": [
              "     0    1\n",
              "0  1.0 -1.0\n",
              "1 -1.0  1.0"
            ],
            "text/html": [
              "\n",
              "  <div id=\"df-2e4b4ac9-5a58-4440-a05a-8004c02c96b3\">\n",
              "    <div class=\"colab-df-container\">\n",
              "      <div>\n",
              "<style scoped>\n",
              "    .dataframe tbody tr th:only-of-type {\n",
              "        vertical-align: middle;\n",
              "    }\n",
              "\n",
              "    .dataframe tbody tr th {\n",
              "        vertical-align: top;\n",
              "    }\n",
              "\n",
              "    .dataframe thead th {\n",
              "        text-align: right;\n",
              "    }\n",
              "</style>\n",
              "<table border=\"1\" class=\"dataframe\">\n",
              "  <thead>\n",
              "    <tr style=\"text-align: right;\">\n",
              "      <th></th>\n",
              "      <th>0</th>\n",
              "      <th>1</th>\n",
              "    </tr>\n",
              "  </thead>\n",
              "  <tbody>\n",
              "    <tr>\n",
              "      <th>0</th>\n",
              "      <td>1.0</td>\n",
              "      <td>-1.0</td>\n",
              "    </tr>\n",
              "    <tr>\n",
              "      <th>1</th>\n",
              "      <td>-1.0</td>\n",
              "      <td>1.0</td>\n",
              "    </tr>\n",
              "  </tbody>\n",
              "</table>\n",
              "</div>\n",
              "      <button class=\"colab-df-convert\" onclick=\"convertToInteractive('df-2e4b4ac9-5a58-4440-a05a-8004c02c96b3')\"\n",
              "              title=\"Convert this dataframe to an interactive table.\"\n",
              "              style=\"display:none;\">\n",
              "        \n",
              "  <svg xmlns=\"http://www.w3.org/2000/svg\" height=\"24px\"viewBox=\"0 0 24 24\"\n",
              "       width=\"24px\">\n",
              "    <path d=\"M0 0h24v24H0V0z\" fill=\"none\"/>\n",
              "    <path d=\"M18.56 5.44l.94 2.06.94-2.06 2.06-.94-2.06-.94-.94-2.06-.94 2.06-2.06.94zm-11 1L8.5 8.5l.94-2.06 2.06-.94-2.06-.94L8.5 2.5l-.94 2.06-2.06.94zm10 10l.94 2.06.94-2.06 2.06-.94-2.06-.94-.94-2.06-.94 2.06-2.06.94z\"/><path d=\"M17.41 7.96l-1.37-1.37c-.4-.4-.92-.59-1.43-.59-.52 0-1.04.2-1.43.59L10.3 9.45l-7.72 7.72c-.78.78-.78 2.05 0 2.83L4 21.41c.39.39.9.59 1.41.59.51 0 1.02-.2 1.41-.59l7.78-7.78 2.81-2.81c.8-.78.8-2.07 0-2.86zM5.41 20L4 18.59l7.72-7.72 1.47 1.35L5.41 20z\"/>\n",
              "  </svg>\n",
              "      </button>\n",
              "      \n",
              "  <style>\n",
              "    .colab-df-container {\n",
              "      display:flex;\n",
              "      flex-wrap:wrap;\n",
              "      gap: 12px;\n",
              "    }\n",
              "\n",
              "    .colab-df-convert {\n",
              "      background-color: #E8F0FE;\n",
              "      border: none;\n",
              "      border-radius: 50%;\n",
              "      cursor: pointer;\n",
              "      display: none;\n",
              "      fill: #1967D2;\n",
              "      height: 32px;\n",
              "      padding: 0 0 0 0;\n",
              "      width: 32px;\n",
              "    }\n",
              "\n",
              "    .colab-df-convert:hover {\n",
              "      background-color: #E2EBFA;\n",
              "      box-shadow: 0px 1px 2px rgba(60, 64, 67, 0.3), 0px 1px 3px 1px rgba(60, 64, 67, 0.15);\n",
              "      fill: #174EA6;\n",
              "    }\n",
              "\n",
              "    [theme=dark] .colab-df-convert {\n",
              "      background-color: #3B4455;\n",
              "      fill: #D2E3FC;\n",
              "    }\n",
              "\n",
              "    [theme=dark] .colab-df-convert:hover {\n",
              "      background-color: #434B5C;\n",
              "      box-shadow: 0px 1px 3px 1px rgba(0, 0, 0, 0.15);\n",
              "      filter: drop-shadow(0px 1px 2px rgba(0, 0, 0, 0.3));\n",
              "      fill: #FFFFFF;\n",
              "    }\n",
              "  </style>\n",
              "\n",
              "      <script>\n",
              "        const buttonEl =\n",
              "          document.querySelector('#df-2e4b4ac9-5a58-4440-a05a-8004c02c96b3 button.colab-df-convert');\n",
              "        buttonEl.style.display =\n",
              "          google.colab.kernel.accessAllowed ? 'block' : 'none';\n",
              "\n",
              "        async function convertToInteractive(key) {\n",
              "          const element = document.querySelector('#df-2e4b4ac9-5a58-4440-a05a-8004c02c96b3');\n",
              "          const dataTable =\n",
              "            await google.colab.kernel.invokeFunction('convertToInteractive',\n",
              "                                                     [key], {});\n",
              "          if (!dataTable) return;\n",
              "\n",
              "          const docLinkHtml = 'Like what you see? Visit the ' +\n",
              "            '<a target=\"_blank\" href=https://colab.research.google.com/notebooks/data_table.ipynb>data table notebook</a>'\n",
              "            + ' to learn more about interactive tables.';\n",
              "          element.innerHTML = '';\n",
              "          dataTable['output_type'] = 'display_data';\n",
              "          await google.colab.output.renderOutput(dataTable, element);\n",
              "          const docLink = document.createElement('div');\n",
              "          docLink.innerHTML = docLinkHtml;\n",
              "          element.appendChild(docLink);\n",
              "        }\n",
              "      </script>\n",
              "    </div>\n",
              "  </div>\n",
              "  "
            ]
          },
          "metadata": {},
          "execution_count": 114
        }
      ]
    },
    {
      "cell_type": "code",
      "source": [
        "print(\"Spatial_Correlation | Non-Normalized with Mock.nc\")\n",
        "trans_data=frame1\n",
        "final4 = Spat_Corr(data1,label1,frame1,False)\n",
        "final4"
      ],
      "metadata": {
        "colab": {
          "base_uri": "https://localhost:8080/",
          "height": 129
        },
        "id": "JAwC-e5mbCxM",
        "outputId": "aff79f5d-b3dd-46f5-cd1b-afb15f4ac917"
      },
      "execution_count": null,
      "outputs": [
        {
          "output_type": "stream",
          "name": "stdout",
          "text": [
            "Spatial_Correlation | Non-Normalized with Mock.nc\n"
          ]
        },
        {
          "output_type": "execute_result",
          "data": {
            "text/plain": [
              "     0    1\n",
              "0  1.0 -1.0\n",
              "1 -1.0  1.0"
            ],
            "text/html": [
              "\n",
              "  <div id=\"df-0ac799cf-3110-4d25-80c7-c5509156292d\">\n",
              "    <div class=\"colab-df-container\">\n",
              "      <div>\n",
              "<style scoped>\n",
              "    .dataframe tbody tr th:only-of-type {\n",
              "        vertical-align: middle;\n",
              "    }\n",
              "\n",
              "    .dataframe tbody tr th {\n",
              "        vertical-align: top;\n",
              "    }\n",
              "\n",
              "    .dataframe thead th {\n",
              "        text-align: right;\n",
              "    }\n",
              "</style>\n",
              "<table border=\"1\" class=\"dataframe\">\n",
              "  <thead>\n",
              "    <tr style=\"text-align: right;\">\n",
              "      <th></th>\n",
              "      <th>0</th>\n",
              "      <th>1</th>\n",
              "    </tr>\n",
              "  </thead>\n",
              "  <tbody>\n",
              "    <tr>\n",
              "      <th>0</th>\n",
              "      <td>1.0</td>\n",
              "      <td>-1.0</td>\n",
              "    </tr>\n",
              "    <tr>\n",
              "      <th>1</th>\n",
              "      <td>-1.0</td>\n",
              "      <td>1.0</td>\n",
              "    </tr>\n",
              "  </tbody>\n",
              "</table>\n",
              "</div>\n",
              "      <button class=\"colab-df-convert\" onclick=\"convertToInteractive('df-0ac799cf-3110-4d25-80c7-c5509156292d')\"\n",
              "              title=\"Convert this dataframe to an interactive table.\"\n",
              "              style=\"display:none;\">\n",
              "        \n",
              "  <svg xmlns=\"http://www.w3.org/2000/svg\" height=\"24px\"viewBox=\"0 0 24 24\"\n",
              "       width=\"24px\">\n",
              "    <path d=\"M0 0h24v24H0V0z\" fill=\"none\"/>\n",
              "    <path d=\"M18.56 5.44l.94 2.06.94-2.06 2.06-.94-2.06-.94-.94-2.06-.94 2.06-2.06.94zm-11 1L8.5 8.5l.94-2.06 2.06-.94-2.06-.94L8.5 2.5l-.94 2.06-2.06.94zm10 10l.94 2.06.94-2.06 2.06-.94-2.06-.94-.94-2.06-.94 2.06-2.06.94z\"/><path d=\"M17.41 7.96l-1.37-1.37c-.4-.4-.92-.59-1.43-.59-.52 0-1.04.2-1.43.59L10.3 9.45l-7.72 7.72c-.78.78-.78 2.05 0 2.83L4 21.41c.39.39.9.59 1.41.59.51 0 1.02-.2 1.41-.59l7.78-7.78 2.81-2.81c.8-.78.8-2.07 0-2.86zM5.41 20L4 18.59l7.72-7.72 1.47 1.35L5.41 20z\"/>\n",
              "  </svg>\n",
              "      </button>\n",
              "      \n",
              "  <style>\n",
              "    .colab-df-container {\n",
              "      display:flex;\n",
              "      flex-wrap:wrap;\n",
              "      gap: 12px;\n",
              "    }\n",
              "\n",
              "    .colab-df-convert {\n",
              "      background-color: #E8F0FE;\n",
              "      border: none;\n",
              "      border-radius: 50%;\n",
              "      cursor: pointer;\n",
              "      display: none;\n",
              "      fill: #1967D2;\n",
              "      height: 32px;\n",
              "      padding: 0 0 0 0;\n",
              "      width: 32px;\n",
              "    }\n",
              "\n",
              "    .colab-df-convert:hover {\n",
              "      background-color: #E2EBFA;\n",
              "      box-shadow: 0px 1px 2px rgba(60, 64, 67, 0.3), 0px 1px 3px 1px rgba(60, 64, 67, 0.15);\n",
              "      fill: #174EA6;\n",
              "    }\n",
              "\n",
              "    [theme=dark] .colab-df-convert {\n",
              "      background-color: #3B4455;\n",
              "      fill: #D2E3FC;\n",
              "    }\n",
              "\n",
              "    [theme=dark] .colab-df-convert:hover {\n",
              "      background-color: #434B5C;\n",
              "      box-shadow: 0px 1px 3px 1px rgba(0, 0, 0, 0.15);\n",
              "      filter: drop-shadow(0px 1px 2px rgba(0, 0, 0, 0.3));\n",
              "      fill: #FFFFFF;\n",
              "    }\n",
              "  </style>\n",
              "\n",
              "      <script>\n",
              "        const buttonEl =\n",
              "          document.querySelector('#df-0ac799cf-3110-4d25-80c7-c5509156292d button.colab-df-convert');\n",
              "        buttonEl.style.display =\n",
              "          google.colab.kernel.accessAllowed ? 'block' : 'none';\n",
              "\n",
              "        async function convertToInteractive(key) {\n",
              "          const element = document.querySelector('#df-0ac799cf-3110-4d25-80c7-c5509156292d');\n",
              "          const dataTable =\n",
              "            await google.colab.kernel.invokeFunction('convertToInteractive',\n",
              "                                                     [key], {});\n",
              "          if (!dataTable) return;\n",
              "\n",
              "          const docLinkHtml = 'Like what you see? Visit the ' +\n",
              "            '<a target=\"_blank\" href=https://colab.research.google.com/notebooks/data_table.ipynb>data table notebook</a>'\n",
              "            + ' to learn more about interactive tables.';\n",
              "          element.innerHTML = '';\n",
              "          dataTable['output_type'] = 'display_data';\n",
              "          await google.colab.output.renderOutput(dataTable, element);\n",
              "          const docLink = document.createElement('div');\n",
              "          docLink.innerHTML = docLinkHtml;\n",
              "          element.appendChild(docLink);\n",
              "        }\n",
              "      </script>\n",
              "    </div>\n",
              "  </div>\n",
              "  "
            ]
          },
          "metadata": {},
          "execution_count": 115
        }
      ]
    },
    {
      "cell_type": "markdown",
      "metadata": {
        "id": "Cqfmvs0bHkwf"
      },
      "source": [
        "#Mock_v2.1 Dbscan\n"
      ]
    },
    {
      "cell_type": "code",
      "execution_count": null,
      "metadata": {
        "colab": {
          "base_uri": "https://localhost:8080/"
        },
        "id": "ZoAUy3hnLT0H",
        "outputId": "9f629331-45e1-4348-eb3b-d7aa2fea719f"
      },
      "outputs": [
        {
          "output_type": "stream",
          "name": "stdout",
          "text": [
            "Estimated number of clusters: 2\n",
            "0    10\n",
            "1    10\n",
            "Name: Cluster, dtype: int64\n",
            "Estimated number of noise points: 0\n",
            "Silhouette Coefficient: 1.000\n",
            "[0 0 0 0 0 0 0 0 0 0 1 1 1 1 1 1 1 1 1 1]\n"
          ]
        }
      ],
      "source": [
        "frame2,label2=dbscanmock(datat2)\n",
        "print(label2)\n"
      ]
    },
    {
      "cell_type": "code",
      "execution_count": null,
      "metadata": {
        "colab": {
          "base_uri": "https://localhost:8080/",
          "height": 129
        },
        "id": "GKnRTI0A20Ep",
        "outputId": "ac96a742-07d6-4a17-f040-d717a42d0275"
      },
      "outputs": [
        {
          "output_type": "stream",
          "name": "stdout",
          "text": [
            "RMSE | Normalized with Mockv2.1.nc\n"
          ]
        },
        {
          "output_type": "execute_result",
          "data": {
            "text/plain": [
              "       0      1\n",
              "0    0.0  28.28\n",
              "1  28.28    0.0"
            ],
            "text/html": [
              "\n",
              "  <div id=\"df-6a61250c-73d7-487c-bde8-a0a5500cfc8e\">\n",
              "    <div class=\"colab-df-container\">\n",
              "      <div>\n",
              "<style scoped>\n",
              "    .dataframe tbody tr th:only-of-type {\n",
              "        vertical-align: middle;\n",
              "    }\n",
              "\n",
              "    .dataframe tbody tr th {\n",
              "        vertical-align: top;\n",
              "    }\n",
              "\n",
              "    .dataframe thead th {\n",
              "        text-align: right;\n",
              "    }\n",
              "</style>\n",
              "<table border=\"1\" class=\"dataframe\">\n",
              "  <thead>\n",
              "    <tr style=\"text-align: right;\">\n",
              "      <th></th>\n",
              "      <th>0</th>\n",
              "      <th>1</th>\n",
              "    </tr>\n",
              "  </thead>\n",
              "  <tbody>\n",
              "    <tr>\n",
              "      <th>0</th>\n",
              "      <td>0.0</td>\n",
              "      <td>28.28</td>\n",
              "    </tr>\n",
              "    <tr>\n",
              "      <th>1</th>\n",
              "      <td>28.28</td>\n",
              "      <td>0.0</td>\n",
              "    </tr>\n",
              "  </tbody>\n",
              "</table>\n",
              "</div>\n",
              "      <button class=\"colab-df-convert\" onclick=\"convertToInteractive('df-6a61250c-73d7-487c-bde8-a0a5500cfc8e')\"\n",
              "              title=\"Convert this dataframe to an interactive table.\"\n",
              "              style=\"display:none;\">\n",
              "        \n",
              "  <svg xmlns=\"http://www.w3.org/2000/svg\" height=\"24px\"viewBox=\"0 0 24 24\"\n",
              "       width=\"24px\">\n",
              "    <path d=\"M0 0h24v24H0V0z\" fill=\"none\"/>\n",
              "    <path d=\"M18.56 5.44l.94 2.06.94-2.06 2.06-.94-2.06-.94-.94-2.06-.94 2.06-2.06.94zm-11 1L8.5 8.5l.94-2.06 2.06-.94-2.06-.94L8.5 2.5l-.94 2.06-2.06.94zm10 10l.94 2.06.94-2.06 2.06-.94-2.06-.94-.94-2.06-.94 2.06-2.06.94z\"/><path d=\"M17.41 7.96l-1.37-1.37c-.4-.4-.92-.59-1.43-.59-.52 0-1.04.2-1.43.59L10.3 9.45l-7.72 7.72c-.78.78-.78 2.05 0 2.83L4 21.41c.39.39.9.59 1.41.59.51 0 1.02-.2 1.41-.59l7.78-7.78 2.81-2.81c.8-.78.8-2.07 0-2.86zM5.41 20L4 18.59l7.72-7.72 1.47 1.35L5.41 20z\"/>\n",
              "  </svg>\n",
              "      </button>\n",
              "      \n",
              "  <style>\n",
              "    .colab-df-container {\n",
              "      display:flex;\n",
              "      flex-wrap:wrap;\n",
              "      gap: 12px;\n",
              "    }\n",
              "\n",
              "    .colab-df-convert {\n",
              "      background-color: #E8F0FE;\n",
              "      border: none;\n",
              "      border-radius: 50%;\n",
              "      cursor: pointer;\n",
              "      display: none;\n",
              "      fill: #1967D2;\n",
              "      height: 32px;\n",
              "      padding: 0 0 0 0;\n",
              "      width: 32px;\n",
              "    }\n",
              "\n",
              "    .colab-df-convert:hover {\n",
              "      background-color: #E2EBFA;\n",
              "      box-shadow: 0px 1px 2px rgba(60, 64, 67, 0.3), 0px 1px 3px 1px rgba(60, 64, 67, 0.15);\n",
              "      fill: #174EA6;\n",
              "    }\n",
              "\n",
              "    [theme=dark] .colab-df-convert {\n",
              "      background-color: #3B4455;\n",
              "      fill: #D2E3FC;\n",
              "    }\n",
              "\n",
              "    [theme=dark] .colab-df-convert:hover {\n",
              "      background-color: #434B5C;\n",
              "      box-shadow: 0px 1px 3px 1px rgba(0, 0, 0, 0.15);\n",
              "      filter: drop-shadow(0px 1px 2px rgba(0, 0, 0, 0.3));\n",
              "      fill: #FFFFFF;\n",
              "    }\n",
              "  </style>\n",
              "\n",
              "      <script>\n",
              "        const buttonEl =\n",
              "          document.querySelector('#df-6a61250c-73d7-487c-bde8-a0a5500cfc8e button.colab-df-convert');\n",
              "        buttonEl.style.display =\n",
              "          google.colab.kernel.accessAllowed ? 'block' : 'none';\n",
              "\n",
              "        async function convertToInteractive(key) {\n",
              "          const element = document.querySelector('#df-6a61250c-73d7-487c-bde8-a0a5500cfc8e');\n",
              "          const dataTable =\n",
              "            await google.colab.kernel.invokeFunction('convertToInteractive',\n",
              "                                                     [key], {});\n",
              "          if (!dataTable) return;\n",
              "\n",
              "          const docLinkHtml = 'Like what you see? Visit the ' +\n",
              "            '<a target=\"_blank\" href=https://colab.research.google.com/notebooks/data_table.ipynb>data table notebook</a>'\n",
              "            + ' to learn more about interactive tables.';\n",
              "          element.innerHTML = '';\n",
              "          dataTable['output_type'] = 'display_data';\n",
              "          await google.colab.output.renderOutput(dataTable, element);\n",
              "          const docLink = document.createElement('div');\n",
              "          docLink.innerHTML = docLinkHtml;\n",
              "          element.appendChild(docLink);\n",
              "        }\n",
              "      </script>\n",
              "    </div>\n",
              "  </div>\n",
              "  "
            ]
          },
          "metadata": {},
          "execution_count": 117
        }
      ],
      "source": [
        "print(\"RMSE | Normalized with Mockv2.1.nc\")\n",
        "final1 = RMSE(data2,label2,frame2,True)\n",
        "final1"
      ]
    },
    {
      "cell_type": "code",
      "execution_count": null,
      "metadata": {
        "colab": {
          "base_uri": "https://localhost:8080/",
          "height": 129
        },
        "id": "AV-7QDwg3Zr5",
        "outputId": "59274f3f-a8e9-4527-fdee-0f9f01cc70a4"
      },
      "outputs": [
        {
          "output_type": "stream",
          "name": "stdout",
          "text": [
            "RMSE | Non-Normalized with Mockv2.1.nc\n"
          ]
        },
        {
          "output_type": "execute_result",
          "data": {
            "text/plain": [
              "        0       1\n",
              "0     0.0  248.61\n",
              "1  248.61     0.0"
            ],
            "text/html": [
              "\n",
              "  <div id=\"df-d3ec37c2-6ec7-44c2-93b6-4ed732341585\">\n",
              "    <div class=\"colab-df-container\">\n",
              "      <div>\n",
              "<style scoped>\n",
              "    .dataframe tbody tr th:only-of-type {\n",
              "        vertical-align: middle;\n",
              "    }\n",
              "\n",
              "    .dataframe tbody tr th {\n",
              "        vertical-align: top;\n",
              "    }\n",
              "\n",
              "    .dataframe thead th {\n",
              "        text-align: right;\n",
              "    }\n",
              "</style>\n",
              "<table border=\"1\" class=\"dataframe\">\n",
              "  <thead>\n",
              "    <tr style=\"text-align: right;\">\n",
              "      <th></th>\n",
              "      <th>0</th>\n",
              "      <th>1</th>\n",
              "    </tr>\n",
              "  </thead>\n",
              "  <tbody>\n",
              "    <tr>\n",
              "      <th>0</th>\n",
              "      <td>0.0</td>\n",
              "      <td>248.61</td>\n",
              "    </tr>\n",
              "    <tr>\n",
              "      <th>1</th>\n",
              "      <td>248.61</td>\n",
              "      <td>0.0</td>\n",
              "    </tr>\n",
              "  </tbody>\n",
              "</table>\n",
              "</div>\n",
              "      <button class=\"colab-df-convert\" onclick=\"convertToInteractive('df-d3ec37c2-6ec7-44c2-93b6-4ed732341585')\"\n",
              "              title=\"Convert this dataframe to an interactive table.\"\n",
              "              style=\"display:none;\">\n",
              "        \n",
              "  <svg xmlns=\"http://www.w3.org/2000/svg\" height=\"24px\"viewBox=\"0 0 24 24\"\n",
              "       width=\"24px\">\n",
              "    <path d=\"M0 0h24v24H0V0z\" fill=\"none\"/>\n",
              "    <path d=\"M18.56 5.44l.94 2.06.94-2.06 2.06-.94-2.06-.94-.94-2.06-.94 2.06-2.06.94zm-11 1L8.5 8.5l.94-2.06 2.06-.94-2.06-.94L8.5 2.5l-.94 2.06-2.06.94zm10 10l.94 2.06.94-2.06 2.06-.94-2.06-.94-.94-2.06-.94 2.06-2.06.94z\"/><path d=\"M17.41 7.96l-1.37-1.37c-.4-.4-.92-.59-1.43-.59-.52 0-1.04.2-1.43.59L10.3 9.45l-7.72 7.72c-.78.78-.78 2.05 0 2.83L4 21.41c.39.39.9.59 1.41.59.51 0 1.02-.2 1.41-.59l7.78-7.78 2.81-2.81c.8-.78.8-2.07 0-2.86zM5.41 20L4 18.59l7.72-7.72 1.47 1.35L5.41 20z\"/>\n",
              "  </svg>\n",
              "      </button>\n",
              "      \n",
              "  <style>\n",
              "    .colab-df-container {\n",
              "      display:flex;\n",
              "      flex-wrap:wrap;\n",
              "      gap: 12px;\n",
              "    }\n",
              "\n",
              "    .colab-df-convert {\n",
              "      background-color: #E8F0FE;\n",
              "      border: none;\n",
              "      border-radius: 50%;\n",
              "      cursor: pointer;\n",
              "      display: none;\n",
              "      fill: #1967D2;\n",
              "      height: 32px;\n",
              "      padding: 0 0 0 0;\n",
              "      width: 32px;\n",
              "    }\n",
              "\n",
              "    .colab-df-convert:hover {\n",
              "      background-color: #E2EBFA;\n",
              "      box-shadow: 0px 1px 2px rgba(60, 64, 67, 0.3), 0px 1px 3px 1px rgba(60, 64, 67, 0.15);\n",
              "      fill: #174EA6;\n",
              "    }\n",
              "\n",
              "    [theme=dark] .colab-df-convert {\n",
              "      background-color: #3B4455;\n",
              "      fill: #D2E3FC;\n",
              "    }\n",
              "\n",
              "    [theme=dark] .colab-df-convert:hover {\n",
              "      background-color: #434B5C;\n",
              "      box-shadow: 0px 1px 3px 1px rgba(0, 0, 0, 0.15);\n",
              "      filter: drop-shadow(0px 1px 2px rgba(0, 0, 0, 0.3));\n",
              "      fill: #FFFFFF;\n",
              "    }\n",
              "  </style>\n",
              "\n",
              "      <script>\n",
              "        const buttonEl =\n",
              "          document.querySelector('#df-d3ec37c2-6ec7-44c2-93b6-4ed732341585 button.colab-df-convert');\n",
              "        buttonEl.style.display =\n",
              "          google.colab.kernel.accessAllowed ? 'block' : 'none';\n",
              "\n",
              "        async function convertToInteractive(key) {\n",
              "          const element = document.querySelector('#df-d3ec37c2-6ec7-44c2-93b6-4ed732341585');\n",
              "          const dataTable =\n",
              "            await google.colab.kernel.invokeFunction('convertToInteractive',\n",
              "                                                     [key], {});\n",
              "          if (!dataTable) return;\n",
              "\n",
              "          const docLinkHtml = 'Like what you see? Visit the ' +\n",
              "            '<a target=\"_blank\" href=https://colab.research.google.com/notebooks/data_table.ipynb>data table notebook</a>'\n",
              "            + ' to learn more about interactive tables.';\n",
              "          element.innerHTML = '';\n",
              "          dataTable['output_type'] = 'display_data';\n",
              "          await google.colab.output.renderOutput(dataTable, element);\n",
              "          const docLink = document.createElement('div');\n",
              "          docLink.innerHTML = docLinkHtml;\n",
              "          element.appendChild(docLink);\n",
              "        }\n",
              "      </script>\n",
              "    </div>\n",
              "  </div>\n",
              "  "
            ]
          },
          "metadata": {},
          "execution_count": 120
        }
      ],
      "source": [
        "trans_data=frame2\n",
        "print(\"RMSE | Non-Normalized with Mockv2.1.nc\")\n",
        "final2 = RMSE(data2,label2,frame2,False)\n",
        "final2"
      ]
    },
    {
      "cell_type": "code",
      "source": [
        "print(\"Spatial_Correlation | Normalized with Mock2.1.nc\")\n",
        "trans_data=frame2\n",
        "final4 = Spat_Corr(data2,label2,frame2,True)\n",
        "final4"
      ],
      "metadata": {
        "colab": {
          "base_uri": "https://localhost:8080/",
          "height": 129
        },
        "id": "EvQKk_InfJwO",
        "outputId": "057cfbf0-d695-4fa9-f0db-8f4a3c41b34d"
      },
      "execution_count": null,
      "outputs": [
        {
          "output_type": "stream",
          "name": "stdout",
          "text": [
            "Spatial_Correlation | Normalized with Mock2.1.nc\n"
          ]
        },
        {
          "output_type": "execute_result",
          "data": {
            "text/plain": [
              "     0    1\n",
              "0  1.0 -1.0\n",
              "1 -1.0  1.0"
            ],
            "text/html": [
              "\n",
              "  <div id=\"df-508835c7-0c12-42f1-b7ad-b725370e9bec\">\n",
              "    <div class=\"colab-df-container\">\n",
              "      <div>\n",
              "<style scoped>\n",
              "    .dataframe tbody tr th:only-of-type {\n",
              "        vertical-align: middle;\n",
              "    }\n",
              "\n",
              "    .dataframe tbody tr th {\n",
              "        vertical-align: top;\n",
              "    }\n",
              "\n",
              "    .dataframe thead th {\n",
              "        text-align: right;\n",
              "    }\n",
              "</style>\n",
              "<table border=\"1\" class=\"dataframe\">\n",
              "  <thead>\n",
              "    <tr style=\"text-align: right;\">\n",
              "      <th></th>\n",
              "      <th>0</th>\n",
              "      <th>1</th>\n",
              "    </tr>\n",
              "  </thead>\n",
              "  <tbody>\n",
              "    <tr>\n",
              "      <th>0</th>\n",
              "      <td>1.0</td>\n",
              "      <td>-1.0</td>\n",
              "    </tr>\n",
              "    <tr>\n",
              "      <th>1</th>\n",
              "      <td>-1.0</td>\n",
              "      <td>1.0</td>\n",
              "    </tr>\n",
              "  </tbody>\n",
              "</table>\n",
              "</div>\n",
              "      <button class=\"colab-df-convert\" onclick=\"convertToInteractive('df-508835c7-0c12-42f1-b7ad-b725370e9bec')\"\n",
              "              title=\"Convert this dataframe to an interactive table.\"\n",
              "              style=\"display:none;\">\n",
              "        \n",
              "  <svg xmlns=\"http://www.w3.org/2000/svg\" height=\"24px\"viewBox=\"0 0 24 24\"\n",
              "       width=\"24px\">\n",
              "    <path d=\"M0 0h24v24H0V0z\" fill=\"none\"/>\n",
              "    <path d=\"M18.56 5.44l.94 2.06.94-2.06 2.06-.94-2.06-.94-.94-2.06-.94 2.06-2.06.94zm-11 1L8.5 8.5l.94-2.06 2.06-.94-2.06-.94L8.5 2.5l-.94 2.06-2.06.94zm10 10l.94 2.06.94-2.06 2.06-.94-2.06-.94-.94-2.06-.94 2.06-2.06.94z\"/><path d=\"M17.41 7.96l-1.37-1.37c-.4-.4-.92-.59-1.43-.59-.52 0-1.04.2-1.43.59L10.3 9.45l-7.72 7.72c-.78.78-.78 2.05 0 2.83L4 21.41c.39.39.9.59 1.41.59.51 0 1.02-.2 1.41-.59l7.78-7.78 2.81-2.81c.8-.78.8-2.07 0-2.86zM5.41 20L4 18.59l7.72-7.72 1.47 1.35L5.41 20z\"/>\n",
              "  </svg>\n",
              "      </button>\n",
              "      \n",
              "  <style>\n",
              "    .colab-df-container {\n",
              "      display:flex;\n",
              "      flex-wrap:wrap;\n",
              "      gap: 12px;\n",
              "    }\n",
              "\n",
              "    .colab-df-convert {\n",
              "      background-color: #E8F0FE;\n",
              "      border: none;\n",
              "      border-radius: 50%;\n",
              "      cursor: pointer;\n",
              "      display: none;\n",
              "      fill: #1967D2;\n",
              "      height: 32px;\n",
              "      padding: 0 0 0 0;\n",
              "      width: 32px;\n",
              "    }\n",
              "\n",
              "    .colab-df-convert:hover {\n",
              "      background-color: #E2EBFA;\n",
              "      box-shadow: 0px 1px 2px rgba(60, 64, 67, 0.3), 0px 1px 3px 1px rgba(60, 64, 67, 0.15);\n",
              "      fill: #174EA6;\n",
              "    }\n",
              "\n",
              "    [theme=dark] .colab-df-convert {\n",
              "      background-color: #3B4455;\n",
              "      fill: #D2E3FC;\n",
              "    }\n",
              "\n",
              "    [theme=dark] .colab-df-convert:hover {\n",
              "      background-color: #434B5C;\n",
              "      box-shadow: 0px 1px 3px 1px rgba(0, 0, 0, 0.15);\n",
              "      filter: drop-shadow(0px 1px 2px rgba(0, 0, 0, 0.3));\n",
              "      fill: #FFFFFF;\n",
              "    }\n",
              "  </style>\n",
              "\n",
              "      <script>\n",
              "        const buttonEl =\n",
              "          document.querySelector('#df-508835c7-0c12-42f1-b7ad-b725370e9bec button.colab-df-convert');\n",
              "        buttonEl.style.display =\n",
              "          google.colab.kernel.accessAllowed ? 'block' : 'none';\n",
              "\n",
              "        async function convertToInteractive(key) {\n",
              "          const element = document.querySelector('#df-508835c7-0c12-42f1-b7ad-b725370e9bec');\n",
              "          const dataTable =\n",
              "            await google.colab.kernel.invokeFunction('convertToInteractive',\n",
              "                                                     [key], {});\n",
              "          if (!dataTable) return;\n",
              "\n",
              "          const docLinkHtml = 'Like what you see? Visit the ' +\n",
              "            '<a target=\"_blank\" href=https://colab.research.google.com/notebooks/data_table.ipynb>data table notebook</a>'\n",
              "            + ' to learn more about interactive tables.';\n",
              "          element.innerHTML = '';\n",
              "          dataTable['output_type'] = 'display_data';\n",
              "          await google.colab.output.renderOutput(dataTable, element);\n",
              "          const docLink = document.createElement('div');\n",
              "          docLink.innerHTML = docLinkHtml;\n",
              "          element.appendChild(docLink);\n",
              "        }\n",
              "      </script>\n",
              "    </div>\n",
              "  </div>\n",
              "  "
            ]
          },
          "metadata": {},
          "execution_count": 125
        }
      ]
    },
    {
      "cell_type": "code",
      "source": [
        "print(\"Spatial_Correlation |  Non-Normalized with Mockv2.1.nc\")\n",
        "trans_data=frame2\n",
        "final4 = Spat_Corr(data2,label2,frame2,False)\n",
        "final4"
      ],
      "metadata": {
        "colab": {
          "base_uri": "https://localhost:8080/",
          "height": 129
        },
        "id": "64JQbnU2bUWu",
        "outputId": "ae600a5f-8cb5-4b01-e4fb-ad30aaa68b32"
      },
      "execution_count": null,
      "outputs": [
        {
          "output_type": "stream",
          "name": "stdout",
          "text": [
            "Spatial_Correlation |  Non-Normalized with Mockv2.1.nc\n"
          ]
        },
        {
          "output_type": "execute_result",
          "data": {
            "text/plain": [
              "          0         1\n",
              "0       1.0 -0.812811\n",
              "1 -0.812811       1.0"
            ],
            "text/html": [
              "\n",
              "  <div id=\"df-5b395055-4c03-4a96-b280-f21ef2f4ab34\">\n",
              "    <div class=\"colab-df-container\">\n",
              "      <div>\n",
              "<style scoped>\n",
              "    .dataframe tbody tr th:only-of-type {\n",
              "        vertical-align: middle;\n",
              "    }\n",
              "\n",
              "    .dataframe tbody tr th {\n",
              "        vertical-align: top;\n",
              "    }\n",
              "\n",
              "    .dataframe thead th {\n",
              "        text-align: right;\n",
              "    }\n",
              "</style>\n",
              "<table border=\"1\" class=\"dataframe\">\n",
              "  <thead>\n",
              "    <tr style=\"text-align: right;\">\n",
              "      <th></th>\n",
              "      <th>0</th>\n",
              "      <th>1</th>\n",
              "    </tr>\n",
              "  </thead>\n",
              "  <tbody>\n",
              "    <tr>\n",
              "      <th>0</th>\n",
              "      <td>1.0</td>\n",
              "      <td>-0.812811</td>\n",
              "    </tr>\n",
              "    <tr>\n",
              "      <th>1</th>\n",
              "      <td>-0.812811</td>\n",
              "      <td>1.0</td>\n",
              "    </tr>\n",
              "  </tbody>\n",
              "</table>\n",
              "</div>\n",
              "      <button class=\"colab-df-convert\" onclick=\"convertToInteractive('df-5b395055-4c03-4a96-b280-f21ef2f4ab34')\"\n",
              "              title=\"Convert this dataframe to an interactive table.\"\n",
              "              style=\"display:none;\">\n",
              "        \n",
              "  <svg xmlns=\"http://www.w3.org/2000/svg\" height=\"24px\"viewBox=\"0 0 24 24\"\n",
              "       width=\"24px\">\n",
              "    <path d=\"M0 0h24v24H0V0z\" fill=\"none\"/>\n",
              "    <path d=\"M18.56 5.44l.94 2.06.94-2.06 2.06-.94-2.06-.94-.94-2.06-.94 2.06-2.06.94zm-11 1L8.5 8.5l.94-2.06 2.06-.94-2.06-.94L8.5 2.5l-.94 2.06-2.06.94zm10 10l.94 2.06.94-2.06 2.06-.94-2.06-.94-.94-2.06-.94 2.06-2.06.94z\"/><path d=\"M17.41 7.96l-1.37-1.37c-.4-.4-.92-.59-1.43-.59-.52 0-1.04.2-1.43.59L10.3 9.45l-7.72 7.72c-.78.78-.78 2.05 0 2.83L4 21.41c.39.39.9.59 1.41.59.51 0 1.02-.2 1.41-.59l7.78-7.78 2.81-2.81c.8-.78.8-2.07 0-2.86zM5.41 20L4 18.59l7.72-7.72 1.47 1.35L5.41 20z\"/>\n",
              "  </svg>\n",
              "      </button>\n",
              "      \n",
              "  <style>\n",
              "    .colab-df-container {\n",
              "      display:flex;\n",
              "      flex-wrap:wrap;\n",
              "      gap: 12px;\n",
              "    }\n",
              "\n",
              "    .colab-df-convert {\n",
              "      background-color: #E8F0FE;\n",
              "      border: none;\n",
              "      border-radius: 50%;\n",
              "      cursor: pointer;\n",
              "      display: none;\n",
              "      fill: #1967D2;\n",
              "      height: 32px;\n",
              "      padding: 0 0 0 0;\n",
              "      width: 32px;\n",
              "    }\n",
              "\n",
              "    .colab-df-convert:hover {\n",
              "      background-color: #E2EBFA;\n",
              "      box-shadow: 0px 1px 2px rgba(60, 64, 67, 0.3), 0px 1px 3px 1px rgba(60, 64, 67, 0.15);\n",
              "      fill: #174EA6;\n",
              "    }\n",
              "\n",
              "    [theme=dark] .colab-df-convert {\n",
              "      background-color: #3B4455;\n",
              "      fill: #D2E3FC;\n",
              "    }\n",
              "\n",
              "    [theme=dark] .colab-df-convert:hover {\n",
              "      background-color: #434B5C;\n",
              "      box-shadow: 0px 1px 3px 1px rgba(0, 0, 0, 0.15);\n",
              "      filter: drop-shadow(0px 1px 2px rgba(0, 0, 0, 0.3));\n",
              "      fill: #FFFFFF;\n",
              "    }\n",
              "  </style>\n",
              "\n",
              "      <script>\n",
              "        const buttonEl =\n",
              "          document.querySelector('#df-5b395055-4c03-4a96-b280-f21ef2f4ab34 button.colab-df-convert');\n",
              "        buttonEl.style.display =\n",
              "          google.colab.kernel.accessAllowed ? 'block' : 'none';\n",
              "\n",
              "        async function convertToInteractive(key) {\n",
              "          const element = document.querySelector('#df-5b395055-4c03-4a96-b280-f21ef2f4ab34');\n",
              "          const dataTable =\n",
              "            await google.colab.kernel.invokeFunction('convertToInteractive',\n",
              "                                                     [key], {});\n",
              "          if (!dataTable) return;\n",
              "\n",
              "          const docLinkHtml = 'Like what you see? Visit the ' +\n",
              "            '<a target=\"_blank\" href=https://colab.research.google.com/notebooks/data_table.ipynb>data table notebook</a>'\n",
              "            + ' to learn more about interactive tables.';\n",
              "          element.innerHTML = '';\n",
              "          dataTable['output_type'] = 'display_data';\n",
              "          await google.colab.output.renderOutput(dataTable, element);\n",
              "          const docLink = document.createElement('div');\n",
              "          docLink.innerHTML = docLinkHtml;\n",
              "          element.appendChild(docLink);\n",
              "        }\n",
              "      </script>\n",
              "    </div>\n",
              "  </div>\n",
              "  "
            ]
          },
          "metadata": {},
          "execution_count": 126
        }
      ]
    },
    {
      "cell_type": "markdown",
      "metadata": {
        "id": "65Y6C8T4IZYH"
      },
      "source": [
        "\n",
        "#Mock_v3.1.1 Dbscan"
      ]
    },
    {
      "cell_type": "code",
      "execution_count": null,
      "metadata": {
        "colab": {
          "base_uri": "https://localhost:8080/"
        },
        "id": "n4OjAHloLVDp",
        "outputId": "c9ad030a-8f73-4402-a063-6127a7cb34f3"
      },
      "outputs": [
        {
          "output_type": "stream",
          "name": "stdout",
          "text": [
            "Estimated number of clusters: 4\n",
            "0    5\n",
            "1    5\n",
            "2    5\n",
            "3    5\n",
            "Name: Cluster, dtype: int64\n",
            "Estimated number of noise points: 0\n",
            "Silhouette Coefficient: 1.000\n",
            "[0 0 0 0 0 1 1 1 1 1 2 2 2 2 2 3 3 3 3 3]\n"
          ]
        }
      ],
      "source": [
        "frame3,label3=dbscanmock(datat3)\n",
        "print(label3)\n"
      ]
    },
    {
      "cell_type": "code",
      "execution_count": null,
      "metadata": {
        "colab": {
          "base_uri": "https://localhost:8080/",
          "height": 192
        },
        "id": "es7SAepU7Zar",
        "outputId": "122c3b52-663a-4e8a-bcfb-586b793d73de"
      },
      "outputs": [
        {
          "output_type": "stream",
          "name": "stdout",
          "text": [
            "RMSE | Normalized\n"
          ]
        },
        {
          "output_type": "execute_result",
          "data": {
            "text/plain": [
              "       0      1      2      3\n",
              "0    0.0   6.33  27.61   26.9\n",
              "1   6.33    0.0   26.9  27.61\n",
              "2  27.61   26.9    0.0  13.71\n",
              "3   26.9  27.61  13.71    0.0"
            ],
            "text/html": [
              "\n",
              "  <div id=\"df-38e047f0-1db3-4bc0-b387-461305bb2778\">\n",
              "    <div class=\"colab-df-container\">\n",
              "      <div>\n",
              "<style scoped>\n",
              "    .dataframe tbody tr th:only-of-type {\n",
              "        vertical-align: middle;\n",
              "    }\n",
              "\n",
              "    .dataframe tbody tr th {\n",
              "        vertical-align: top;\n",
              "    }\n",
              "\n",
              "    .dataframe thead th {\n",
              "        text-align: right;\n",
              "    }\n",
              "</style>\n",
              "<table border=\"1\" class=\"dataframe\">\n",
              "  <thead>\n",
              "    <tr style=\"text-align: right;\">\n",
              "      <th></th>\n",
              "      <th>0</th>\n",
              "      <th>1</th>\n",
              "      <th>2</th>\n",
              "      <th>3</th>\n",
              "    </tr>\n",
              "  </thead>\n",
              "  <tbody>\n",
              "    <tr>\n",
              "      <th>0</th>\n",
              "      <td>0.0</td>\n",
              "      <td>6.33</td>\n",
              "      <td>27.61</td>\n",
              "      <td>26.9</td>\n",
              "    </tr>\n",
              "    <tr>\n",
              "      <th>1</th>\n",
              "      <td>6.33</td>\n",
              "      <td>0.0</td>\n",
              "      <td>26.9</td>\n",
              "      <td>27.61</td>\n",
              "    </tr>\n",
              "    <tr>\n",
              "      <th>2</th>\n",
              "      <td>27.61</td>\n",
              "      <td>26.9</td>\n",
              "      <td>0.0</td>\n",
              "      <td>13.71</td>\n",
              "    </tr>\n",
              "    <tr>\n",
              "      <th>3</th>\n",
              "      <td>26.9</td>\n",
              "      <td>27.61</td>\n",
              "      <td>13.71</td>\n",
              "      <td>0.0</td>\n",
              "    </tr>\n",
              "  </tbody>\n",
              "</table>\n",
              "</div>\n",
              "      <button class=\"colab-df-convert\" onclick=\"convertToInteractive('df-38e047f0-1db3-4bc0-b387-461305bb2778')\"\n",
              "              title=\"Convert this dataframe to an interactive table.\"\n",
              "              style=\"display:none;\">\n",
              "        \n",
              "  <svg xmlns=\"http://www.w3.org/2000/svg\" height=\"24px\"viewBox=\"0 0 24 24\"\n",
              "       width=\"24px\">\n",
              "    <path d=\"M0 0h24v24H0V0z\" fill=\"none\"/>\n",
              "    <path d=\"M18.56 5.44l.94 2.06.94-2.06 2.06-.94-2.06-.94-.94-2.06-.94 2.06-2.06.94zm-11 1L8.5 8.5l.94-2.06 2.06-.94-2.06-.94L8.5 2.5l-.94 2.06-2.06.94zm10 10l.94 2.06.94-2.06 2.06-.94-2.06-.94-.94-2.06-.94 2.06-2.06.94z\"/><path d=\"M17.41 7.96l-1.37-1.37c-.4-.4-.92-.59-1.43-.59-.52 0-1.04.2-1.43.59L10.3 9.45l-7.72 7.72c-.78.78-.78 2.05 0 2.83L4 21.41c.39.39.9.59 1.41.59.51 0 1.02-.2 1.41-.59l7.78-7.78 2.81-2.81c.8-.78.8-2.07 0-2.86zM5.41 20L4 18.59l7.72-7.72 1.47 1.35L5.41 20z\"/>\n",
              "  </svg>\n",
              "      </button>\n",
              "      \n",
              "  <style>\n",
              "    .colab-df-container {\n",
              "      display:flex;\n",
              "      flex-wrap:wrap;\n",
              "      gap: 12px;\n",
              "    }\n",
              "\n",
              "    .colab-df-convert {\n",
              "      background-color: #E8F0FE;\n",
              "      border: none;\n",
              "      border-radius: 50%;\n",
              "      cursor: pointer;\n",
              "      display: none;\n",
              "      fill: #1967D2;\n",
              "      height: 32px;\n",
              "      padding: 0 0 0 0;\n",
              "      width: 32px;\n",
              "    }\n",
              "\n",
              "    .colab-df-convert:hover {\n",
              "      background-color: #E2EBFA;\n",
              "      box-shadow: 0px 1px 2px rgba(60, 64, 67, 0.3), 0px 1px 3px 1px rgba(60, 64, 67, 0.15);\n",
              "      fill: #174EA6;\n",
              "    }\n",
              "\n",
              "    [theme=dark] .colab-df-convert {\n",
              "      background-color: #3B4455;\n",
              "      fill: #D2E3FC;\n",
              "    }\n",
              "\n",
              "    [theme=dark] .colab-df-convert:hover {\n",
              "      background-color: #434B5C;\n",
              "      box-shadow: 0px 1px 3px 1px rgba(0, 0, 0, 0.15);\n",
              "      filter: drop-shadow(0px 1px 2px rgba(0, 0, 0, 0.3));\n",
              "      fill: #FFFFFF;\n",
              "    }\n",
              "  </style>\n",
              "\n",
              "      <script>\n",
              "        const buttonEl =\n",
              "          document.querySelector('#df-38e047f0-1db3-4bc0-b387-461305bb2778 button.colab-df-convert');\n",
              "        buttonEl.style.display =\n",
              "          google.colab.kernel.accessAllowed ? 'block' : 'none';\n",
              "\n",
              "        async function convertToInteractive(key) {\n",
              "          const element = document.querySelector('#df-38e047f0-1db3-4bc0-b387-461305bb2778');\n",
              "          const dataTable =\n",
              "            await google.colab.kernel.invokeFunction('convertToInteractive',\n",
              "                                                     [key], {});\n",
              "          if (!dataTable) return;\n",
              "\n",
              "          const docLinkHtml = 'Like what you see? Visit the ' +\n",
              "            '<a target=\"_blank\" href=https://colab.research.google.com/notebooks/data_table.ipynb>data table notebook</a>'\n",
              "            + ' to learn more about interactive tables.';\n",
              "          element.innerHTML = '';\n",
              "          dataTable['output_type'] = 'display_data';\n",
              "          await google.colab.output.renderOutput(dataTable, element);\n",
              "          const docLink = document.createElement('div');\n",
              "          docLink.innerHTML = docLinkHtml;\n",
              "          element.appendChild(docLink);\n",
              "        }\n",
              "      </script>\n",
              "    </div>\n",
              "  </div>\n",
              "  "
            ]
          },
          "metadata": {},
          "execution_count": 123
        }
      ],
      "source": [
        "print(\"RMSE | Normalized\")\n",
        "final1 = RMSE(data3,label3,frame3,True)\n",
        "final1"
      ]
    },
    {
      "cell_type": "code",
      "execution_count": null,
      "metadata": {
        "colab": {
          "base_uri": "https://localhost:8080/",
          "height": 192
        },
        "id": "afV9T3nv7dBS",
        "outputId": "ce598c6e-4dfb-4b1a-954a-c0239f6b3ad5"
      },
      "outputs": [
        {
          "name": "stdout",
          "output_type": "stream",
          "text": [
            "RMSE | Non-Normalized\n"
          ]
        },
        {
          "data": {
            "text/html": [
              "\n",
              "  <div id=\"df-c33b9022-def0-4e78-8883-f14a298fcdf9\">\n",
              "    <div class=\"colab-df-container\">\n",
              "      <div>\n",
              "<style scoped>\n",
              "    .dataframe tbody tr th:only-of-type {\n",
              "        vertical-align: middle;\n",
              "    }\n",
              "\n",
              "    .dataframe tbody tr th {\n",
              "        vertical-align: top;\n",
              "    }\n",
              "\n",
              "    .dataframe thead th {\n",
              "        text-align: right;\n",
              "    }\n",
              "</style>\n",
              "<table border=\"1\" class=\"dataframe\">\n",
              "  <thead>\n",
              "    <tr style=\"text-align: right;\">\n",
              "      <th></th>\n",
              "      <th>0</th>\n",
              "      <th>1</th>\n",
              "      <th>2</th>\n",
              "      <th>3</th>\n",
              "    </tr>\n",
              "  </thead>\n",
              "  <tbody>\n",
              "    <tr>\n",
              "      <th>0</th>\n",
              "      <td>0.0</td>\n",
              "      <td>16.12</td>\n",
              "      <td>497.52</td>\n",
              "      <td>498.27</td>\n",
              "    </tr>\n",
              "    <tr>\n",
              "      <th>1</th>\n",
              "      <td>16.12</td>\n",
              "      <td>0.0</td>\n",
              "      <td>498.27</td>\n",
              "      <td>497.52</td>\n",
              "    </tr>\n",
              "    <tr>\n",
              "      <th>2</th>\n",
              "      <td>497.52</td>\n",
              "      <td>498.27</td>\n",
              "      <td>0.0</td>\n",
              "      <td>316.62</td>\n",
              "    </tr>\n",
              "    <tr>\n",
              "      <th>3</th>\n",
              "      <td>498.27</td>\n",
              "      <td>497.52</td>\n",
              "      <td>316.62</td>\n",
              "      <td>0.0</td>\n",
              "    </tr>\n",
              "  </tbody>\n",
              "</table>\n",
              "</div>\n",
              "      <button class=\"colab-df-convert\" onclick=\"convertToInteractive('df-c33b9022-def0-4e78-8883-f14a298fcdf9')\"\n",
              "              title=\"Convert this dataframe to an interactive table.\"\n",
              "              style=\"display:none;\">\n",
              "        \n",
              "  <svg xmlns=\"http://www.w3.org/2000/svg\" height=\"24px\"viewBox=\"0 0 24 24\"\n",
              "       width=\"24px\">\n",
              "    <path d=\"M0 0h24v24H0V0z\" fill=\"none\"/>\n",
              "    <path d=\"M18.56 5.44l.94 2.06.94-2.06 2.06-.94-2.06-.94-.94-2.06-.94 2.06-2.06.94zm-11 1L8.5 8.5l.94-2.06 2.06-.94-2.06-.94L8.5 2.5l-.94 2.06-2.06.94zm10 10l.94 2.06.94-2.06 2.06-.94-2.06-.94-.94-2.06-.94 2.06-2.06.94z\"/><path d=\"M17.41 7.96l-1.37-1.37c-.4-.4-.92-.59-1.43-.59-.52 0-1.04.2-1.43.59L10.3 9.45l-7.72 7.72c-.78.78-.78 2.05 0 2.83L4 21.41c.39.39.9.59 1.41.59.51 0 1.02-.2 1.41-.59l7.78-7.78 2.81-2.81c.8-.78.8-2.07 0-2.86zM5.41 20L4 18.59l7.72-7.72 1.47 1.35L5.41 20z\"/>\n",
              "  </svg>\n",
              "      </button>\n",
              "      \n",
              "  <style>\n",
              "    .colab-df-container {\n",
              "      display:flex;\n",
              "      flex-wrap:wrap;\n",
              "      gap: 12px;\n",
              "    }\n",
              "\n",
              "    .colab-df-convert {\n",
              "      background-color: #E8F0FE;\n",
              "      border: none;\n",
              "      border-radius: 50%;\n",
              "      cursor: pointer;\n",
              "      display: none;\n",
              "      fill: #1967D2;\n",
              "      height: 32px;\n",
              "      padding: 0 0 0 0;\n",
              "      width: 32px;\n",
              "    }\n",
              "\n",
              "    .colab-df-convert:hover {\n",
              "      background-color: #E2EBFA;\n",
              "      box-shadow: 0px 1px 2px rgba(60, 64, 67, 0.3), 0px 1px 3px 1px rgba(60, 64, 67, 0.15);\n",
              "      fill: #174EA6;\n",
              "    }\n",
              "\n",
              "    [theme=dark] .colab-df-convert {\n",
              "      background-color: #3B4455;\n",
              "      fill: #D2E3FC;\n",
              "    }\n",
              "\n",
              "    [theme=dark] .colab-df-convert:hover {\n",
              "      background-color: #434B5C;\n",
              "      box-shadow: 0px 1px 3px 1px rgba(0, 0, 0, 0.15);\n",
              "      filter: drop-shadow(0px 1px 2px rgba(0, 0, 0, 0.3));\n",
              "      fill: #FFFFFF;\n",
              "    }\n",
              "  </style>\n",
              "\n",
              "      <script>\n",
              "        const buttonEl =\n",
              "          document.querySelector('#df-c33b9022-def0-4e78-8883-f14a298fcdf9 button.colab-df-convert');\n",
              "        buttonEl.style.display =\n",
              "          google.colab.kernel.accessAllowed ? 'block' : 'none';\n",
              "\n",
              "        async function convertToInteractive(key) {\n",
              "          const element = document.querySelector('#df-c33b9022-def0-4e78-8883-f14a298fcdf9');\n",
              "          const dataTable =\n",
              "            await google.colab.kernel.invokeFunction('convertToInteractive',\n",
              "                                                     [key], {});\n",
              "          if (!dataTable) return;\n",
              "\n",
              "          const docLinkHtml = 'Like what you see? Visit the ' +\n",
              "            '<a target=\"_blank\" href=https://colab.research.google.com/notebooks/data_table.ipynb>data table notebook</a>'\n",
              "            + ' to learn more about interactive tables.';\n",
              "          element.innerHTML = '';\n",
              "          dataTable['output_type'] = 'display_data';\n",
              "          await google.colab.output.renderOutput(dataTable, element);\n",
              "          const docLink = document.createElement('div');\n",
              "          docLink.innerHTML = docLinkHtml;\n",
              "          element.appendChild(docLink);\n",
              "        }\n",
              "      </script>\n",
              "    </div>\n",
              "  </div>\n",
              "  "
            ],
            "text/plain": [
              "        0       1       2       3\n",
              "0     0.0   16.12  497.52  498.27\n",
              "1   16.12     0.0  498.27  497.52\n",
              "2  497.52  498.27     0.0  316.62\n",
              "3  498.27  497.52  316.62     0.0"
            ]
          },
          "execution_count": 54,
          "metadata": {},
          "output_type": "execute_result"
        }
      ],
      "source": [
        "trans_data=frame3\n",
        "print(\"RMSE | Non-Normalized\")\n",
        "final1 = RMSE(data3,label3,frame3,False)\n",
        "final1"
      ]
    },
    {
      "cell_type": "code",
      "source": [
        "print(\"Spatial_Correlation | Normalized with Mock3.1.1.nc\")\n",
        "trans_data=frame3\n",
        "final4 = Spat_Corr(data3,label3,frame3,True)\n",
        "final4"
      ],
      "metadata": {
        "colab": {
          "base_uri": "https://localhost:8080/",
          "height": 192
        },
        "id": "3sMIZh2QgIo6",
        "outputId": "92073165-cba3-4714-c80b-4aa066bbc255"
      },
      "execution_count": null,
      "outputs": [
        {
          "output_type": "stream",
          "name": "stdout",
          "text": [
            "Spatial_Correlation | Normalized with Mock3.1.1.nc\n"
          ]
        },
        {
          "output_type": "execute_result",
          "data": {
            "text/plain": [
              "          0         1         2         3\n",
              "0       1.0 -0.299768 -0.299768 -0.299768\n",
              "1 -0.299768       1.0 -0.299768 -0.299768\n",
              "2 -0.299768 -0.299768       1.0 -0.299768\n",
              "3 -0.299768 -0.299768 -0.299768       1.0"
            ],
            "text/html": [
              "\n",
              "  <div id=\"df-aac47908-6007-4f1a-91d5-dc8f9844b3d2\">\n",
              "    <div class=\"colab-df-container\">\n",
              "      <div>\n",
              "<style scoped>\n",
              "    .dataframe tbody tr th:only-of-type {\n",
              "        vertical-align: middle;\n",
              "    }\n",
              "\n",
              "    .dataframe tbody tr th {\n",
              "        vertical-align: top;\n",
              "    }\n",
              "\n",
              "    .dataframe thead th {\n",
              "        text-align: right;\n",
              "    }\n",
              "</style>\n",
              "<table border=\"1\" class=\"dataframe\">\n",
              "  <thead>\n",
              "    <tr style=\"text-align: right;\">\n",
              "      <th></th>\n",
              "      <th>0</th>\n",
              "      <th>1</th>\n",
              "      <th>2</th>\n",
              "      <th>3</th>\n",
              "    </tr>\n",
              "  </thead>\n",
              "  <tbody>\n",
              "    <tr>\n",
              "      <th>0</th>\n",
              "      <td>1.0</td>\n",
              "      <td>-0.299768</td>\n",
              "      <td>-0.299768</td>\n",
              "      <td>-0.299768</td>\n",
              "    </tr>\n",
              "    <tr>\n",
              "      <th>1</th>\n",
              "      <td>-0.299768</td>\n",
              "      <td>1.0</td>\n",
              "      <td>-0.299768</td>\n",
              "      <td>-0.299768</td>\n",
              "    </tr>\n",
              "    <tr>\n",
              "      <th>2</th>\n",
              "      <td>-0.299768</td>\n",
              "      <td>-0.299768</td>\n",
              "      <td>1.0</td>\n",
              "      <td>-0.299768</td>\n",
              "    </tr>\n",
              "    <tr>\n",
              "      <th>3</th>\n",
              "      <td>-0.299768</td>\n",
              "      <td>-0.299768</td>\n",
              "      <td>-0.299768</td>\n",
              "      <td>1.0</td>\n",
              "    </tr>\n",
              "  </tbody>\n",
              "</table>\n",
              "</div>\n",
              "      <button class=\"colab-df-convert\" onclick=\"convertToInteractive('df-aac47908-6007-4f1a-91d5-dc8f9844b3d2')\"\n",
              "              title=\"Convert this dataframe to an interactive table.\"\n",
              "              style=\"display:none;\">\n",
              "        \n",
              "  <svg xmlns=\"http://www.w3.org/2000/svg\" height=\"24px\"viewBox=\"0 0 24 24\"\n",
              "       width=\"24px\">\n",
              "    <path d=\"M0 0h24v24H0V0z\" fill=\"none\"/>\n",
              "    <path d=\"M18.56 5.44l.94 2.06.94-2.06 2.06-.94-2.06-.94-.94-2.06-.94 2.06-2.06.94zm-11 1L8.5 8.5l.94-2.06 2.06-.94-2.06-.94L8.5 2.5l-.94 2.06-2.06.94zm10 10l.94 2.06.94-2.06 2.06-.94-2.06-.94-.94-2.06-.94 2.06-2.06.94z\"/><path d=\"M17.41 7.96l-1.37-1.37c-.4-.4-.92-.59-1.43-.59-.52 0-1.04.2-1.43.59L10.3 9.45l-7.72 7.72c-.78.78-.78 2.05 0 2.83L4 21.41c.39.39.9.59 1.41.59.51 0 1.02-.2 1.41-.59l7.78-7.78 2.81-2.81c.8-.78.8-2.07 0-2.86zM5.41 20L4 18.59l7.72-7.72 1.47 1.35L5.41 20z\"/>\n",
              "  </svg>\n",
              "      </button>\n",
              "      \n",
              "  <style>\n",
              "    .colab-df-container {\n",
              "      display:flex;\n",
              "      flex-wrap:wrap;\n",
              "      gap: 12px;\n",
              "    }\n",
              "\n",
              "    .colab-df-convert {\n",
              "      background-color: #E8F0FE;\n",
              "      border: none;\n",
              "      border-radius: 50%;\n",
              "      cursor: pointer;\n",
              "      display: none;\n",
              "      fill: #1967D2;\n",
              "      height: 32px;\n",
              "      padding: 0 0 0 0;\n",
              "      width: 32px;\n",
              "    }\n",
              "\n",
              "    .colab-df-convert:hover {\n",
              "      background-color: #E2EBFA;\n",
              "      box-shadow: 0px 1px 2px rgba(60, 64, 67, 0.3), 0px 1px 3px 1px rgba(60, 64, 67, 0.15);\n",
              "      fill: #174EA6;\n",
              "    }\n",
              "\n",
              "    [theme=dark] .colab-df-convert {\n",
              "      background-color: #3B4455;\n",
              "      fill: #D2E3FC;\n",
              "    }\n",
              "\n",
              "    [theme=dark] .colab-df-convert:hover {\n",
              "      background-color: #434B5C;\n",
              "      box-shadow: 0px 1px 3px 1px rgba(0, 0, 0, 0.15);\n",
              "      filter: drop-shadow(0px 1px 2px rgba(0, 0, 0, 0.3));\n",
              "      fill: #FFFFFF;\n",
              "    }\n",
              "  </style>\n",
              "\n",
              "      <script>\n",
              "        const buttonEl =\n",
              "          document.querySelector('#df-aac47908-6007-4f1a-91d5-dc8f9844b3d2 button.colab-df-convert');\n",
              "        buttonEl.style.display =\n",
              "          google.colab.kernel.accessAllowed ? 'block' : 'none';\n",
              "\n",
              "        async function convertToInteractive(key) {\n",
              "          const element = document.querySelector('#df-aac47908-6007-4f1a-91d5-dc8f9844b3d2');\n",
              "          const dataTable =\n",
              "            await google.colab.kernel.invokeFunction('convertToInteractive',\n",
              "                                                     [key], {});\n",
              "          if (!dataTable) return;\n",
              "\n",
              "          const docLinkHtml = 'Like what you see? Visit the ' +\n",
              "            '<a target=\"_blank\" href=https://colab.research.google.com/notebooks/data_table.ipynb>data table notebook</a>'\n",
              "            + ' to learn more about interactive tables.';\n",
              "          element.innerHTML = '';\n",
              "          dataTable['output_type'] = 'display_data';\n",
              "          await google.colab.output.renderOutput(dataTable, element);\n",
              "          const docLink = document.createElement('div');\n",
              "          docLink.innerHTML = docLinkHtml;\n",
              "          element.appendChild(docLink);\n",
              "        }\n",
              "      </script>\n",
              "    </div>\n",
              "  </div>\n",
              "  "
            ]
          },
          "metadata": {},
          "execution_count": 128
        }
      ]
    },
    {
      "cell_type": "code",
      "source": [
        "print(\"Spatial_Correlation |  Non-Normalized with Mockv3.1.1.nc\")\n",
        "trans_data=frame3\n",
        "final4 = Spat_Corr(data3,label3,frame3,False)\n",
        "final4"
      ],
      "metadata": {
        "colab": {
          "base_uri": "https://localhost:8080/",
          "height": 192
        },
        "id": "2QYN41U6gW1K",
        "outputId": "47cf7a3a-ed67-4009-865a-9437ca9f7b0e"
      },
      "execution_count": null,
      "outputs": [
        {
          "output_type": "stream",
          "name": "stdout",
          "text": [
            "Spatial_Correlation |  Non-Normalized with Mockv3.1.1.nc\n"
          ]
        },
        {
          "output_type": "execute_result",
          "data": {
            "text/plain": [
              "          0         1         2         3\n",
              "0       1.0 -0.351228 -0.351228 -0.351228\n",
              "1 -0.351228       1.0 -0.351228 -0.351228\n",
              "2 -0.351228 -0.351228       1.0 -0.351228\n",
              "3 -0.351228 -0.351228 -0.351228       1.0"
            ],
            "text/html": [
              "\n",
              "  <div id=\"df-11227d84-0566-42a0-8464-4603aac46a92\">\n",
              "    <div class=\"colab-df-container\">\n",
              "      <div>\n",
              "<style scoped>\n",
              "    .dataframe tbody tr th:only-of-type {\n",
              "        vertical-align: middle;\n",
              "    }\n",
              "\n",
              "    .dataframe tbody tr th {\n",
              "        vertical-align: top;\n",
              "    }\n",
              "\n",
              "    .dataframe thead th {\n",
              "        text-align: right;\n",
              "    }\n",
              "</style>\n",
              "<table border=\"1\" class=\"dataframe\">\n",
              "  <thead>\n",
              "    <tr style=\"text-align: right;\">\n",
              "      <th></th>\n",
              "      <th>0</th>\n",
              "      <th>1</th>\n",
              "      <th>2</th>\n",
              "      <th>3</th>\n",
              "    </tr>\n",
              "  </thead>\n",
              "  <tbody>\n",
              "    <tr>\n",
              "      <th>0</th>\n",
              "      <td>1.0</td>\n",
              "      <td>-0.351228</td>\n",
              "      <td>-0.351228</td>\n",
              "      <td>-0.351228</td>\n",
              "    </tr>\n",
              "    <tr>\n",
              "      <th>1</th>\n",
              "      <td>-0.351228</td>\n",
              "      <td>1.0</td>\n",
              "      <td>-0.351228</td>\n",
              "      <td>-0.351228</td>\n",
              "    </tr>\n",
              "    <tr>\n",
              "      <th>2</th>\n",
              "      <td>-0.351228</td>\n",
              "      <td>-0.351228</td>\n",
              "      <td>1.0</td>\n",
              "      <td>-0.351228</td>\n",
              "    </tr>\n",
              "    <tr>\n",
              "      <th>3</th>\n",
              "      <td>-0.351228</td>\n",
              "      <td>-0.351228</td>\n",
              "      <td>-0.351228</td>\n",
              "      <td>1.0</td>\n",
              "    </tr>\n",
              "  </tbody>\n",
              "</table>\n",
              "</div>\n",
              "      <button class=\"colab-df-convert\" onclick=\"convertToInteractive('df-11227d84-0566-42a0-8464-4603aac46a92')\"\n",
              "              title=\"Convert this dataframe to an interactive table.\"\n",
              "              style=\"display:none;\">\n",
              "        \n",
              "  <svg xmlns=\"http://www.w3.org/2000/svg\" height=\"24px\"viewBox=\"0 0 24 24\"\n",
              "       width=\"24px\">\n",
              "    <path d=\"M0 0h24v24H0V0z\" fill=\"none\"/>\n",
              "    <path d=\"M18.56 5.44l.94 2.06.94-2.06 2.06-.94-2.06-.94-.94-2.06-.94 2.06-2.06.94zm-11 1L8.5 8.5l.94-2.06 2.06-.94-2.06-.94L8.5 2.5l-.94 2.06-2.06.94zm10 10l.94 2.06.94-2.06 2.06-.94-2.06-.94-.94-2.06-.94 2.06-2.06.94z\"/><path d=\"M17.41 7.96l-1.37-1.37c-.4-.4-.92-.59-1.43-.59-.52 0-1.04.2-1.43.59L10.3 9.45l-7.72 7.72c-.78.78-.78 2.05 0 2.83L4 21.41c.39.39.9.59 1.41.59.51 0 1.02-.2 1.41-.59l7.78-7.78 2.81-2.81c.8-.78.8-2.07 0-2.86zM5.41 20L4 18.59l7.72-7.72 1.47 1.35L5.41 20z\"/>\n",
              "  </svg>\n",
              "      </button>\n",
              "      \n",
              "  <style>\n",
              "    .colab-df-container {\n",
              "      display:flex;\n",
              "      flex-wrap:wrap;\n",
              "      gap: 12px;\n",
              "    }\n",
              "\n",
              "    .colab-df-convert {\n",
              "      background-color: #E8F0FE;\n",
              "      border: none;\n",
              "      border-radius: 50%;\n",
              "      cursor: pointer;\n",
              "      display: none;\n",
              "      fill: #1967D2;\n",
              "      height: 32px;\n",
              "      padding: 0 0 0 0;\n",
              "      width: 32px;\n",
              "    }\n",
              "\n",
              "    .colab-df-convert:hover {\n",
              "      background-color: #E2EBFA;\n",
              "      box-shadow: 0px 1px 2px rgba(60, 64, 67, 0.3), 0px 1px 3px 1px rgba(60, 64, 67, 0.15);\n",
              "      fill: #174EA6;\n",
              "    }\n",
              "\n",
              "    [theme=dark] .colab-df-convert {\n",
              "      background-color: #3B4455;\n",
              "      fill: #D2E3FC;\n",
              "    }\n",
              "\n",
              "    [theme=dark] .colab-df-convert:hover {\n",
              "      background-color: #434B5C;\n",
              "      box-shadow: 0px 1px 3px 1px rgba(0, 0, 0, 0.15);\n",
              "      filter: drop-shadow(0px 1px 2px rgba(0, 0, 0, 0.3));\n",
              "      fill: #FFFFFF;\n",
              "    }\n",
              "  </style>\n",
              "\n",
              "      <script>\n",
              "        const buttonEl =\n",
              "          document.querySelector('#df-11227d84-0566-42a0-8464-4603aac46a92 button.colab-df-convert');\n",
              "        buttonEl.style.display =\n",
              "          google.colab.kernel.accessAllowed ? 'block' : 'none';\n",
              "\n",
              "        async function convertToInteractive(key) {\n",
              "          const element = document.querySelector('#df-11227d84-0566-42a0-8464-4603aac46a92');\n",
              "          const dataTable =\n",
              "            await google.colab.kernel.invokeFunction('convertToInteractive',\n",
              "                                                     [key], {});\n",
              "          if (!dataTable) return;\n",
              "\n",
              "          const docLinkHtml = 'Like what you see? Visit the ' +\n",
              "            '<a target=\"_blank\" href=https://colab.research.google.com/notebooks/data_table.ipynb>data table notebook</a>'\n",
              "            + ' to learn more about interactive tables.';\n",
              "          element.innerHTML = '';\n",
              "          dataTable['output_type'] = 'display_data';\n",
              "          await google.colab.output.renderOutput(dataTable, element);\n",
              "          const docLink = document.createElement('div');\n",
              "          docLink.innerHTML = docLinkHtml;\n",
              "          element.appendChild(docLink);\n",
              "        }\n",
              "      </script>\n",
              "    </div>\n",
              "  </div>\n",
              "  "
            ]
          },
          "metadata": {},
          "execution_count": 135
        }
      ]
    },
    {
      "cell_type": "markdown",
      "metadata": {
        "id": "WrfgRvP3IdC7"
      },
      "source": [
        "#Mock_v4 Dbscan"
      ]
    },
    {
      "cell_type": "code",
      "execution_count": null,
      "metadata": {
        "colab": {
          "base_uri": "https://localhost:8080/"
        },
        "id": "0NVlhITQLXPz",
        "outputId": "700f3d1d-562f-4d01-9386-d5c2df232a05"
      },
      "outputs": [
        {
          "output_type": "stream",
          "name": "stdout",
          "text": [
            "Estimated number of clusters: 4\n",
            "0    5\n",
            "1    5\n",
            "2    5\n",
            "3    5\n",
            "Name: Cluster, dtype: int64\n",
            "Estimated number of noise points: 0\n",
            "Silhouette Coefficient: 1.000\n",
            "[0 0 0 0 0 1 1 1 1 1 2 2 2 2 2 3 3 3 3 3]\n"
          ]
        }
      ],
      "source": [
        "frame4,label4=dbscanmock(datat4)\n",
        "print(label4)"
      ]
    },
    {
      "cell_type": "code",
      "execution_count": null,
      "metadata": {
        "colab": {
          "base_uri": "https://localhost:8080/",
          "height": 192
        },
        "id": "2d1i6p4R8EUP",
        "outputId": "a83f8971-1b2b-4641-dc34-74d3895f7f7e"
      },
      "outputs": [
        {
          "output_type": "stream",
          "name": "stdout",
          "text": [
            "RMSE | Normalized\n"
          ]
        },
        {
          "output_type": "execute_result",
          "data": {
            "text/plain": [
              "       0      1      2      3\n",
              "0    0.0   2.99  28.03  28.06\n",
              "1   2.99    0.0  28.05   28.2\n",
              "2  28.03  28.05    0.0   5.96\n",
              "3  28.06   28.2   5.96    0.0"
            ],
            "text/html": [
              "\n",
              "  <div id=\"df-217fb5c3-6e04-4acf-bd48-70331a16e024\">\n",
              "    <div class=\"colab-df-container\">\n",
              "      <div>\n",
              "<style scoped>\n",
              "    .dataframe tbody tr th:only-of-type {\n",
              "        vertical-align: middle;\n",
              "    }\n",
              "\n",
              "    .dataframe tbody tr th {\n",
              "        vertical-align: top;\n",
              "    }\n",
              "\n",
              "    .dataframe thead th {\n",
              "        text-align: right;\n",
              "    }\n",
              "</style>\n",
              "<table border=\"1\" class=\"dataframe\">\n",
              "  <thead>\n",
              "    <tr style=\"text-align: right;\">\n",
              "      <th></th>\n",
              "      <th>0</th>\n",
              "      <th>1</th>\n",
              "      <th>2</th>\n",
              "      <th>3</th>\n",
              "    </tr>\n",
              "  </thead>\n",
              "  <tbody>\n",
              "    <tr>\n",
              "      <th>0</th>\n",
              "      <td>0.0</td>\n",
              "      <td>2.99</td>\n",
              "      <td>28.03</td>\n",
              "      <td>28.06</td>\n",
              "    </tr>\n",
              "    <tr>\n",
              "      <th>1</th>\n",
              "      <td>2.99</td>\n",
              "      <td>0.0</td>\n",
              "      <td>28.05</td>\n",
              "      <td>28.2</td>\n",
              "    </tr>\n",
              "    <tr>\n",
              "      <th>2</th>\n",
              "      <td>28.03</td>\n",
              "      <td>28.05</td>\n",
              "      <td>0.0</td>\n",
              "      <td>5.96</td>\n",
              "    </tr>\n",
              "    <tr>\n",
              "      <th>3</th>\n",
              "      <td>28.06</td>\n",
              "      <td>28.2</td>\n",
              "      <td>5.96</td>\n",
              "      <td>0.0</td>\n",
              "    </tr>\n",
              "  </tbody>\n",
              "</table>\n",
              "</div>\n",
              "      <button class=\"colab-df-convert\" onclick=\"convertToInteractive('df-217fb5c3-6e04-4acf-bd48-70331a16e024')\"\n",
              "              title=\"Convert this dataframe to an interactive table.\"\n",
              "              style=\"display:none;\">\n",
              "        \n",
              "  <svg xmlns=\"http://www.w3.org/2000/svg\" height=\"24px\"viewBox=\"0 0 24 24\"\n",
              "       width=\"24px\">\n",
              "    <path d=\"M0 0h24v24H0V0z\" fill=\"none\"/>\n",
              "    <path d=\"M18.56 5.44l.94 2.06.94-2.06 2.06-.94-2.06-.94-.94-2.06-.94 2.06-2.06.94zm-11 1L8.5 8.5l.94-2.06 2.06-.94-2.06-.94L8.5 2.5l-.94 2.06-2.06.94zm10 10l.94 2.06.94-2.06 2.06-.94-2.06-.94-.94-2.06-.94 2.06-2.06.94z\"/><path d=\"M17.41 7.96l-1.37-1.37c-.4-.4-.92-.59-1.43-.59-.52 0-1.04.2-1.43.59L10.3 9.45l-7.72 7.72c-.78.78-.78 2.05 0 2.83L4 21.41c.39.39.9.59 1.41.59.51 0 1.02-.2 1.41-.59l7.78-7.78 2.81-2.81c.8-.78.8-2.07 0-2.86zM5.41 20L4 18.59l7.72-7.72 1.47 1.35L5.41 20z\"/>\n",
              "  </svg>\n",
              "      </button>\n",
              "      \n",
              "  <style>\n",
              "    .colab-df-container {\n",
              "      display:flex;\n",
              "      flex-wrap:wrap;\n",
              "      gap: 12px;\n",
              "    }\n",
              "\n",
              "    .colab-df-convert {\n",
              "      background-color: #E8F0FE;\n",
              "      border: none;\n",
              "      border-radius: 50%;\n",
              "      cursor: pointer;\n",
              "      display: none;\n",
              "      fill: #1967D2;\n",
              "      height: 32px;\n",
              "      padding: 0 0 0 0;\n",
              "      width: 32px;\n",
              "    }\n",
              "\n",
              "    .colab-df-convert:hover {\n",
              "      background-color: #E2EBFA;\n",
              "      box-shadow: 0px 1px 2px rgba(60, 64, 67, 0.3), 0px 1px 3px 1px rgba(60, 64, 67, 0.15);\n",
              "      fill: #174EA6;\n",
              "    }\n",
              "\n",
              "    [theme=dark] .colab-df-convert {\n",
              "      background-color: #3B4455;\n",
              "      fill: #D2E3FC;\n",
              "    }\n",
              "\n",
              "    [theme=dark] .colab-df-convert:hover {\n",
              "      background-color: #434B5C;\n",
              "      box-shadow: 0px 1px 3px 1px rgba(0, 0, 0, 0.15);\n",
              "      filter: drop-shadow(0px 1px 2px rgba(0, 0, 0, 0.3));\n",
              "      fill: #FFFFFF;\n",
              "    }\n",
              "  </style>\n",
              "\n",
              "      <script>\n",
              "        const buttonEl =\n",
              "          document.querySelector('#df-217fb5c3-6e04-4acf-bd48-70331a16e024 button.colab-df-convert');\n",
              "        buttonEl.style.display =\n",
              "          google.colab.kernel.accessAllowed ? 'block' : 'none';\n",
              "\n",
              "        async function convertToInteractive(key) {\n",
              "          const element = document.querySelector('#df-217fb5c3-6e04-4acf-bd48-70331a16e024');\n",
              "          const dataTable =\n",
              "            await google.colab.kernel.invokeFunction('convertToInteractive',\n",
              "                                                     [key], {});\n",
              "          if (!dataTable) return;\n",
              "\n",
              "          const docLinkHtml = 'Like what you see? Visit the ' +\n",
              "            '<a target=\"_blank\" href=https://colab.research.google.com/notebooks/data_table.ipynb>data table notebook</a>'\n",
              "            + ' to learn more about interactive tables.';\n",
              "          element.innerHTML = '';\n",
              "          dataTable['output_type'] = 'display_data';\n",
              "          await google.colab.output.renderOutput(dataTable, element);\n",
              "          const docLink = document.createElement('div');\n",
              "          docLink.innerHTML = docLinkHtml;\n",
              "          element.appendChild(docLink);\n",
              "        }\n",
              "      </script>\n",
              "    </div>\n",
              "  </div>\n",
              "  "
            ]
          },
          "metadata": {},
          "execution_count": 131
        }
      ],
      "source": [
        "print(\"RMSE | Normalized\")\n",
        "final1 = RMSE(data4,label4,frame4,True)\n",
        "final1"
      ]
    },
    {
      "cell_type": "code",
      "execution_count": null,
      "metadata": {
        "colab": {
          "base_uri": "https://localhost:8080/",
          "height": 192
        },
        "id": "0QqIYeeF8GGy",
        "outputId": "e7eb7462-4de1-4a98-b93a-be176a560920"
      },
      "outputs": [
        {
          "output_type": "stream",
          "name": "stdout",
          "text": [
            "RMSE | Non-Normalized\n"
          ]
        },
        {
          "output_type": "execute_result",
          "data": {
            "text/plain": [
              "        0       1       2       3\n",
              "0     0.0    6.84   354.6  354.79\n",
              "1    6.84     0.0  354.79  354.79\n",
              "2   354.6  354.79     0.0  134.33\n",
              "3  354.79  354.79  134.33     0.0"
            ],
            "text/html": [
              "\n",
              "  <div id=\"df-38db5ddd-2944-402d-bf42-cd3c51278aba\">\n",
              "    <div class=\"colab-df-container\">\n",
              "      <div>\n",
              "<style scoped>\n",
              "    .dataframe tbody tr th:only-of-type {\n",
              "        vertical-align: middle;\n",
              "    }\n",
              "\n",
              "    .dataframe tbody tr th {\n",
              "        vertical-align: top;\n",
              "    }\n",
              "\n",
              "    .dataframe thead th {\n",
              "        text-align: right;\n",
              "    }\n",
              "</style>\n",
              "<table border=\"1\" class=\"dataframe\">\n",
              "  <thead>\n",
              "    <tr style=\"text-align: right;\">\n",
              "      <th></th>\n",
              "      <th>0</th>\n",
              "      <th>1</th>\n",
              "      <th>2</th>\n",
              "      <th>3</th>\n",
              "    </tr>\n",
              "  </thead>\n",
              "  <tbody>\n",
              "    <tr>\n",
              "      <th>0</th>\n",
              "      <td>0.0</td>\n",
              "      <td>6.84</td>\n",
              "      <td>354.6</td>\n",
              "      <td>354.79</td>\n",
              "    </tr>\n",
              "    <tr>\n",
              "      <th>1</th>\n",
              "      <td>6.84</td>\n",
              "      <td>0.0</td>\n",
              "      <td>354.79</td>\n",
              "      <td>354.79</td>\n",
              "    </tr>\n",
              "    <tr>\n",
              "      <th>2</th>\n",
              "      <td>354.6</td>\n",
              "      <td>354.79</td>\n",
              "      <td>0.0</td>\n",
              "      <td>134.33</td>\n",
              "    </tr>\n",
              "    <tr>\n",
              "      <th>3</th>\n",
              "      <td>354.79</td>\n",
              "      <td>354.79</td>\n",
              "      <td>134.33</td>\n",
              "      <td>0.0</td>\n",
              "    </tr>\n",
              "  </tbody>\n",
              "</table>\n",
              "</div>\n",
              "      <button class=\"colab-df-convert\" onclick=\"convertToInteractive('df-38db5ddd-2944-402d-bf42-cd3c51278aba')\"\n",
              "              title=\"Convert this dataframe to an interactive table.\"\n",
              "              style=\"display:none;\">\n",
              "        \n",
              "  <svg xmlns=\"http://www.w3.org/2000/svg\" height=\"24px\"viewBox=\"0 0 24 24\"\n",
              "       width=\"24px\">\n",
              "    <path d=\"M0 0h24v24H0V0z\" fill=\"none\"/>\n",
              "    <path d=\"M18.56 5.44l.94 2.06.94-2.06 2.06-.94-2.06-.94-.94-2.06-.94 2.06-2.06.94zm-11 1L8.5 8.5l.94-2.06 2.06-.94-2.06-.94L8.5 2.5l-.94 2.06-2.06.94zm10 10l.94 2.06.94-2.06 2.06-.94-2.06-.94-.94-2.06-.94 2.06-2.06.94z\"/><path d=\"M17.41 7.96l-1.37-1.37c-.4-.4-.92-.59-1.43-.59-.52 0-1.04.2-1.43.59L10.3 9.45l-7.72 7.72c-.78.78-.78 2.05 0 2.83L4 21.41c.39.39.9.59 1.41.59.51 0 1.02-.2 1.41-.59l7.78-7.78 2.81-2.81c.8-.78.8-2.07 0-2.86zM5.41 20L4 18.59l7.72-7.72 1.47 1.35L5.41 20z\"/>\n",
              "  </svg>\n",
              "      </button>\n",
              "      \n",
              "  <style>\n",
              "    .colab-df-container {\n",
              "      display:flex;\n",
              "      flex-wrap:wrap;\n",
              "      gap: 12px;\n",
              "    }\n",
              "\n",
              "    .colab-df-convert {\n",
              "      background-color: #E8F0FE;\n",
              "      border: none;\n",
              "      border-radius: 50%;\n",
              "      cursor: pointer;\n",
              "      display: none;\n",
              "      fill: #1967D2;\n",
              "      height: 32px;\n",
              "      padding: 0 0 0 0;\n",
              "      width: 32px;\n",
              "    }\n",
              "\n",
              "    .colab-df-convert:hover {\n",
              "      background-color: #E2EBFA;\n",
              "      box-shadow: 0px 1px 2px rgba(60, 64, 67, 0.3), 0px 1px 3px 1px rgba(60, 64, 67, 0.15);\n",
              "      fill: #174EA6;\n",
              "    }\n",
              "\n",
              "    [theme=dark] .colab-df-convert {\n",
              "      background-color: #3B4455;\n",
              "      fill: #D2E3FC;\n",
              "    }\n",
              "\n",
              "    [theme=dark] .colab-df-convert:hover {\n",
              "      background-color: #434B5C;\n",
              "      box-shadow: 0px 1px 3px 1px rgba(0, 0, 0, 0.15);\n",
              "      filter: drop-shadow(0px 1px 2px rgba(0, 0, 0, 0.3));\n",
              "      fill: #FFFFFF;\n",
              "    }\n",
              "  </style>\n",
              "\n",
              "      <script>\n",
              "        const buttonEl =\n",
              "          document.querySelector('#df-38db5ddd-2944-402d-bf42-cd3c51278aba button.colab-df-convert');\n",
              "        buttonEl.style.display =\n",
              "          google.colab.kernel.accessAllowed ? 'block' : 'none';\n",
              "\n",
              "        async function convertToInteractive(key) {\n",
              "          const element = document.querySelector('#df-38db5ddd-2944-402d-bf42-cd3c51278aba');\n",
              "          const dataTable =\n",
              "            await google.colab.kernel.invokeFunction('convertToInteractive',\n",
              "                                                     [key], {});\n",
              "          if (!dataTable) return;\n",
              "\n",
              "          const docLinkHtml = 'Like what you see? Visit the ' +\n",
              "            '<a target=\"_blank\" href=https://colab.research.google.com/notebooks/data_table.ipynb>data table notebook</a>'\n",
              "            + ' to learn more about interactive tables.';\n",
              "          element.innerHTML = '';\n",
              "          dataTable['output_type'] = 'display_data';\n",
              "          await google.colab.output.renderOutput(dataTable, element);\n",
              "          const docLink = document.createElement('div');\n",
              "          docLink.innerHTML = docLinkHtml;\n",
              "          element.appendChild(docLink);\n",
              "        }\n",
              "      </script>\n",
              "    </div>\n",
              "  </div>\n",
              "  "
            ]
          },
          "metadata": {},
          "execution_count": 132
        }
      ],
      "source": [
        "trans_data=frame4\n",
        "print(\"RMSE | Non-Normalized\")\n",
        "final1 = RMSE(data4,label4,frame4,False)\n",
        "final1\n"
      ]
    },
    {
      "cell_type": "code",
      "source": [
        "print(\"Spatial_Correlation | Normalized with Mock4.nc\")\n",
        "trans_data=frame4\n",
        "final4 = Spat_Corr(data4,label4,frame4,True)\n",
        "final4"
      ],
      "metadata": {
        "colab": {
          "base_uri": "https://localhost:8080/",
          "height": 192
        },
        "id": "Fqpq61WXkmRT",
        "outputId": "706bd309-cdd2-4b97-d1a3-89af8209b5bb"
      },
      "execution_count": null,
      "outputs": [
        {
          "output_type": "stream",
          "name": "stdout",
          "text": [
            "Spatial_Correlation | Normalized with Mock4.nc\n"
          ]
        },
        {
          "output_type": "execute_result",
          "data": {
            "text/plain": [
              "          0         1         2         3\n",
              "0       1.0 -0.326961 -0.326961 -0.326961\n",
              "1 -0.326961       1.0 -0.326961 -0.326961\n",
              "2 -0.326961 -0.326961       1.0 -0.326961\n",
              "3 -0.326961 -0.326961 -0.326961       1.0"
            ],
            "text/html": [
              "\n",
              "  <div id=\"df-c6a91558-b822-478d-b0a1-7ea0019d8a29\">\n",
              "    <div class=\"colab-df-container\">\n",
              "      <div>\n",
              "<style scoped>\n",
              "    .dataframe tbody tr th:only-of-type {\n",
              "        vertical-align: middle;\n",
              "    }\n",
              "\n",
              "    .dataframe tbody tr th {\n",
              "        vertical-align: top;\n",
              "    }\n",
              "\n",
              "    .dataframe thead th {\n",
              "        text-align: right;\n",
              "    }\n",
              "</style>\n",
              "<table border=\"1\" class=\"dataframe\">\n",
              "  <thead>\n",
              "    <tr style=\"text-align: right;\">\n",
              "      <th></th>\n",
              "      <th>0</th>\n",
              "      <th>1</th>\n",
              "      <th>2</th>\n",
              "      <th>3</th>\n",
              "    </tr>\n",
              "  </thead>\n",
              "  <tbody>\n",
              "    <tr>\n",
              "      <th>0</th>\n",
              "      <td>1.0</td>\n",
              "      <td>-0.326961</td>\n",
              "      <td>-0.326961</td>\n",
              "      <td>-0.326961</td>\n",
              "    </tr>\n",
              "    <tr>\n",
              "      <th>1</th>\n",
              "      <td>-0.326961</td>\n",
              "      <td>1.0</td>\n",
              "      <td>-0.326961</td>\n",
              "      <td>-0.326961</td>\n",
              "    </tr>\n",
              "    <tr>\n",
              "      <th>2</th>\n",
              "      <td>-0.326961</td>\n",
              "      <td>-0.326961</td>\n",
              "      <td>1.0</td>\n",
              "      <td>-0.326961</td>\n",
              "    </tr>\n",
              "    <tr>\n",
              "      <th>3</th>\n",
              "      <td>-0.326961</td>\n",
              "      <td>-0.326961</td>\n",
              "      <td>-0.326961</td>\n",
              "      <td>1.0</td>\n",
              "    </tr>\n",
              "  </tbody>\n",
              "</table>\n",
              "</div>\n",
              "      <button class=\"colab-df-convert\" onclick=\"convertToInteractive('df-c6a91558-b822-478d-b0a1-7ea0019d8a29')\"\n",
              "              title=\"Convert this dataframe to an interactive table.\"\n",
              "              style=\"display:none;\">\n",
              "        \n",
              "  <svg xmlns=\"http://www.w3.org/2000/svg\" height=\"24px\"viewBox=\"0 0 24 24\"\n",
              "       width=\"24px\">\n",
              "    <path d=\"M0 0h24v24H0V0z\" fill=\"none\"/>\n",
              "    <path d=\"M18.56 5.44l.94 2.06.94-2.06 2.06-.94-2.06-.94-.94-2.06-.94 2.06-2.06.94zm-11 1L8.5 8.5l.94-2.06 2.06-.94-2.06-.94L8.5 2.5l-.94 2.06-2.06.94zm10 10l.94 2.06.94-2.06 2.06-.94-2.06-.94-.94-2.06-.94 2.06-2.06.94z\"/><path d=\"M17.41 7.96l-1.37-1.37c-.4-.4-.92-.59-1.43-.59-.52 0-1.04.2-1.43.59L10.3 9.45l-7.72 7.72c-.78.78-.78 2.05 0 2.83L4 21.41c.39.39.9.59 1.41.59.51 0 1.02-.2 1.41-.59l7.78-7.78 2.81-2.81c.8-.78.8-2.07 0-2.86zM5.41 20L4 18.59l7.72-7.72 1.47 1.35L5.41 20z\"/>\n",
              "  </svg>\n",
              "      </button>\n",
              "      \n",
              "  <style>\n",
              "    .colab-df-container {\n",
              "      display:flex;\n",
              "      flex-wrap:wrap;\n",
              "      gap: 12px;\n",
              "    }\n",
              "\n",
              "    .colab-df-convert {\n",
              "      background-color: #E8F0FE;\n",
              "      border: none;\n",
              "      border-radius: 50%;\n",
              "      cursor: pointer;\n",
              "      display: none;\n",
              "      fill: #1967D2;\n",
              "      height: 32px;\n",
              "      padding: 0 0 0 0;\n",
              "      width: 32px;\n",
              "    }\n",
              "\n",
              "    .colab-df-convert:hover {\n",
              "      background-color: #E2EBFA;\n",
              "      box-shadow: 0px 1px 2px rgba(60, 64, 67, 0.3), 0px 1px 3px 1px rgba(60, 64, 67, 0.15);\n",
              "      fill: #174EA6;\n",
              "    }\n",
              "\n",
              "    [theme=dark] .colab-df-convert {\n",
              "      background-color: #3B4455;\n",
              "      fill: #D2E3FC;\n",
              "    }\n",
              "\n",
              "    [theme=dark] .colab-df-convert:hover {\n",
              "      background-color: #434B5C;\n",
              "      box-shadow: 0px 1px 3px 1px rgba(0, 0, 0, 0.15);\n",
              "      filter: drop-shadow(0px 1px 2px rgba(0, 0, 0, 0.3));\n",
              "      fill: #FFFFFF;\n",
              "    }\n",
              "  </style>\n",
              "\n",
              "      <script>\n",
              "        const buttonEl =\n",
              "          document.querySelector('#df-c6a91558-b822-478d-b0a1-7ea0019d8a29 button.colab-df-convert');\n",
              "        buttonEl.style.display =\n",
              "          google.colab.kernel.accessAllowed ? 'block' : 'none';\n",
              "\n",
              "        async function convertToInteractive(key) {\n",
              "          const element = document.querySelector('#df-c6a91558-b822-478d-b0a1-7ea0019d8a29');\n",
              "          const dataTable =\n",
              "            await google.colab.kernel.invokeFunction('convertToInteractive',\n",
              "                                                     [key], {});\n",
              "          if (!dataTable) return;\n",
              "\n",
              "          const docLinkHtml = 'Like what you see? Visit the ' +\n",
              "            '<a target=\"_blank\" href=https://colab.research.google.com/notebooks/data_table.ipynb>data table notebook</a>'\n",
              "            + ' to learn more about interactive tables.';\n",
              "          element.innerHTML = '';\n",
              "          dataTable['output_type'] = 'display_data';\n",
              "          await google.colab.output.renderOutput(dataTable, element);\n",
              "          const docLink = document.createElement('div');\n",
              "          docLink.innerHTML = docLinkHtml;\n",
              "          element.appendChild(docLink);\n",
              "        }\n",
              "      </script>\n",
              "    </div>\n",
              "  </div>\n",
              "  "
            ]
          },
          "metadata": {},
          "execution_count": 133
        }
      ]
    },
    {
      "cell_type": "code",
      "source": [
        "print(\"Spatial_Correlation |  Non-Normalized with Mockv4.nc\")\n",
        "trans_data=frame4\n",
        "final4 = Spat_Corr(data4,label4,frame4,False)\n",
        "final4"
      ],
      "metadata": {
        "colab": {
          "base_uri": "https://localhost:8080/",
          "height": 192
        },
        "id": "334q5ifTg6HU",
        "outputId": "25bd9121-3784-48ee-f2a9-14eb2854a01f"
      },
      "execution_count": null,
      "outputs": [
        {
          "output_type": "stream",
          "name": "stdout",
          "text": [
            "Spatial_Correlation |  Non-Normalized with Mockv4.nc\n"
          ]
        },
        {
          "output_type": "execute_result",
          "data": {
            "text/plain": [
              "          0         1         2         3\n",
              "0       1.0 -0.292527 -0.292527 -0.292527\n",
              "1 -0.292527       1.0 -0.292527 -0.292527\n",
              "2 -0.292527 -0.292527       1.0 -0.292527\n",
              "3 -0.292527 -0.292527 -0.292527       1.0"
            ],
            "text/html": [
              "\n",
              "  <div id=\"df-dfa71f1e-51e3-4067-826b-9885dbd024eb\">\n",
              "    <div class=\"colab-df-container\">\n",
              "      <div>\n",
              "<style scoped>\n",
              "    .dataframe tbody tr th:only-of-type {\n",
              "        vertical-align: middle;\n",
              "    }\n",
              "\n",
              "    .dataframe tbody tr th {\n",
              "        vertical-align: top;\n",
              "    }\n",
              "\n",
              "    .dataframe thead th {\n",
              "        text-align: right;\n",
              "    }\n",
              "</style>\n",
              "<table border=\"1\" class=\"dataframe\">\n",
              "  <thead>\n",
              "    <tr style=\"text-align: right;\">\n",
              "      <th></th>\n",
              "      <th>0</th>\n",
              "      <th>1</th>\n",
              "      <th>2</th>\n",
              "      <th>3</th>\n",
              "    </tr>\n",
              "  </thead>\n",
              "  <tbody>\n",
              "    <tr>\n",
              "      <th>0</th>\n",
              "      <td>1.0</td>\n",
              "      <td>-0.292527</td>\n",
              "      <td>-0.292527</td>\n",
              "      <td>-0.292527</td>\n",
              "    </tr>\n",
              "    <tr>\n",
              "      <th>1</th>\n",
              "      <td>-0.292527</td>\n",
              "      <td>1.0</td>\n",
              "      <td>-0.292527</td>\n",
              "      <td>-0.292527</td>\n",
              "    </tr>\n",
              "    <tr>\n",
              "      <th>2</th>\n",
              "      <td>-0.292527</td>\n",
              "      <td>-0.292527</td>\n",
              "      <td>1.0</td>\n",
              "      <td>-0.292527</td>\n",
              "    </tr>\n",
              "    <tr>\n",
              "      <th>3</th>\n",
              "      <td>-0.292527</td>\n",
              "      <td>-0.292527</td>\n",
              "      <td>-0.292527</td>\n",
              "      <td>1.0</td>\n",
              "    </tr>\n",
              "  </tbody>\n",
              "</table>\n",
              "</div>\n",
              "      <button class=\"colab-df-convert\" onclick=\"convertToInteractive('df-dfa71f1e-51e3-4067-826b-9885dbd024eb')\"\n",
              "              title=\"Convert this dataframe to an interactive table.\"\n",
              "              style=\"display:none;\">\n",
              "        \n",
              "  <svg xmlns=\"http://www.w3.org/2000/svg\" height=\"24px\"viewBox=\"0 0 24 24\"\n",
              "       width=\"24px\">\n",
              "    <path d=\"M0 0h24v24H0V0z\" fill=\"none\"/>\n",
              "    <path d=\"M18.56 5.44l.94 2.06.94-2.06 2.06-.94-2.06-.94-.94-2.06-.94 2.06-2.06.94zm-11 1L8.5 8.5l.94-2.06 2.06-.94-2.06-.94L8.5 2.5l-.94 2.06-2.06.94zm10 10l.94 2.06.94-2.06 2.06-.94-2.06-.94-.94-2.06-.94 2.06-2.06.94z\"/><path d=\"M17.41 7.96l-1.37-1.37c-.4-.4-.92-.59-1.43-.59-.52 0-1.04.2-1.43.59L10.3 9.45l-7.72 7.72c-.78.78-.78 2.05 0 2.83L4 21.41c.39.39.9.59 1.41.59.51 0 1.02-.2 1.41-.59l7.78-7.78 2.81-2.81c.8-.78.8-2.07 0-2.86zM5.41 20L4 18.59l7.72-7.72 1.47 1.35L5.41 20z\"/>\n",
              "  </svg>\n",
              "      </button>\n",
              "      \n",
              "  <style>\n",
              "    .colab-df-container {\n",
              "      display:flex;\n",
              "      flex-wrap:wrap;\n",
              "      gap: 12px;\n",
              "    }\n",
              "\n",
              "    .colab-df-convert {\n",
              "      background-color: #E8F0FE;\n",
              "      border: none;\n",
              "      border-radius: 50%;\n",
              "      cursor: pointer;\n",
              "      display: none;\n",
              "      fill: #1967D2;\n",
              "      height: 32px;\n",
              "      padding: 0 0 0 0;\n",
              "      width: 32px;\n",
              "    }\n",
              "\n",
              "    .colab-df-convert:hover {\n",
              "      background-color: #E2EBFA;\n",
              "      box-shadow: 0px 1px 2px rgba(60, 64, 67, 0.3), 0px 1px 3px 1px rgba(60, 64, 67, 0.15);\n",
              "      fill: #174EA6;\n",
              "    }\n",
              "\n",
              "    [theme=dark] .colab-df-convert {\n",
              "      background-color: #3B4455;\n",
              "      fill: #D2E3FC;\n",
              "    }\n",
              "\n",
              "    [theme=dark] .colab-df-convert:hover {\n",
              "      background-color: #434B5C;\n",
              "      box-shadow: 0px 1px 3px 1px rgba(0, 0, 0, 0.15);\n",
              "      filter: drop-shadow(0px 1px 2px rgba(0, 0, 0, 0.3));\n",
              "      fill: #FFFFFF;\n",
              "    }\n",
              "  </style>\n",
              "\n",
              "      <script>\n",
              "        const buttonEl =\n",
              "          document.querySelector('#df-dfa71f1e-51e3-4067-826b-9885dbd024eb button.colab-df-convert');\n",
              "        buttonEl.style.display =\n",
              "          google.colab.kernel.accessAllowed ? 'block' : 'none';\n",
              "\n",
              "        async function convertToInteractive(key) {\n",
              "          const element = document.querySelector('#df-dfa71f1e-51e3-4067-826b-9885dbd024eb');\n",
              "          const dataTable =\n",
              "            await google.colab.kernel.invokeFunction('convertToInteractive',\n",
              "                                                     [key], {});\n",
              "          if (!dataTable) return;\n",
              "\n",
              "          const docLinkHtml = 'Like what you see? Visit the ' +\n",
              "            '<a target=\"_blank\" href=https://colab.research.google.com/notebooks/data_table.ipynb>data table notebook</a>'\n",
              "            + ' to learn more about interactive tables.';\n",
              "          element.innerHTML = '';\n",
              "          dataTable['output_type'] = 'display_data';\n",
              "          await google.colab.output.renderOutput(dataTable, element);\n",
              "          const docLink = document.createElement('div');\n",
              "          docLink.innerHTML = docLinkHtml;\n",
              "          element.appendChild(docLink);\n",
              "        }\n",
              "      </script>\n",
              "    </div>\n",
              "  </div>\n",
              "  "
            ]
          },
          "metadata": {},
          "execution_count": 134
        }
      ]
    },
    {
      "cell_type": "markdown",
      "metadata": {
        "id": "59mSBwKeAGMm"
      },
      "source": [
        "#Real-World DATA"
      ]
    },
    {
      "cell_type": "markdown",
      "metadata": {
        "id": "c4dpd6wbBLOd"
      },
      "source": [
        "Figuring the parameters of dbscan is a bit difficult for real- world Data. So there are various ways I tried to figure out .\n",
        "\n",
        "First way and the recommended way of finding the Optimal value of Epsilon is the elbow point detection method to arrive at a suitable value of epsilon."
      ]
    },
    {
      "cell_type": "markdown",
      "metadata": {
        "id": "oILGOAVWDInY"
      },
      "source": [
        "#Elbow-Point Detection Method with Multivariate Daily-Real-World Data \n",
        "\n",
        "In this method, the average distance between each point and its k closest neighbors—k being the MinPts that we chose—is calculated. We then create a k-distance graph and plot the average k-distances in ascending order.\n",
        "\n",
        "The point with the greatest bend or curvature, or the steepest slope, is where epsilon should be set to its ideal value."
      ]
    },
    {
      "cell_type": "markdown",
      "source": [
        "Below is a function for finding the knee point"
      ],
      "metadata": {
        "id": "3n8ZYItFjzeU"
      }
    },
    {
      "cell_type": "code",
      "execution_count": null,
      "metadata": {
        "id": "wurubuf-bJfp"
      },
      "outputs": [],
      "source": [
        "def nearest(x):\n",
        "    neighbors = NearestNeighbors(n_neighbors=5)\n",
        "    neighbors_fit = neighbors.fit(x)\n",
        "    distances, indices = neighbors_fit.kneighbors(x)\n",
        "    distances = np.sort(distances[:,4], axis=0)\n",
        "    #plt.plot(distances)\n",
        "    return distances"
      ]
    },
    {
      "cell_type": "code",
      "execution_count": null,
      "metadata": {
        "id": "lGJxT001X4Dz"
      },
      "outputs": [],
      "source": [
        "def kneenearest(data):\n",
        "    i = np.arange(len(nearest(data)))\n",
        "    knee = KneeLocator(i, nearest(data), S=1, curve='convex', direction='increasing', interp_method='polynomial')\n",
        "    fig = plt.figure(figsize=(5, 5))\n",
        "    knee.plot_knee()\n",
        "    plt.xlabel(\"Points\")\n",
        "    plt.ylabel(\"K-NN Distance\")\n",
        "    print(nearest(data)[knee.knee])\n",
        "    return "
      ]
    },
    {
      "cell_type": "code",
      "source": [
        "kneenearest(datat5)"
      ],
      "metadata": {
        "colab": {
          "base_uri": "https://localhost:8080/",
          "height": 439
        },
        "id": "6YMSJN5Djuwh",
        "outputId": "d24b6a55-4099-4f63-8b59-e6342094b74e"
      },
      "execution_count": null,
      "outputs": [
        {
          "output_type": "stream",
          "name": "stdout",
          "text": [
            "77.43643036290842\n"
          ]
        },
        {
          "output_type": "display_data",
          "data": {
            "text/plain": [
              "<Figure size 360x360 with 0 Axes>"
            ]
          },
          "metadata": {}
        },
        {
          "output_type": "display_data",
          "data": {
            "text/plain": [
              "<Figure size 432x432 with 1 Axes>"
            ],
            "image/png": "[encoded data removed]"
          },
          "metadata": {
            "needs_background": "light"
          }
        }
      ]
    },
    {
      "cell_type": "markdown",
      "metadata": {
        "id": "D1XdeUuNZ_wJ"
      },
      "source": [
        "Visually locating the maximum curvature can be challenging. Therefore, the knee or elbow point can be found using the kneed Python package. 'pip install kneed' can be used to install this.\n",
        "The elbow point is now visible using the package below, and we will use this value of epsilon as it is the best one. This value is 77.43643036290842."
      ]
    },
    {
      "cell_type": "code",
      "execution_count": null,
      "metadata": {
        "colab": {
          "base_uri": "https://localhost:8080/",
          "height": 313
        },
        "id": "BVTTVBfr2t-Z",
        "outputId": "97944555-ebe1-4acf-df95-dd6d54a6e278"
      },
      "outputs": [
        {
          "output_type": "stream",
          "name": "stdout",
          "text": [
            "Optimal number of min_samples based on silhouette score: [5]\n"
          ]
        },
        {
          "output_type": "display_data",
          "data": {
            "text/plain": [
              "<Figure size 432x288 with 1 Axes>"
            ],
            "image/png": "[encoded data removed]"
          },
          "metadata": {
            "needs_background": "light"
          }
        }
      ],
      "source": [
        "# Silhouette Score for DBSCAN\n",
        "\n",
        "def get_dbscan_score(data, center):\n",
        "    ''' \n",
        "    INPUT:\n",
        "        data - the dataset you want to fit kmeans to\n",
        "        center - the number of centers you want (the k value)\n",
        "    OUTPUT:\n",
        "        score - the Silhouette Score for DBSCAN\n",
        "    '''\n",
        "    #instantiate kmeans\n",
        "    dbscan = DBSCAN(eps=76, min_samples=center)\n",
        "\n",
        "    # Then fit the model to your data using the fit method\n",
        "    model = dbscan.fit(datat5)\n",
        "    \n",
        "    # Calculate Silhoutte Score\n",
        "\n",
        "    score = silhouette_score(datat5, model.labels_, metric='euclidean')\n",
        "    \n",
        "    return score\n",
        "\n",
        "scores = []\n",
        "centers = list(range(2,50)) #min_samples will be checked from range  2 - 50\n",
        "\n",
        "for center in centers:\n",
        "    scores.append(get_dbscan_score(datat5, center))\n",
        "    \n",
        "plt.plot(centers, scores, linestyle='--', marker='o', color='b');\n",
        "plt.xlabel('min_samples');\n",
        "plt.ylabel('Silhouette Score');\n",
        "plt.title('Silhouette Score vs. min_samples');\n",
        "\n",
        "df3 = pd.DataFrame(centers,columns=['min_samples'])\n",
        "df3['scores'] = scores\n",
        "df4 = df3[df3.scores == df3.scores.max()]\n",
        "print('Optimal number of min_samples based on silhouette score:', df4['min_samples'].tolist())"
      ]
    },
    {
      "cell_type": "code",
      "execution_count": 34,
      "metadata": {
        "id": "wrtsSvBrZ_Vv"
      },
      "outputs": [],
      "source": [
        "def dbscanner(data,eps,min_sam):\n",
        "    dbscan_cluster = DBSCAN(eps=eps, min_samples=min_sam)\n",
        "    db = dbscan_cluster.fit(data)\n",
        "    core_samples_mask = np.zeros_like(db.labels_, dtype=bool)\n",
        "    core_samples_mask[db.core_sample_indices_] = True\n",
        "    labels = db.labels_\n",
        "    # Number of clusters in labels, ignoring noise if present.\n",
        "    n_clusters_ = len(set(labels)) - (1 if -1 in labels else 0)\n",
        "    n_noise_ = list(labels).count(-1)\n",
        "    frame = pd.DataFrame(data)\n",
        "    frame['Cluster'] = labels\n",
        "    frame['Cluster'].value_counts()\n",
        "    print(\"Estimated number of clusters: %d\" % n_clusters_)\n",
        "    print(frame['Cluster'].value_counts())\n",
        "    print(\"Estimated number of noise points: %d\" % n_noise_)\n",
        "    print(\"Silhouette Coefficient: %0.3f\" % silhouette_score(data, labels))\n",
        "    return"
      ]
    },
    {
      "cell_type": "code",
      "source": [
        "dbscanner(datat5,76,5)"
      ],
      "metadata": {
        "id": "NPYRdoc3u-W2",
        "colab": {
          "base_uri": "https://localhost:8080/"
        },
        "outputId": "497c95ea-4cc8-4a41-9308-a8df08a4a96d"
      },
      "execution_count": 40,
      "outputs": [
        {
          "output_type": "stream",
          "name": "stdout",
          "text": [
            "Estimated number of clusters: 1\n",
            " 0    328\n",
            "-1     37\n",
            "Name: Cluster, dtype: int64\n",
            "Estimated number of noise points: 37\n",
            "Silhouette Coefficient: 0.330\n"
          ]
        }
      ]
    },
    {
      "cell_type": "code",
      "execution_count": null,
      "metadata": {
        "colab": {
          "base_uri": "https://localhost:8080/",
          "height": 313
        },
        "id": "Q0KszCX8FG1v",
        "outputId": "e41a6283-fa51-4076-ea1a-a76f7eac59be"
      },
      "outputs": [
        {
          "name": "stdout",
          "output_type": "stream",
          "text": [
            "Optimal number of min_sample based on Calinski Harabasz score: [28, 29]\n"
          ]
        },
        {
          "data": {
            "image/png": "[encoded data removed]",
            "text/plain": [
              "<Figure size 432x288 with 1 Axes>"
            ]
          },
          "metadata": {},
          "output_type": "display_data"
        }
      ],
      "source": [
        "# Calinski Harabasz for DBSCAN\n",
        "\n",
        "from sklearn.metrics import calinski_harabasz_score  \n",
        "def get_dbscan_score(data, center):\n",
        "    ''' \n",
        "    INPUT:\n",
        "        data - the dataset you want to fit dbscan to\n",
        "        center - the number of centers you want (the k value)\n",
        "    OUTPUT:\n",
        "        score - the Calinski Harabasz score for the dbscan model fit to the data\n",
        "    '''\n",
        "    #instantiate dbscan\n",
        "    dbscan = DBSCAN(eps= 76, min_samples=center)\n",
        "\n",
        "    # Then fit the model to your data using the fit method\n",
        "    model = dbscan.fit(datat5)\n",
        "    \n",
        "    # Calculate Silhoutte Score\n",
        "\n",
        "    score = calinski_harabasz_score(datat5, dbscan.labels_)\n",
        "    \n",
        "    return score\n",
        "\n",
        "scores = []\n",
        "centers = list(range(2,30))\n",
        "\n",
        "for center in centers:\n",
        "    scores.append(get_dbscan_score(datat5, center))\n",
        "    \n",
        "plt.plot(centers, scores, linestyle='--', marker='o', color='b');\n",
        "plt.xlabel('min_sample');\n",
        "plt.ylabel('Calinski Harabasz');\n",
        "plt.title('Calinski Harabasz vs. min_sample');\n",
        "\n",
        "df3 = pd.DataFrame(centers,columns=['min_sample'])\n",
        "df3['scores'] = scores\n",
        "df4 = df3[df3.scores == df3.scores.max()]\n",
        "print('Optimal number of min_sample based on Calinski Harabasz score:', df4['min_sample'].tolist())"
      ]
    },
    {
      "cell_type": "code",
      "source": [
        "dbscanner(datat5,76,29)"
      ],
      "metadata": {
        "colab": {
          "base_uri": "https://localhost:8080/"
        },
        "id": "oAwjNbcToXmO",
        "outputId": "12b630c6-9c9b-4930-cdbb-b6dc0e53fc40"
      },
      "execution_count": null,
      "outputs": [
        {
          "output_type": "stream",
          "name": "stdout",
          "text": [
            "Estimated number of clusters: 1\n",
            " 0    272\n",
            "-1     93\n",
            "Name: Cluster, dtype: int64\n",
            "Estimated number of noise points: 93\n",
            "Silhouette Coefficient: 0.236\n"
          ]
        }
      ]
    },
    {
      "cell_type": "code",
      "execution_count": null,
      "metadata": {
        "colab": {
          "base_uri": "https://localhost:8080/",
          "height": 313
        },
        "id": "-D7ZmscYFzsg",
        "outputId": "f8a906c6-5b4d-4aa6-b0a7-2d3456082c70"
      },
      "outputs": [
        {
          "name": "stdout",
          "output_type": "stream",
          "text": [
            "Optimal number of min_samples based on DB score: [2]\n"
          ]
        },
        {
          "data": {
            "image/png": "[encoded data removed]",
            "text/plain": [
              "<Figure size 432x288 with 1 Axes>"
            ]
          },
          "metadata": {},
          "output_type": "display_data"
        }
      ],
      "source": [
        "# Davies Bouldin score for DBSCAN\n",
        "\n",
        "from sklearn.metrics import davies_bouldin_score \n",
        "\n",
        "def get_dbscan_score(data, center):\n",
        "    '''\n",
        "    returns the dbscan score regarding Davies Bouldin for points to centers\n",
        "    INPUT:\n",
        "        data - the dataset you want to fit dbscan to\n",
        "        center - the number of centers you want (the k value)\n",
        "    OUTPUT:\n",
        "        score - the Davies Bouldin score for the dbscan model fit to the data\n",
        "    '''\n",
        "    #instantiate dbscan\n",
        "    dbscan = DBSCAN(eps= 76, min_samples=center)\n",
        "\n",
        "    # Then fit the model to your data using the fit method\n",
        "    model = dbscan.fit_predict(datat5)\n",
        "    \n",
        "    # Calculate Silhoutte Score\n",
        "\n",
        "    score = davies_bouldin_score(datat5, model)\n",
        "    \n",
        "    return score\n",
        "\n",
        "scores = []\n",
        "centers = list(range(2,30))\n",
        "\n",
        "for center in centers:\n",
        "    scores.append(get_dbscan_score(datat5, center))\n",
        "    \n",
        "plt.plot(centers, scores, linestyle='--', marker='o', color='b');\n",
        "plt.xlabel('min_samples');\n",
        "plt.ylabel('Davies Bouldin score');\n",
        "plt.title('Davies Bouldin score vs. min_samples');\n",
        "\n",
        "\n",
        "df3 = pd.DataFrame(centers,columns=['min_samples'])\n",
        "df3['scores'] = scores\n",
        "df4 = df3[df3.scores == df3.scores.min()]\n",
        "print('Optimal number of min_samples based on DB score:', df4['min_samples'].tolist())"
      ]
    },
    {
      "cell_type": "code",
      "source": [
        "dbscanner(datat5,76,2)"
      ],
      "metadata": {
        "colab": {
          "base_uri": "https://localhost:8080/"
        },
        "id": "gbFAal5yokYp",
        "outputId": "b93fd740-4df9-4e36-961d-c0b0bd22eed9"
      },
      "execution_count": null,
      "outputs": [
        {
          "output_type": "stream",
          "name": "stdout",
          "text": [
            "Estimated number of clusters: 4\n",
            " 0    335\n",
            "-1     22\n",
            " 1      4\n",
            " 2      2\n",
            " 3      2\n",
            "Name: Cluster, dtype: int64\n",
            "Estimated number of noise points: 22\n",
            "Silhouette Coefficient: 0.169\n"
          ]
        }
      ]
    },
    {
      "cell_type": "markdown",
      "metadata": {
        "id": "1a-m5gVXWTOf"
      },
      "source": [
        "#Real-World Data Hourly"
      ]
    },
    {
      "cell_type": "markdown",
      "metadata": {
        "id": "jmKbuD0Kn6qF"
      },
      "source": [
        "#Elbow-Point Detection Method with Multivariate Hourly-Real-World Data"
      ]
    },
    {
      "cell_type": "code",
      "execution_count": null,
      "metadata": {
        "colab": {
          "base_uri": "https://localhost:8080/",
          "height": 439
        },
        "id": "ldcFmoJXe24T",
        "outputId": "e0b6881d-ce69-412b-9d5d-b856a7b95432"
      },
      "outputs": [
        {
          "output_type": "stream",
          "name": "stdout",
          "text": [
            "26.735690964419295\n"
          ]
        },
        {
          "output_type": "display_data",
          "data": {
            "text/plain": [
              "<Figure size 360x360 with 0 Axes>"
            ]
          },
          "metadata": {}
        },
        {
          "output_type": "display_data",
          "data": {
            "text/plain": [
              "<Figure size 432x432 with 1 Axes>"
            ],
            "image/png": "[encoded data removed]"
          },
          "metadata": {
            "needs_background": "light"
          }
        }
      ],
      "source": [
        "kneenearest(datat6_scaled)"
      ]
    },
    {
      "cell_type": "code",
      "execution_count": null,
      "metadata": {
        "id": "TVYaRWWYTN7r"
      },
      "outputs": [],
      "source": [
        "min_samples = 4  #range(1,20)\n",
        "\n",
        "#eps = np.arange(0.05,0.13, 0.01) # returns array of ranging from 0.05 to 0.13 with step of 0.01\n",
        "eps = range(10,20)"
      ]
    },
    {
      "cell_type": "code",
      "execution_count": null,
      "metadata": {
        "colab": {
          "base_uri": "https://localhost:8080/"
        },
        "id": "ayFa63STTO9g",
        "outputId": "d24dbfba-ab0e-4786-94b8-a1c640a431a7"
      },
      "outputs": [
        {
          "output_type": "stream",
          "name": "stdout",
          "text": [
            "*******\n",
            "Score:\n",
            "-0.8487035816817023\n",
            "4\n",
            "*******\n",
            "Score:\n",
            "-0.601114341061828\n",
            "5\n",
            "*******\n",
            "Score:\n",
            "-0.3590762915021501\n",
            "6\n",
            "*******\n",
            "Score:\n",
            "-0.20367547337485406\n",
            "7\n",
            "*******\n",
            "Score:\n",
            "-0.09178262487501729\n",
            "8\n",
            "*******\n",
            "Score:\n",
            "-0.025624901414674488\n",
            "9\n",
            "*******\n",
            "Score:\n",
            "0.05261578830645636\n",
            "10\n",
            "*******\n",
            "Score:\n",
            "0.051159338789045966\n",
            "11\n",
            "*******\n",
            "Score:\n",
            "0.09568168040049707\n",
            "12\n",
            "*******\n",
            "Score:\n",
            "0.11150491492386304\n",
            "13\n",
            "*******\n",
            "Score:\n",
            "0.1404794809545786\n",
            "14\n",
            "*******\n",
            "Score:\n",
            "0.1694221542509476\n",
            "15\n",
            "*******\n",
            "Score:\n",
            "0.1507951690223019\n",
            "16\n",
            "*******\n",
            "Score:\n",
            "0.08044282980060352\n",
            "17\n",
            "*******\n",
            "Score:\n",
            "0.13184233955306077\n",
            "18\n",
            "*******\n",
            "Score:\n",
            "0.12728373960354344\n",
            "19\n"
          ]
        }
      ],
      "source": [
        "from sklearn.metrics import silhouette_score\n",
        "\n",
        "output = []\n",
        "\n",
        "#for ms in min_samples:\n",
        "for ep in eps:\n",
        "        labels = DBSCAN(min_samples=4, eps=ep).fit(datat7).labels_\n",
        "        score = silhouette_score(datat7, labels)\n",
        "        output.append(( eps))\n",
        "        print('*******')\n",
        "        print(\"Score:\")\n",
        "        print(score)\n",
        "        print(ep)\n",
        "        #print(np.unique(labels))\n",
        "        #print(labels)"
      ]
    },
    {
      "cell_type": "code",
      "execution_count": null,
      "metadata": {
        "colab": {
          "base_uri": "https://localhost:8080/",
          "height": 313
        },
        "id": "Yx2FNOw-7g3d",
        "outputId": "b32b26a7-f36e-4e95-bd5f-55e5f7134718"
      },
      "outputs": [
        {
          "name": "stdout",
          "output_type": "stream",
          "text": [
            "Optimal number of min_sample based on Calinski Harabasz score: [4]\n"
          ]
        },
        {
          "data": {
            "image/png": "[encoded data removed]",
            "text/plain": [
              "<Figure size 432x288 with 1 Axes>"
            ]
          },
          "metadata": {},
          "output_type": "display_data"
        }
      ],
      "source": [
        "# Calinski Harabasz for DBSCAN\n",
        "\n",
        "from sklearn.metrics import calinski_harabasz_score  \n",
        "\n",
        "def get_dbscan_score(data, center):\n",
        "    '''\n",
        "    \n",
        "    INPUT:\n",
        "        data - the dataset you want to fit dbscan to\n",
        "        center - the number of centers you want (the k value)\n",
        "    OUTPUT:\n",
        "        score - the Calinski Harabasz score for the dbscan model fit to the data\n",
        "    '''\n",
        "    #instantiate dbscan\n",
        "    dbscan = DBSCAN(eps= 27, min_samples=center)\n",
        "\n",
        "    # Then fit the model to your data using the fit method\n",
        "    model = dbscan.fit(datat6_scaled)\n",
        "    \n",
        "    # Calculate Silhoutte Score\n",
        "\n",
        "    score = calinski_harabasz_score(datat6_scaled, dbscan.labels_)\n",
        "    \n",
        "    return score\n",
        "\n",
        "scores = []\n",
        "centers = list(range(2,10))\n",
        "\n",
        "for center in centers:\n",
        "    scores.append(get_dbscan_score(datat6_scaled, center))\n",
        "    \n",
        "plt.plot(centers, scores, linestyle='--', marker='o', color='b');\n",
        "plt.xlabel('min_sample');\n",
        "plt.ylabel('Calinski Harabasz');\n",
        "plt.title('Calinski Harabasz vs. min_sample');\n",
        "\n",
        "df3 = pd.DataFrame(centers,columns=['min_sample'])\n",
        "df3['scores'] = scores\n",
        "df4 = df3[df3.scores == df3.scores.max()]\n",
        "print('Optimal number of min_sample based on Calinski Harabasz score:', df4['min_sample'].tolist())"
      ]
    },
    {
      "cell_type": "code",
      "source": [
        "dbscanner(datat6_scaled,27,4)"
      ],
      "metadata": {
        "colab": {
          "base_uri": "https://localhost:8080/"
        },
        "id": "QMIQGgMUL31F",
        "outputId": "ddf83987-b9bd-4e5c-b803-ca017da5f027"
      },
      "execution_count": null,
      "outputs": [
        {
          "output_type": "stream",
          "name": "stdout",
          "text": [
            "Estimated number of clusters: 60\n",
            " 41    2169\n",
            "-1      900\n",
            " 35     773\n",
            " 43     529\n",
            " 44     436\n",
            "       ... \n",
            " 36       6\n",
            " 24       6\n",
            " 51       5\n",
            " 20       5\n",
            " 21       5\n",
            "Name: Cluster, Length: 61, dtype: int64\n",
            "Estimated number of noise points: 900\n",
            "Silhouette Coefficient: -0.060\n"
          ]
        }
      ]
    },
    {
      "cell_type": "markdown",
      "source": [
        "#Conclusion of Hourly and Daily Data "
      ],
      "metadata": {
        "id": "J_7UIIvBhwNy"
      }
    },
    {
      "cell_type": "markdown",
      "source": [
        "#**************Real-World Data with Quater Map************\n"
      ],
      "metadata": {
        "id": "-boofNGTkgfl"
      }
    },
    {
      "cell_type": "markdown",
      "source": [
        "Trying out the elbow knee method to figure out the eps and then trying out the for loop in range for figuring out the min_sample."
      ],
      "metadata": {
        "id": "YhPojT_lD9qb"
      }
    },
    {
      "cell_type": "code",
      "source": [
        "kneenearest(datat7)"
      ],
      "metadata": {
        "colab": {
          "base_uri": "https://localhost:8080/",
          "height": 439
        },
        "id": "xM31IS6kNE1K",
        "outputId": "bba6fd76-a542-4155-d838-f3268fbb58dc"
      },
      "execution_count": null,
      "outputs": [
        {
          "output_type": "stream",
          "name": "stdout",
          "text": [
            "14.249051832166948\n"
          ]
        },
        {
          "output_type": "display_data",
          "data": {
            "text/plain": [
              "<Figure size 360x360 with 0 Axes>"
            ]
          },
          "metadata": {}
        },
        {
          "output_type": "display_data",
          "data": {
            "text/plain": [
              "<Figure size 432x432 with 1 Axes>"
            ],
            "image/png": "[encoded data removed]"
          },
          "metadata": {
            "needs_background": "light"
          }
        }
      ]
    },
    {
      "cell_type": "code",
      "source": [
        "# Silhouette Score for DBSCAN\n",
        "\n",
        "def get_dbscan_score(data, center):\n",
        "    '''\n",
        "    \n",
        "    INPUT:\n",
        "        data - the dataset you want to fit kmeans to\n",
        "        center - the number of centers you want (the k value)\n",
        "    OUTPUT:\n",
        "        score - the Silhouette Score for DBSCAN\n",
        "    '''\n",
        "    #instantiate kmeans\n",
        "    dbscan = DBSCAN(eps=14, min_samples=center)\n",
        "\n",
        "    # Then fit the model to your data using the fit method\n",
        "    model = dbscan.fit(datat7)\n",
        "    \n",
        "    # Calculate Silhoutte Score\n",
        "\n",
        "    score = silhouette_score(datat7, model.labels_, metric='euclidean')\n",
        "    \n",
        "    return score\n",
        "\n",
        "scores = []\n",
        "centers = list(range(4,20))\n",
        "\n",
        "for center in centers:\n",
        "    scores.append(get_dbscan_score(datat7, center))\n",
        "    \n",
        "plt.plot(centers, scores, linestyle='--', marker='o', color='b');\n",
        "plt.xlabel('min_samples');\n",
        "plt.ylabel('Silhouette Score');\n",
        "plt.title('Silhouette Score vs. min_samples');\n",
        "\n",
        "df3 = pd.DataFrame(centers,columns=['min_samples'])\n",
        "df3['scores'] = scores\n",
        "df4 = df3[df3.scores == df3.scores.max()]\n",
        "print('Optimal number of min_samples based on silhouette score:', df4['min_samples'].tolist())"
      ],
      "metadata": {
        "colab": {
          "base_uri": "https://localhost:8080/",
          "height": 313
        },
        "id": "vhxAiDbPU11C",
        "outputId": "6be30617-feb4-43a7-b475-0aab6cdb70e4"
      },
      "execution_count": null,
      "outputs": [
        {
          "output_type": "stream",
          "name": "stdout",
          "text": [
            "Optimal number of min_samples based on silhouette score: [4]\n"
          ]
        },
        {
          "output_type": "display_data",
          "data": {
            "text/plain": [
              "<Figure size 432x288 with 1 Axes>"
            ],
            "image/png": "[encoded data removed]"
          },
          "metadata": {
            "needs_background": "light"
          }
        }
      ]
    },
    {
      "cell_type": "markdown",
      "source": [
        "Running the Dbscan on the above values"
      ],
      "metadata": {
        "id": "HsR6n_lxElos"
      }
    },
    {
      "cell_type": "code",
      "source": [
        "dbscanner(datat7,14,4)"
      ],
      "metadata": {
        "colab": {
          "base_uri": "https://localhost:8080/"
        },
        "id": "yCGI9ykpN5PW",
        "outputId": "adbab553-f02c-4bcf-d34c-9a10b191746a"
      },
      "execution_count": 39,
      "outputs": [
        {
          "output_type": "stream",
          "name": "stdout",
          "text": [
            "Estimated number of clusters: 89\n",
            " 56    1061\n",
            "-1      821\n",
            " 42     507\n",
            " 63     421\n",
            " 53     401\n",
            "       ... \n",
            " 30       5\n",
            " 37       5\n",
            " 69       5\n",
            " 81       4\n",
            " 27       4\n",
            "Name: Cluster, Length: 90, dtype: int64\n",
            "Estimated number of noise points: 821\n",
            "Silhouette Coefficient: 0.141\n"
          ]
        }
      ]
    },
    {
      "cell_type": "markdown",
      "source": [
        "Conclusion of above result is improper cluster formation, with 821 noise points."
      ],
      "metadata": {
        "id": "aIoJwxUaSAb7"
      }
    },
    {
      "cell_type": "markdown",
      "source": [
        "#Trial and error Method to figure out the parameters.\n",
        "I tried various different parameters and came up with this one with lowest clusters and less noise."
      ],
      "metadata": {
        "id": "6xwX00PHGk-4"
      }
    },
    {
      "cell_type": "code",
      "source": [
        "dbscanner(datat7,33,3)"
      ],
      "metadata": {
        "colab": {
          "base_uri": "https://localhost:8080/"
        },
        "id": "MHXoY5yvSBuB",
        "outputId": "70b25167-d66a-4c55-afcb-c0f7cbae90d9"
      },
      "execution_count": null,
      "outputs": [
        {
          "output_type": "stream",
          "name": "stdout",
          "text": [
            "Estimated number of clusters: 3\n",
            " 1    6575\n",
            " 2    1133\n",
            " 0    1049\n",
            "-1       3\n",
            "Name: Cluster, dtype: int64\n",
            "Estimated number of noise points: 3\n",
            "Silhouette Coefficient: 0.053\n"
          ]
        }
      ]
    },
    {
      "cell_type": "markdown",
      "source": [
        "#1 Variable Quater Map"
      ],
      "metadata": {
        "id": "xm7GtiaYXgbF"
      }
    },
    {
      "cell_type": "code",
      "source": [
        "t2mdata7= transformqm(data7)"
      ],
      "metadata": {
        "colab": {
          "base_uri": "https://localhost:8080/"
        },
        "id": "a7_R_qFUmwQu",
        "outputId": "4022f639-3ead-407f-899d-98250662fec0"
      },
      "execution_count": null,
      "outputs": [
        {
          "output_type": "stream",
          "name": "stderr",
          "text": [
            "/usr/local/lib/python3.7/dist-packages/pandas/core/indexing.py:1684: PerformanceWarning: DataFrame is highly fragmented.  This is usually the result of calling `frame.insert` many times, which has poor performance.  Consider joining all columns at once using pd.concat(axis=1) instead.  To get a de-fragmented frame, use `newframe = frame.copy()`\n",
            "  self.obj[key] = infer_fill_value(value)\n"
          ]
        }
      ]
    },
    {
      "cell_type": "code",
      "source": [
        "t2mdata7={}"
      ],
      "metadata": {
        "id": "C-2QGQ69ImMO"
      },
      "execution_count": 49,
      "outputs": []
    },
    {
      "cell_type": "code",
      "source": [
        "pd.DataFrame(t2mdata7).to_csv(\"t2mERA5_meteo_sfc_2021_hourly_smalldomain.csv\")"
      ],
      "metadata": {
        "id": "iZxXyBTLrx_o"
      },
      "execution_count": 50,
      "outputs": []
    },
    {
      "cell_type": "markdown",
      "source": [
        "Trying out the elbow knee method to figure out the eps and then trying out the for loop in range for figuring out the min_sample."
      ],
      "metadata": {
        "id": "iKYZiCW4HLLt"
      }
    },
    {
      "cell_type": "code",
      "source": [
        "kneenearest(t2mdata7)"
      ],
      "metadata": {
        "colab": {
          "base_uri": "https://localhost:8080/",
          "height": 439
        },
        "id": "cQDZI6ezevrw",
        "outputId": "78d38c18-4ad3-4b78-c81b-37b4e47459ae"
      },
      "execution_count": null,
      "outputs": [
        {
          "output_type": "stream",
          "name": "stdout",
          "text": [
            "2.6112319182915513\n"
          ]
        },
        {
          "output_type": "display_data",
          "data": {
            "text/plain": [
              "<Figure size 360x360 with 0 Axes>"
            ]
          },
          "metadata": {}
        },
        {
          "output_type": "display_data",
          "data": {
            "text/plain": [
              "<Figure size 432x432 with 1 Axes>"
            ],
            "image/png": "[encoded data removed]"
          },
          "metadata": {
            "needs_background": "light"
          }
        }
      ]
    },
    {
      "cell_type": "code",
      "source": [
        "# Silhouette Score for DBSCAN\n",
        "\n",
        "def get_dbscan_score(data, center):\n",
        "    '''\n",
        "    \n",
        "    INPUT:\n",
        "        data - the dataset you want to fit kmeans to\n",
        "        center - the number of centers you want (the k value)\n",
        "    OUTPUT:\n",
        "        score - the Silhouette Score for DBSCAN\n",
        "    '''\n",
        "    #instantiate kmeans\n",
        "    dbscan = DBSCAN(eps=2, min_samples=center)\n",
        "\n",
        "    # Then fit the model to your data using the fit method\n",
        "    model = dbscan.fit(t2mdata7)\n",
        "    \n",
        "    # Calculate Silhoutte Score\n",
        "\n",
        "    score = silhouette_score(t2mdata7, model.labels_, metric='euclidean')\n",
        "    \n",
        "    return score\n",
        "\n",
        "scores = []\n",
        "centers = list(range(41,65))\n",
        "\n",
        "for center in centers:\n",
        "    scores.append(get_dbscan_score(t2mdata7, center))\n",
        "    \n",
        "plt.plot(centers, scores, linestyle='--', marker='o', color='b');\n",
        "plt.xlabel('min_samples');\n",
        "plt.ylabel('Silhouette Score');\n",
        "plt.title('Silhouette Score vs. min_samples');\n",
        "\n",
        "df3 = pd.DataFrame(centers,columns=['min_samples'])\n",
        "df3['scores'] = scores\n",
        "df4 = df3[df3.scores == df3.scores.max()]\n",
        "print('Optimal number of min_samples based on silhouette score:', df4['min_samples'].tolist())"
      ],
      "metadata": {
        "colab": {
          "base_uri": "https://localhost:8080/",
          "height": 313
        },
        "id": "wiTL21-cvsgJ",
        "outputId": "e7a0f9ea-da1d-466a-cf12-e358f8f53590"
      },
      "execution_count": null,
      "outputs": [
        {
          "output_type": "stream",
          "name": "stdout",
          "text": [
            "Optimal number of min_samples based on silhouette score: [49]\n"
          ]
        },
        {
          "output_type": "display_data",
          "data": {
            "text/plain": [
              "<Figure size 432x288 with 1 Axes>"
            ],
            "image/png": "[encoded data removed]"
          },
          "metadata": {
            "needs_background": "light"
          }
        }
      ]
    },
    {
      "cell_type": "markdown",
      "metadata": {
        "id": "afyK9cg8EsFR"
      },
      "source": [
        "#Conclusion"
      ]
    },
    {
      "cell_type": "markdown",
      "metadata": {
        "id": "lXPp7UGO5BE1"
      },
      "source": [
        "I am getting better results after I reduce the size of map in the data taking all the vairables into considereation. But when I tried taking a single variable(t2m) the results were not promising.\n",
        "\n",
        "* Possible solution \n",
        "    * Maybe a combination of different variables or a selected variable with a reduced map size would give better results.\n",
        "\n",
        "* Hyperparameter Tuning :\n",
        "    * I felt that there was a need for trial and error method for bigger data . \n",
        "    * It’s extremely sensitive to the hyperparameters. A slight change in hyperparameters can lead to a drastic change in the outcome.\n",
        "\n",
        "* Possible Reasons why there was no result\n",
        "  * In some cases, determining an appropriate distance of neighborhood (eps) is not easy and it requires domain knowledge. If clusters are very different in terms of in-cluster densities, DBSCAN is not well suited to define clusters. \n",
        "\n",
        "  * This  can happen when the dataset contains clusters having different density, and the outcome you have obtained arise when the high density clusters are nested inside the low density ones.\n",
        "\n",
        "  * A large number of points may be considered as noise due\n",
        "to lack of significant neighbourhood, in terms of global "
      ]
    },
    {
      "cell_type": "markdown",
      "source": [
        "#Possible Future Work\n",
        "We can try dbscan with every other variables, or implement dimensionality reduction (PCA). "
      ],
      "metadata": {
        "id": "lqPJGgNpxL3l"
      }
    },
    {
      "cell_type": "markdown",
      "source": [
        "#References\n",
        "\n",
        "\n",
        "1. https://towardsdatascience.com/k-means-dbscan-gmm-agglomerative-clustering-mastering-the-popular-models-in-a-segmentation-c891a3818e29\n",
        "\n",
        "2.   https://www.kaggle.com/code/tanmaymane18/nearestneighbors-to-find-optimal-eps-in-dbscan/notebook\n",
        "\n",
        "3. https://medium.com/@mohantysandip/a-step-by-step-approach-to-solve-dbscan-algorithms-by-tuning-its-hyper-parameters-93e693a91289\n",
        "\n",
        "4. https://machinelearningknowledge.ai/tutorial-for-dbscan-clustering-in-python-sklearn/\n",
        "\n",
        "5. http://www.sefidian.com/2020/12/18/how-to-determine-epsilon-and-minpts-parameters-of-dbscan-clustering/\n",
        "\n",
        "6. "
      ],
      "metadata": {
        "id": "GYIvWZuR30Vu"
      }
    }
  ],
  "metadata": {
    "colab": {
      "collapsed_sections": [],
      "name": "DBSCAN FINAL .ipynb",
      "provenance": []
    },
    "kernelspec": {
      "display_name": "Python 3",
      "name": "python3"
    },
    "language_info": {
      "name": "python"
    }
  },
  "nbformat": 4,
  "nbformat_minor": 0
}