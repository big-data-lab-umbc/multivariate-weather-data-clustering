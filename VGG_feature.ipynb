{
 "cells": [
  {
   "cell_type": "code",
   "execution_count": 17,
   "metadata": {},
   "outputs": [],
   "source": [
    "import torch.nn as nn\n",
    "import torch.nn.functional as F\n",
    "import torch\n",
    "from torchvision.models import vgg19\n",
    "from PIL import Image\n",
    "\n",
    "import argparse\n",
    "import os\n",
    "import numpy as np\n",
    "import math\n",
    "import itertools\n",
    "import sys\n",
    "\n",
    "import torchvision.transforms as transforms\n",
    "from torchvision.utils import save_image, make_grid\n",
    "\n",
    "from torch.utils.data import DataLoader\n",
    "from torch.autograd import Variable\n",
    "\n",
    "import torch.nn as nn\n",
    "import torch.nn.functional as F\n",
    "import torch"
   ]
  },
  {
   "cell_type": "code",
   "execution_count": 6,
   "metadata": {},
   "outputs": [],
   "source": [
    "# Use cuda\n",
    "cuda = torch.cuda.is_available()\n",
    "# torch.cuda.set_device(2)"
   ]
  },
  {
   "cell_type": "code",
   "execution_count": 26,
   "metadata": {},
   "outputs": [],
   "source": [
    "# Define vgg19 feature extractor\n",
    "class FeatureExtractor(nn.Module):\n",
    "    def __init__(self):\n",
    "        super(FeatureExtractor, self).__init__()\n",
    "        vgg19_model = vgg19(pretrained=True)\n",
    "        self.feature_extractor = nn.Sequential(*list(vgg19_model.features.children())[:2])\n",
    "\n",
    "    def forward(self, img):\n",
    "        return self.feature_extractor(img)"
   ]
  },
  {
   "cell_type": "code",
   "execution_count": 3,
   "metadata": {},
   "outputs": [],
   "source": [
    "feature_extractor = FeatureExtractor()\n",
    "# Set feature extractor to inference mode\n",
    "feature_extractor.eval()\n",
    "if cuda:\n",
    "    feature_extractor = feature_extractor.cuda()\n"
   ]
  },
  {
   "cell_type": "code",
   "execution_count": 15,
   "metadata": {},
   "outputs": [],
   "source": [
    "# Load a image and transfer it to torch.tensor format\n",
    "img_transform = transforms.Compose(\n",
    "            [\n",
    "                transforms.ToTensor(),\n",
    "                transforms.Normalize(0.5, 0.5),\n",
    "            ]\n",
    "        )\n",
    "\n",
    "img = Image.open('/home/ubuntu/super_resolution/PyTorch-GAN/implementations/srgan/50799.png')\n",
    "img_1 = img_transform(img)"
   ]
  },
  {
   "cell_type": "code",
   "execution_count": null,
   "metadata": {},
   "outputs": [],
   "source": [
    "# Transfer the image to torch.cuda.tensor format to use cuda (if cuda is not used, then delete related code where cuda is used)\n",
    "Tensor = torch.cuda.FloatTensor if cuda else torch.Tensor\n",
    "img_1 = img_1.type(Tensor)"
   ]
  },
  {
   "cell_type": "code",
   "execution_count": 28,
   "metadata": {},
   "outputs": [
    {
     "data": {
      "text/plain": [
       "tensor([[[0.0000, 0.0000, 0.0000,  ..., 0.0000, 0.0000, 0.0000],\n",
       "         [0.0000, 0.0000, 0.0000,  ..., 0.0000, 0.0000, 0.0000],\n",
       "         [0.0000, 0.0000, 0.0000,  ..., 0.0000, 0.0000, 0.0000],\n",
       "         ...,\n",
       "         [0.0000, 0.0000, 0.0000,  ..., 0.0000, 0.0000, 0.0000],\n",
       "         [0.0000, 0.0000, 0.0000,  ..., 0.0000, 0.0000, 0.0000],\n",
       "         [0.0000, 0.0000, 0.0000,  ..., 0.0000, 0.0000, 0.0000]],\n",
       "\n",
       "        [[1.2252, 0.0000, 0.0000,  ..., 0.0000, 0.0000, 0.0000],\n",
       "         [2.9541, 0.0000, 1.4157,  ..., 4.5807, 2.4732, 0.0000],\n",
       "         [2.9541, 0.0000, 0.0000,  ..., 4.9901, 4.0407, 0.0000],\n",
       "         ...,\n",
       "         [2.9541, 0.0000, 0.0000,  ..., 0.4021, 1.7186, 0.0000],\n",
       "         [2.9541, 0.0000, 0.0000,  ..., 0.1869, 0.8947, 0.0000],\n",
       "         [3.7617, 2.2921, 2.2921,  ..., 2.2921, 2.2921, 0.2020]],\n",
       "\n",
       "        [[0.0000, 0.0000, 0.0000,  ..., 0.0000, 0.0000, 0.0000],\n",
       "         [0.0000, 0.0000, 0.0000,  ..., 0.0000, 0.0000, 0.0000],\n",
       "         [0.0000, 0.0000, 0.0000,  ..., 0.0000, 0.0000, 0.0000],\n",
       "         ...,\n",
       "         [0.0000, 0.0000, 0.0000,  ..., 0.0000, 0.0000, 0.0000],\n",
       "         [0.0000, 0.0000, 0.0000,  ..., 0.0000, 0.0000, 0.0000],\n",
       "         [0.0000, 0.0000, 0.0000,  ..., 0.0000, 0.0000, 0.0000]],\n",
       "\n",
       "        ...,\n",
       "\n",
       "        [[0.0000, 0.0000, 0.0000,  ..., 0.0000, 0.0000, 0.3504],\n",
       "         [0.0000, 0.0437, 0.0000,  ..., 0.0000, 0.0000, 0.3598],\n",
       "         [0.0000, 0.4213, 0.1009,  ..., 0.0000, 0.0000, 0.3598],\n",
       "         ...,\n",
       "         [0.0000, 0.1676, 0.0000,  ..., 0.0000, 0.0000, 0.3598],\n",
       "         [0.0000, 0.0000, 0.0000,  ..., 0.0000, 0.0000, 0.3598],\n",
       "         [0.0000, 0.0000, 0.0000,  ..., 0.0000, 0.0000, 0.1961]],\n",
       "\n",
       "        [[0.8155, 1.4469, 1.4469,  ..., 1.4469, 1.4469, 1.6273],\n",
       "         [0.0388, 0.5047, 1.0076,  ..., 1.3436, 0.6749, 0.4497],\n",
       "         [0.0388, 0.5869, 0.0000,  ..., 0.0000, 0.0000, 0.4497],\n",
       "         ...,\n",
       "         [0.0388, 0.3295, 0.1361,  ..., 0.0000, 0.0000, 0.4497],\n",
       "         [0.0388, 0.2744, 1.0567,  ..., 1.4739, 0.6584, 0.4497],\n",
       "         [0.5240, 1.0067, 1.0067,  ..., 1.0067, 1.0067, 0.9976]],\n",
       "\n",
       "        [[0.0000, 0.0950, 0.0950,  ..., 0.0950, 0.0950, 0.0000],\n",
       "         [0.0000, 0.4897, 1.0905,  ..., 0.6171, 0.0000, 0.0000],\n",
       "         [0.0000, 0.0000, 1.6478,  ..., 1.7714, 0.0000, 0.0000],\n",
       "         ...,\n",
       "         [0.0000, 0.0000, 0.6833,  ..., 1.0083, 0.0000, 0.0000],\n",
       "         [0.0000, 0.0693, 0.3097,  ..., 0.4016, 0.1510, 0.0000],\n",
       "         [0.0369, 0.5955, 0.5955,  ..., 0.5955, 0.5955, 0.0000]]],\n",
       "       device='cuda:0', grad_fn=<AsStridedBackward0>)"
      ]
     },
     "execution_count": 28,
     "metadata": {},
     "output_type": "execute_result"
    }
   ],
   "source": [
    "# Generate features\n",
    "gen_features = feature_extractor(img_1)\n",
    "gen_features"
   ]
  }
 ],
 "metadata": {
  "interpreter": {
   "hash": "a9966e83a916c80a32615d54662d086c6fc3bc99780d17bb1f79ba4074ca9b94"
  },
  "kernelspec": {
   "display_name": "Python 3.7.12 ('srgan': conda)",
   "language": "python",
   "name": "python3"
  },
  "language_info": {
   "codemirror_mode": {
    "name": "ipython",
    "version": 3
   },
   "file_extension": ".py",
   "mimetype": "text/x-python",
   "name": "python",
   "nbconvert_exporter": "python",
   "pygments_lexer": "ipython3",
   "version": "3.7.12"
  },
  "orig_nbformat": 4
 },
 "nbformat": 4,
 "nbformat_minor": 2
}
